{
  "nbformat": 4,
  "nbformat_minor": 0,
  "metadata": {
    "colab": {
      "name": "NETFLIX MOVIES AND TV SHOWS CLUSTERING.ipynb",
      "provenance": [],
      "collapsed_sections": [],
      "include_colab_link": true
    },
    "kernelspec": {
      "name": "python3",
      "display_name": "Python 3"
    },
    "language_info": {
      "name": "python"
    }
  },
  "cells": [
    {
      "cell_type": "markdown",
      "metadata": {
        "id": "view-in-github",
        "colab_type": "text"
      },
      "source": [
        "<a href=\"https://colab.research.google.com/github/vinayakpotdar2114/Capstone-Project-4-Netflix-Movies-and-TV-Shows-Clustering/blob/main/NETFLIX_MOVIES_AND_TV_SHOWS_CLUSTERING.ipynb\" target=\"_parent\"><img src=\"https://colab.research.google.com/assets/colab-badge.svg\" alt=\"Open In Colab\"/></a>"
      ]
    },
    {
      "cell_type": "markdown",
      "metadata": {
        "id": "LGcl5Bv9ed6u"
      },
      "source": [
        "# **Problem Statement**"
      ]
    },
    {
      "cell_type": "markdown",
      "metadata": {
        "id": "8M5kyFaVjzXk"
      },
      "source": [
        "This dataset consists of tv shows and movies available on Netflix as of 2019. The dataset is collected from Flixable which is a third-party Netflix search engine.\n",
        "\n",
        "In 2018, they released an interesting report which shows that the number of TV shows on Netflix has nearly tripled since 2010. The streaming service’s number of movies has decreased by more than 2,000 titles since 2010, while its number of TV shows has nearly tripled. It will be interesting to explore what all other insights can be obtained from the same dataset.\n",
        "\n",
        "Integrating this dataset with other external datasets such as IMDB ratings, rotten tomatoes can also provide many interesting findings."
      ]
    },
    {
      "cell_type": "markdown",
      "metadata": {
        "id": "tLx5cJO8hzb1"
      },
      "source": [
        "## <b>In this  project, you are required to do </b>\n",
        "1. Exploratory Data Analysis \n",
        "\n",
        "2. Understanding what type content is available in different countries\n",
        "\n",
        "3. Is Netflix has increasingly focusing on TV rather than movies in recent years.\n",
        "4. Clustering similar content by matching text-based features\n",
        "\n"
      ]
    },
    {
      "cell_type": "markdown",
      "metadata": {
        "id": "AzGDqdC4fZ-b"
      },
      "source": [
        "# **Attribute Information**"
      ]
    },
    {
      "cell_type": "markdown",
      "metadata": {
        "id": "jhfLYargscGV"
      },
      "source": [
        "1. show_id : Unique ID for every Movie / Tv Show\n",
        "\n",
        "2. type : Identifier - A Movie or TV Show\n",
        "\n",
        "3. title : Title of the Movie / Tv Show\n",
        "\n",
        "4. director : Director of the Movie\n",
        "\n",
        "5. cast : Actors involved in the movie / show\n",
        "\n",
        "6. country : Country where the movie / show was produced\n",
        "\n",
        "7. date_added : Date it was added on Netflix\n",
        "\n",
        "8. release_year : Actual Releaseyear of the movie / show\n",
        "\n",
        "9. rating : TV Rating of the movie / show\n",
        "\n",
        "10. duration : Total Duration - in minutes or number of seasons\n",
        "\n",
        "11. listed_in : Genere\n",
        "\n",
        "12. description: The Summary description"
      ]
    },
    {
      "cell_type": "code",
      "source": [
        "# importing the required libraries.\n",
        "\n",
        "import numpy as np\n",
        "import pandas as pd\n",
        "import matplotlib.pyplot as plt\n",
        "import seaborn as sns\n",
        "%matplotlib inline"
      ],
      "metadata": {
        "id": "PVyfUY7immak"
      },
      "execution_count": 1,
      "outputs": []
    },
    {
      "cell_type": "code",
      "source": [
        "from google.colab import drive\n",
        "drive.mount('/content/drive')"
      ],
      "metadata": {
        "colab": {
          "base_uri": "https://localhost:8080/"
        },
        "id": "HfAQ8_NPm-eN",
        "outputId": "e1fe041c-1111-49f8-b06f-8944ec4ce9d1"
      },
      "execution_count": 2,
      "outputs": [
        {
          "output_type": "stream",
          "name": "stdout",
          "text": [
            "Mounted at /content/drive\n"
          ]
        }
      ]
    },
    {
      "cell_type": "code",
      "source": [
        "# Loading the dataset to start working with it.\n",
        "data=pd.read_csv(r\"/content/drive/MyDrive/Colab Notebooks/NETFLIX MOVIES AND TV SHOWS CLUSTERING - Potdar Vinayak/NETFLIX MOVIES AND TV SHOWS CLUSTERING.csv\",encoding='latin1')"
      ],
      "metadata": {
        "id": "C_wAGGzhm-2j"
      },
      "execution_count": 3,
      "outputs": []
    },
    {
      "cell_type": "markdown",
      "source": [
        "# Data Overview"
      ],
      "metadata": {
        "id": "ajzubVgoovRE"
      }
    },
    {
      "cell_type": "code",
      "source": [
        "data.head()"
      ],
      "metadata": {
        "colab": {
          "base_uri": "https://localhost:8080/",
          "height": 337
        },
        "id": "cipkxkO0njwi",
        "outputId": "9dd782d1-1843-4cad-84bd-3203d7a0e7a5"
      },
      "execution_count": 4,
      "outputs": [
        {
          "output_type": "execute_result",
          "data": {
            "text/plain": [
              "  show_id     type  title           director  \\\n",
              "0      s1  TV Show     3%                NaN   \n",
              "1      s2    Movie   7:19  Jorge Michel Grau   \n",
              "2      s3    Movie  23:59       Gilbert Chan   \n",
              "3      s4    Movie      9        Shane Acker   \n",
              "4      s5    Movie     21     Robert Luketic   \n",
              "\n",
              "                                                cast        country  \\\n",
              "0  JoÃ£o Miguel, Bianca Comparato, Michel Gomes, ...         Brazil   \n",
              "1  DemiÃ¡n Bichir, HÃ©ctor Bonilla, Oscar Serrano...         Mexico   \n",
              "2  Tedd Chan, Stella Chung, Henley Hii, Lawrence ...      Singapore   \n",
              "3  Elijah Wood, John C. Reilly, Jennifer Connelly...  United States   \n",
              "4  Jim Sturgess, Kevin Spacey, Kate Bosworth, Aar...  United States   \n",
              "\n",
              "          date_added  release_year rating   duration  \\\n",
              "0    August 14, 2020          2020  TV-MA  4 Seasons   \n",
              "1  December 23, 2016          2016  TV-MA     93 min   \n",
              "2  December 20, 2018          2011      R     78 min   \n",
              "3  November 16, 2017          2009  PG-13     80 min   \n",
              "4    January 1, 2020          2008  PG-13    123 min   \n",
              "\n",
              "                                           listed_in  \\\n",
              "0  International TV Shows, TV Dramas, TV Sci-Fi &...   \n",
              "1                       Dramas, International Movies   \n",
              "2                Horror Movies, International Movies   \n",
              "3  Action & Adventure, Independent Movies, Sci-Fi...   \n",
              "4                                             Dramas   \n",
              "\n",
              "                                         description  \n",
              "0  In a future where the elite inhabit an island ...  \n",
              "1  After a devastating earthquake hits Mexico Cit...  \n",
              "2  When an army recruit is found dead, his fellow...  \n",
              "3  In a postapocalyptic world, rag-doll robots hi...  \n",
              "4  A brilliant group of students become card-coun...  "
            ],
            "text/html": [
              "\n",
              "  <div id=\"df-99eb456f-70dc-4c3f-9f30-780000eeba96\">\n",
              "    <div class=\"colab-df-container\">\n",
              "      <div>\n",
              "<style scoped>\n",
              "    .dataframe tbody tr th:only-of-type {\n",
              "        vertical-align: middle;\n",
              "    }\n",
              "\n",
              "    .dataframe tbody tr th {\n",
              "        vertical-align: top;\n",
              "    }\n",
              "\n",
              "    .dataframe thead th {\n",
              "        text-align: right;\n",
              "    }\n",
              "</style>\n",
              "<table border=\"1\" class=\"dataframe\">\n",
              "  <thead>\n",
              "    <tr style=\"text-align: right;\">\n",
              "      <th></th>\n",
              "      <th>show_id</th>\n",
              "      <th>type</th>\n",
              "      <th>title</th>\n",
              "      <th>director</th>\n",
              "      <th>cast</th>\n",
              "      <th>country</th>\n",
              "      <th>date_added</th>\n",
              "      <th>release_year</th>\n",
              "      <th>rating</th>\n",
              "      <th>duration</th>\n",
              "      <th>listed_in</th>\n",
              "      <th>description</th>\n",
              "    </tr>\n",
              "  </thead>\n",
              "  <tbody>\n",
              "    <tr>\n",
              "      <th>0</th>\n",
              "      <td>s1</td>\n",
              "      <td>TV Show</td>\n",
              "      <td>3%</td>\n",
              "      <td>NaN</td>\n",
              "      <td>JoÃ£o Miguel, Bianca Comparato, Michel Gomes, ...</td>\n",
              "      <td>Brazil</td>\n",
              "      <td>August 14, 2020</td>\n",
              "      <td>2020</td>\n",
              "      <td>TV-MA</td>\n",
              "      <td>4 Seasons</td>\n",
              "      <td>International TV Shows, TV Dramas, TV Sci-Fi &amp;...</td>\n",
              "      <td>In a future where the elite inhabit an island ...</td>\n",
              "    </tr>\n",
              "    <tr>\n",
              "      <th>1</th>\n",
              "      <td>s2</td>\n",
              "      <td>Movie</td>\n",
              "      <td>7:19</td>\n",
              "      <td>Jorge Michel Grau</td>\n",
              "      <td>DemiÃ¡n Bichir, HÃ©ctor Bonilla, Oscar Serrano...</td>\n",
              "      <td>Mexico</td>\n",
              "      <td>December 23, 2016</td>\n",
              "      <td>2016</td>\n",
              "      <td>TV-MA</td>\n",
              "      <td>93 min</td>\n",
              "      <td>Dramas, International Movies</td>\n",
              "      <td>After a devastating earthquake hits Mexico Cit...</td>\n",
              "    </tr>\n",
              "    <tr>\n",
              "      <th>2</th>\n",
              "      <td>s3</td>\n",
              "      <td>Movie</td>\n",
              "      <td>23:59</td>\n",
              "      <td>Gilbert Chan</td>\n",
              "      <td>Tedd Chan, Stella Chung, Henley Hii, Lawrence ...</td>\n",
              "      <td>Singapore</td>\n",
              "      <td>December 20, 2018</td>\n",
              "      <td>2011</td>\n",
              "      <td>R</td>\n",
              "      <td>78 min</td>\n",
              "      <td>Horror Movies, International Movies</td>\n",
              "      <td>When an army recruit is found dead, his fellow...</td>\n",
              "    </tr>\n",
              "    <tr>\n",
              "      <th>3</th>\n",
              "      <td>s4</td>\n",
              "      <td>Movie</td>\n",
              "      <td>9</td>\n",
              "      <td>Shane Acker</td>\n",
              "      <td>Elijah Wood, John C. Reilly, Jennifer Connelly...</td>\n",
              "      <td>United States</td>\n",
              "      <td>November 16, 2017</td>\n",
              "      <td>2009</td>\n",
              "      <td>PG-13</td>\n",
              "      <td>80 min</td>\n",
              "      <td>Action &amp; Adventure, Independent Movies, Sci-Fi...</td>\n",
              "      <td>In a postapocalyptic world, rag-doll robots hi...</td>\n",
              "    </tr>\n",
              "    <tr>\n",
              "      <th>4</th>\n",
              "      <td>s5</td>\n",
              "      <td>Movie</td>\n",
              "      <td>21</td>\n",
              "      <td>Robert Luketic</td>\n",
              "      <td>Jim Sturgess, Kevin Spacey, Kate Bosworth, Aar...</td>\n",
              "      <td>United States</td>\n",
              "      <td>January 1, 2020</td>\n",
              "      <td>2008</td>\n",
              "      <td>PG-13</td>\n",
              "      <td>123 min</td>\n",
              "      <td>Dramas</td>\n",
              "      <td>A brilliant group of students become card-coun...</td>\n",
              "    </tr>\n",
              "  </tbody>\n",
              "</table>\n",
              "</div>\n",
              "      <button class=\"colab-df-convert\" onclick=\"convertToInteractive('df-99eb456f-70dc-4c3f-9f30-780000eeba96')\"\n",
              "              title=\"Convert this dataframe to an interactive table.\"\n",
              "              style=\"display:none;\">\n",
              "        \n",
              "  <svg xmlns=\"http://www.w3.org/2000/svg\" height=\"24px\"viewBox=\"0 0 24 24\"\n",
              "       width=\"24px\">\n",
              "    <path d=\"M0 0h24v24H0V0z\" fill=\"none\"/>\n",
              "    <path d=\"M18.56 5.44l.94 2.06.94-2.06 2.06-.94-2.06-.94-.94-2.06-.94 2.06-2.06.94zm-11 1L8.5 8.5l.94-2.06 2.06-.94-2.06-.94L8.5 2.5l-.94 2.06-2.06.94zm10 10l.94 2.06.94-2.06 2.06-.94-2.06-.94-.94-2.06-.94 2.06-2.06.94z\"/><path d=\"M17.41 7.96l-1.37-1.37c-.4-.4-.92-.59-1.43-.59-.52 0-1.04.2-1.43.59L10.3 9.45l-7.72 7.72c-.78.78-.78 2.05 0 2.83L4 21.41c.39.39.9.59 1.41.59.51 0 1.02-.2 1.41-.59l7.78-7.78 2.81-2.81c.8-.78.8-2.07 0-2.86zM5.41 20L4 18.59l7.72-7.72 1.47 1.35L5.41 20z\"/>\n",
              "  </svg>\n",
              "      </button>\n",
              "      \n",
              "  <style>\n",
              "    .colab-df-container {\n",
              "      display:flex;\n",
              "      flex-wrap:wrap;\n",
              "      gap: 12px;\n",
              "    }\n",
              "\n",
              "    .colab-df-convert {\n",
              "      background-color: #E8F0FE;\n",
              "      border: none;\n",
              "      border-radius: 50%;\n",
              "      cursor: pointer;\n",
              "      display: none;\n",
              "      fill: #1967D2;\n",
              "      height: 32px;\n",
              "      padding: 0 0 0 0;\n",
              "      width: 32px;\n",
              "    }\n",
              "\n",
              "    .colab-df-convert:hover {\n",
              "      background-color: #E2EBFA;\n",
              "      box-shadow: 0px 1px 2px rgba(60, 64, 67, 0.3), 0px 1px 3px 1px rgba(60, 64, 67, 0.15);\n",
              "      fill: #174EA6;\n",
              "    }\n",
              "\n",
              "    [theme=dark] .colab-df-convert {\n",
              "      background-color: #3B4455;\n",
              "      fill: #D2E3FC;\n",
              "    }\n",
              "\n",
              "    [theme=dark] .colab-df-convert:hover {\n",
              "      background-color: #434B5C;\n",
              "      box-shadow: 0px 1px 3px 1px rgba(0, 0, 0, 0.15);\n",
              "      filter: drop-shadow(0px 1px 2px rgba(0, 0, 0, 0.3));\n",
              "      fill: #FFFFFF;\n",
              "    }\n",
              "  </style>\n",
              "\n",
              "      <script>\n",
              "        const buttonEl =\n",
              "          document.querySelector('#df-99eb456f-70dc-4c3f-9f30-780000eeba96 button.colab-df-convert');\n",
              "        buttonEl.style.display =\n",
              "          google.colab.kernel.accessAllowed ? 'block' : 'none';\n",
              "\n",
              "        async function convertToInteractive(key) {\n",
              "          const element = document.querySelector('#df-99eb456f-70dc-4c3f-9f30-780000eeba96');\n",
              "          const dataTable =\n",
              "            await google.colab.kernel.invokeFunction('convertToInteractive',\n",
              "                                                     [key], {});\n",
              "          if (!dataTable) return;\n",
              "\n",
              "          const docLinkHtml = 'Like what you see? Visit the ' +\n",
              "            '<a target=\"_blank\" href=https://colab.research.google.com/notebooks/data_table.ipynb>data table notebook</a>'\n",
              "            + ' to learn more about interactive tables.';\n",
              "          element.innerHTML = '';\n",
              "          dataTable['output_type'] = 'display_data';\n",
              "          await google.colab.output.renderOutput(dataTable, element);\n",
              "          const docLink = document.createElement('div');\n",
              "          docLink.innerHTML = docLinkHtml;\n",
              "          element.appendChild(docLink);\n",
              "        }\n",
              "      </script>\n",
              "    </div>\n",
              "  </div>\n",
              "  "
            ]
          },
          "metadata": {},
          "execution_count": 4
        }
      ]
    },
    {
      "cell_type": "code",
      "source": [
        "data.tail()"
      ],
      "metadata": {
        "colab": {
          "base_uri": "https://localhost:8080/",
          "height": 424
        },
        "id": "hZedwwhKnlB5",
        "outputId": "83ccfa4d-860f-43a2-8a81-06e30fa705fe"
      },
      "execution_count": 5,
      "outputs": [
        {
          "output_type": "execute_result",
          "data": {
            "text/plain": [
              "     show_id     type                                    title     director  \\\n",
              "7782   s7783    Movie                                     Zozo  Josef Fares   \n",
              "7783   s7784    Movie                                   Zubaan  Mozez Singh   \n",
              "7784   s7785    Movie                        Zulu Man in Japan          NaN   \n",
              "7785   s7786  TV Show                    Zumbo's Just Desserts          NaN   \n",
              "7786   s7787    Movie  ZZ TOP: THAT LITTLE OL' BAND FROM TEXAS     Sam Dunn   \n",
              "\n",
              "                                                   cast  \\\n",
              "7782  Imad Creidi, Antoinette Turk, Elias Gergi, Car...   \n",
              "7783  Vicky Kaushal, Sarah-Jane Dias, Raaghav Chanan...   \n",
              "7784                                            Nasty C   \n",
              "7785                         Adriano Zumbo, Rachel Khoo   \n",
              "7786                                                NaN   \n",
              "\n",
              "                                                country          date_added  \\\n",
              "7782  Sweden, Czech Republic, United Kingdom, Denmar...    October 19, 2020   \n",
              "7783                                              India       March 2, 2019   \n",
              "7784                                                NaN  September 25, 2020   \n",
              "7785                                          Australia    October 31, 2020   \n",
              "7786              United Kingdom, Canada, United States       March 1, 2020   \n",
              "\n",
              "      release_year rating  duration  \\\n",
              "7782          2005  TV-MA    99 min   \n",
              "7783          2015  TV-14   111 min   \n",
              "7784          2019  TV-MA    44 min   \n",
              "7785          2019  TV-PG  1 Season   \n",
              "7786          2019  TV-MA    90 min   \n",
              "\n",
              "                                              listed_in  \\\n",
              "7782                       Dramas, International Movies   \n",
              "7783     Dramas, International Movies, Music & Musicals   \n",
              "7784  Documentaries, International Movies, Music & M...   \n",
              "7785                 International TV Shows, Reality TV   \n",
              "7786                    Documentaries, Music & Musicals   \n",
              "\n",
              "                                            description  \n",
              "7782  When Lebanon's Civil War deprives Zozo of his ...  \n",
              "7783  A scrappy but poor boy worms his way into a ty...  \n",
              "7784  In this documentary, South African rapper Nast...  \n",
              "7785  Dessert wizard Adriano Zumbo looks for the nex...  \n",
              "7786  This documentary delves into the mystique behi...  "
            ],
            "text/html": [
              "\n",
              "  <div id=\"df-304a4588-dc41-478f-b609-f9bc5d2e28c6\">\n",
              "    <div class=\"colab-df-container\">\n",
              "      <div>\n",
              "<style scoped>\n",
              "    .dataframe tbody tr th:only-of-type {\n",
              "        vertical-align: middle;\n",
              "    }\n",
              "\n",
              "    .dataframe tbody tr th {\n",
              "        vertical-align: top;\n",
              "    }\n",
              "\n",
              "    .dataframe thead th {\n",
              "        text-align: right;\n",
              "    }\n",
              "</style>\n",
              "<table border=\"1\" class=\"dataframe\">\n",
              "  <thead>\n",
              "    <tr style=\"text-align: right;\">\n",
              "      <th></th>\n",
              "      <th>show_id</th>\n",
              "      <th>type</th>\n",
              "      <th>title</th>\n",
              "      <th>director</th>\n",
              "      <th>cast</th>\n",
              "      <th>country</th>\n",
              "      <th>date_added</th>\n",
              "      <th>release_year</th>\n",
              "      <th>rating</th>\n",
              "      <th>duration</th>\n",
              "      <th>listed_in</th>\n",
              "      <th>description</th>\n",
              "    </tr>\n",
              "  </thead>\n",
              "  <tbody>\n",
              "    <tr>\n",
              "      <th>7782</th>\n",
              "      <td>s7783</td>\n",
              "      <td>Movie</td>\n",
              "      <td>Zozo</td>\n",
              "      <td>Josef Fares</td>\n",
              "      <td>Imad Creidi, Antoinette Turk, Elias Gergi, Car...</td>\n",
              "      <td>Sweden, Czech Republic, United Kingdom, Denmar...</td>\n",
              "      <td>October 19, 2020</td>\n",
              "      <td>2005</td>\n",
              "      <td>TV-MA</td>\n",
              "      <td>99 min</td>\n",
              "      <td>Dramas, International Movies</td>\n",
              "      <td>When Lebanon's Civil War deprives Zozo of his ...</td>\n",
              "    </tr>\n",
              "    <tr>\n",
              "      <th>7783</th>\n",
              "      <td>s7784</td>\n",
              "      <td>Movie</td>\n",
              "      <td>Zubaan</td>\n",
              "      <td>Mozez Singh</td>\n",
              "      <td>Vicky Kaushal, Sarah-Jane Dias, Raaghav Chanan...</td>\n",
              "      <td>India</td>\n",
              "      <td>March 2, 2019</td>\n",
              "      <td>2015</td>\n",
              "      <td>TV-14</td>\n",
              "      <td>111 min</td>\n",
              "      <td>Dramas, International Movies, Music &amp; Musicals</td>\n",
              "      <td>A scrappy but poor boy worms his way into a ty...</td>\n",
              "    </tr>\n",
              "    <tr>\n",
              "      <th>7784</th>\n",
              "      <td>s7785</td>\n",
              "      <td>Movie</td>\n",
              "      <td>Zulu Man in Japan</td>\n",
              "      <td>NaN</td>\n",
              "      <td>Nasty C</td>\n",
              "      <td>NaN</td>\n",
              "      <td>September 25, 2020</td>\n",
              "      <td>2019</td>\n",
              "      <td>TV-MA</td>\n",
              "      <td>44 min</td>\n",
              "      <td>Documentaries, International Movies, Music &amp; M...</td>\n",
              "      <td>In this documentary, South African rapper Nast...</td>\n",
              "    </tr>\n",
              "    <tr>\n",
              "      <th>7785</th>\n",
              "      <td>s7786</td>\n",
              "      <td>TV Show</td>\n",
              "      <td>Zumbo's Just Desserts</td>\n",
              "      <td>NaN</td>\n",
              "      <td>Adriano Zumbo, Rachel Khoo</td>\n",
              "      <td>Australia</td>\n",
              "      <td>October 31, 2020</td>\n",
              "      <td>2019</td>\n",
              "      <td>TV-PG</td>\n",
              "      <td>1 Season</td>\n",
              "      <td>International TV Shows, Reality TV</td>\n",
              "      <td>Dessert wizard Adriano Zumbo looks for the nex...</td>\n",
              "    </tr>\n",
              "    <tr>\n",
              "      <th>7786</th>\n",
              "      <td>s7787</td>\n",
              "      <td>Movie</td>\n",
              "      <td>ZZ TOP: THAT LITTLE OL' BAND FROM TEXAS</td>\n",
              "      <td>Sam Dunn</td>\n",
              "      <td>NaN</td>\n",
              "      <td>United Kingdom, Canada, United States</td>\n",
              "      <td>March 1, 2020</td>\n",
              "      <td>2019</td>\n",
              "      <td>TV-MA</td>\n",
              "      <td>90 min</td>\n",
              "      <td>Documentaries, Music &amp; Musicals</td>\n",
              "      <td>This documentary delves into the mystique behi...</td>\n",
              "    </tr>\n",
              "  </tbody>\n",
              "</table>\n",
              "</div>\n",
              "      <button class=\"colab-df-convert\" onclick=\"convertToInteractive('df-304a4588-dc41-478f-b609-f9bc5d2e28c6')\"\n",
              "              title=\"Convert this dataframe to an interactive table.\"\n",
              "              style=\"display:none;\">\n",
              "        \n",
              "  <svg xmlns=\"http://www.w3.org/2000/svg\" height=\"24px\"viewBox=\"0 0 24 24\"\n",
              "       width=\"24px\">\n",
              "    <path d=\"M0 0h24v24H0V0z\" fill=\"none\"/>\n",
              "    <path d=\"M18.56 5.44l.94 2.06.94-2.06 2.06-.94-2.06-.94-.94-2.06-.94 2.06-2.06.94zm-11 1L8.5 8.5l.94-2.06 2.06-.94-2.06-.94L8.5 2.5l-.94 2.06-2.06.94zm10 10l.94 2.06.94-2.06 2.06-.94-2.06-.94-.94-2.06-.94 2.06-2.06.94z\"/><path d=\"M17.41 7.96l-1.37-1.37c-.4-.4-.92-.59-1.43-.59-.52 0-1.04.2-1.43.59L10.3 9.45l-7.72 7.72c-.78.78-.78 2.05 0 2.83L4 21.41c.39.39.9.59 1.41.59.51 0 1.02-.2 1.41-.59l7.78-7.78 2.81-2.81c.8-.78.8-2.07 0-2.86zM5.41 20L4 18.59l7.72-7.72 1.47 1.35L5.41 20z\"/>\n",
              "  </svg>\n",
              "      </button>\n",
              "      \n",
              "  <style>\n",
              "    .colab-df-container {\n",
              "      display:flex;\n",
              "      flex-wrap:wrap;\n",
              "      gap: 12px;\n",
              "    }\n",
              "\n",
              "    .colab-df-convert {\n",
              "      background-color: #E8F0FE;\n",
              "      border: none;\n",
              "      border-radius: 50%;\n",
              "      cursor: pointer;\n",
              "      display: none;\n",
              "      fill: #1967D2;\n",
              "      height: 32px;\n",
              "      padding: 0 0 0 0;\n",
              "      width: 32px;\n",
              "    }\n",
              "\n",
              "    .colab-df-convert:hover {\n",
              "      background-color: #E2EBFA;\n",
              "      box-shadow: 0px 1px 2px rgba(60, 64, 67, 0.3), 0px 1px 3px 1px rgba(60, 64, 67, 0.15);\n",
              "      fill: #174EA6;\n",
              "    }\n",
              "\n",
              "    [theme=dark] .colab-df-convert {\n",
              "      background-color: #3B4455;\n",
              "      fill: #D2E3FC;\n",
              "    }\n",
              "\n",
              "    [theme=dark] .colab-df-convert:hover {\n",
              "      background-color: #434B5C;\n",
              "      box-shadow: 0px 1px 3px 1px rgba(0, 0, 0, 0.15);\n",
              "      filter: drop-shadow(0px 1px 2px rgba(0, 0, 0, 0.3));\n",
              "      fill: #FFFFFF;\n",
              "    }\n",
              "  </style>\n",
              "\n",
              "      <script>\n",
              "        const buttonEl =\n",
              "          document.querySelector('#df-304a4588-dc41-478f-b609-f9bc5d2e28c6 button.colab-df-convert');\n",
              "        buttonEl.style.display =\n",
              "          google.colab.kernel.accessAllowed ? 'block' : 'none';\n",
              "\n",
              "        async function convertToInteractive(key) {\n",
              "          const element = document.querySelector('#df-304a4588-dc41-478f-b609-f9bc5d2e28c6');\n",
              "          const dataTable =\n",
              "            await google.colab.kernel.invokeFunction('convertToInteractive',\n",
              "                                                     [key], {});\n",
              "          if (!dataTable) return;\n",
              "\n",
              "          const docLinkHtml = 'Like what you see? Visit the ' +\n",
              "            '<a target=\"_blank\" href=https://colab.research.google.com/notebooks/data_table.ipynb>data table notebook</a>'\n",
              "            + ' to learn more about interactive tables.';\n",
              "          element.innerHTML = '';\n",
              "          dataTable['output_type'] = 'display_data';\n",
              "          await google.colab.output.renderOutput(dataTable, element);\n",
              "          const docLink = document.createElement('div');\n",
              "          docLink.innerHTML = docLinkHtml;\n",
              "          element.appendChild(docLink);\n",
              "        }\n",
              "      </script>\n",
              "    </div>\n",
              "  </div>\n",
              "  "
            ]
          },
          "metadata": {},
          "execution_count": 5
        }
      ]
    },
    {
      "cell_type": "code",
      "source": [
        "data.describe(include = \"all\")"
      ],
      "metadata": {
        "colab": {
          "base_uri": "https://localhost:8080/",
          "height": 456
        },
        "id": "cFb3Tqs3nmJ9",
        "outputId": "f907d431-3ab5-4b6c-dc31-567a56b7edd1"
      },
      "execution_count": 6,
      "outputs": [
        {
          "output_type": "execute_result",
          "data": {
            "text/plain": [
              "       show_id   type title                 director                cast  \\\n",
              "count     7787   7787  7787                     5398                7069   \n",
              "unique    7787      2  7787                     4049                6831   \n",
              "top         s1  Movie    3%  RaÃºl Campos, Jan Suter  David Attenborough   \n",
              "freq         1   5377     1                       18                  18   \n",
              "mean       NaN    NaN   NaN                      NaN                 NaN   \n",
              "std        NaN    NaN   NaN                      NaN                 NaN   \n",
              "min        NaN    NaN   NaN                      NaN                 NaN   \n",
              "25%        NaN    NaN   NaN                      NaN                 NaN   \n",
              "50%        NaN    NaN   NaN                      NaN                 NaN   \n",
              "75%        NaN    NaN   NaN                      NaN                 NaN   \n",
              "max        NaN    NaN   NaN                      NaN                 NaN   \n",
              "\n",
              "              country       date_added  release_year rating  duration  \\\n",
              "count            7280             7777   7787.000000   7780      7787   \n",
              "unique            681             1565           NaN     14       216   \n",
              "top     United States  January 1, 2020           NaN  TV-MA  1 Season   \n",
              "freq             2555              118           NaN   2863      1608   \n",
              "mean              NaN              NaN   2013.932580    NaN       NaN   \n",
              "std               NaN              NaN      8.757395    NaN       NaN   \n",
              "min               NaN              NaN   1925.000000    NaN       NaN   \n",
              "25%               NaN              NaN   2013.000000    NaN       NaN   \n",
              "50%               NaN              NaN   2017.000000    NaN       NaN   \n",
              "75%               NaN              NaN   2018.000000    NaN       NaN   \n",
              "max               NaN              NaN   2021.000000    NaN       NaN   \n",
              "\n",
              "            listed_in                                        description  \n",
              "count            7787                                               7787  \n",
              "unique            492                                               7769  \n",
              "top     Documentaries  Multiple women report their husbands as missin...  \n",
              "freq              334                                                  3  \n",
              "mean              NaN                                                NaN  \n",
              "std               NaN                                                NaN  \n",
              "min               NaN                                                NaN  \n",
              "25%               NaN                                                NaN  \n",
              "50%               NaN                                                NaN  \n",
              "75%               NaN                                                NaN  \n",
              "max               NaN                                                NaN  "
            ],
            "text/html": [
              "\n",
              "  <div id=\"df-98b97af3-8915-495e-bb4e-022600249ebe\">\n",
              "    <div class=\"colab-df-container\">\n",
              "      <div>\n",
              "<style scoped>\n",
              "    .dataframe tbody tr th:only-of-type {\n",
              "        vertical-align: middle;\n",
              "    }\n",
              "\n",
              "    .dataframe tbody tr th {\n",
              "        vertical-align: top;\n",
              "    }\n",
              "\n",
              "    .dataframe thead th {\n",
              "        text-align: right;\n",
              "    }\n",
              "</style>\n",
              "<table border=\"1\" class=\"dataframe\">\n",
              "  <thead>\n",
              "    <tr style=\"text-align: right;\">\n",
              "      <th></th>\n",
              "      <th>show_id</th>\n",
              "      <th>type</th>\n",
              "      <th>title</th>\n",
              "      <th>director</th>\n",
              "      <th>cast</th>\n",
              "      <th>country</th>\n",
              "      <th>date_added</th>\n",
              "      <th>release_year</th>\n",
              "      <th>rating</th>\n",
              "      <th>duration</th>\n",
              "      <th>listed_in</th>\n",
              "      <th>description</th>\n",
              "    </tr>\n",
              "  </thead>\n",
              "  <tbody>\n",
              "    <tr>\n",
              "      <th>count</th>\n",
              "      <td>7787</td>\n",
              "      <td>7787</td>\n",
              "      <td>7787</td>\n",
              "      <td>5398</td>\n",
              "      <td>7069</td>\n",
              "      <td>7280</td>\n",
              "      <td>7777</td>\n",
              "      <td>7787.000000</td>\n",
              "      <td>7780</td>\n",
              "      <td>7787</td>\n",
              "      <td>7787</td>\n",
              "      <td>7787</td>\n",
              "    </tr>\n",
              "    <tr>\n",
              "      <th>unique</th>\n",
              "      <td>7787</td>\n",
              "      <td>2</td>\n",
              "      <td>7787</td>\n",
              "      <td>4049</td>\n",
              "      <td>6831</td>\n",
              "      <td>681</td>\n",
              "      <td>1565</td>\n",
              "      <td>NaN</td>\n",
              "      <td>14</td>\n",
              "      <td>216</td>\n",
              "      <td>492</td>\n",
              "      <td>7769</td>\n",
              "    </tr>\n",
              "    <tr>\n",
              "      <th>top</th>\n",
              "      <td>s1</td>\n",
              "      <td>Movie</td>\n",
              "      <td>3%</td>\n",
              "      <td>RaÃºl Campos, Jan Suter</td>\n",
              "      <td>David Attenborough</td>\n",
              "      <td>United States</td>\n",
              "      <td>January 1, 2020</td>\n",
              "      <td>NaN</td>\n",
              "      <td>TV-MA</td>\n",
              "      <td>1 Season</td>\n",
              "      <td>Documentaries</td>\n",
              "      <td>Multiple women report their husbands as missin...</td>\n",
              "    </tr>\n",
              "    <tr>\n",
              "      <th>freq</th>\n",
              "      <td>1</td>\n",
              "      <td>5377</td>\n",
              "      <td>1</td>\n",
              "      <td>18</td>\n",
              "      <td>18</td>\n",
              "      <td>2555</td>\n",
              "      <td>118</td>\n",
              "      <td>NaN</td>\n",
              "      <td>2863</td>\n",
              "      <td>1608</td>\n",
              "      <td>334</td>\n",
              "      <td>3</td>\n",
              "    </tr>\n",
              "    <tr>\n",
              "      <th>mean</th>\n",
              "      <td>NaN</td>\n",
              "      <td>NaN</td>\n",
              "      <td>NaN</td>\n",
              "      <td>NaN</td>\n",
              "      <td>NaN</td>\n",
              "      <td>NaN</td>\n",
              "      <td>NaN</td>\n",
              "      <td>2013.932580</td>\n",
              "      <td>NaN</td>\n",
              "      <td>NaN</td>\n",
              "      <td>NaN</td>\n",
              "      <td>NaN</td>\n",
              "    </tr>\n",
              "    <tr>\n",
              "      <th>std</th>\n",
              "      <td>NaN</td>\n",
              "      <td>NaN</td>\n",
              "      <td>NaN</td>\n",
              "      <td>NaN</td>\n",
              "      <td>NaN</td>\n",
              "      <td>NaN</td>\n",
              "      <td>NaN</td>\n",
              "      <td>8.757395</td>\n",
              "      <td>NaN</td>\n",
              "      <td>NaN</td>\n",
              "      <td>NaN</td>\n",
              "      <td>NaN</td>\n",
              "    </tr>\n",
              "    <tr>\n",
              "      <th>min</th>\n",
              "      <td>NaN</td>\n",
              "      <td>NaN</td>\n",
              "      <td>NaN</td>\n",
              "      <td>NaN</td>\n",
              "      <td>NaN</td>\n",
              "      <td>NaN</td>\n",
              "      <td>NaN</td>\n",
              "      <td>1925.000000</td>\n",
              "      <td>NaN</td>\n",
              "      <td>NaN</td>\n",
              "      <td>NaN</td>\n",
              "      <td>NaN</td>\n",
              "    </tr>\n",
              "    <tr>\n",
              "      <th>25%</th>\n",
              "      <td>NaN</td>\n",
              "      <td>NaN</td>\n",
              "      <td>NaN</td>\n",
              "      <td>NaN</td>\n",
              "      <td>NaN</td>\n",
              "      <td>NaN</td>\n",
              "      <td>NaN</td>\n",
              "      <td>2013.000000</td>\n",
              "      <td>NaN</td>\n",
              "      <td>NaN</td>\n",
              "      <td>NaN</td>\n",
              "      <td>NaN</td>\n",
              "    </tr>\n",
              "    <tr>\n",
              "      <th>50%</th>\n",
              "      <td>NaN</td>\n",
              "      <td>NaN</td>\n",
              "      <td>NaN</td>\n",
              "      <td>NaN</td>\n",
              "      <td>NaN</td>\n",
              "      <td>NaN</td>\n",
              "      <td>NaN</td>\n",
              "      <td>2017.000000</td>\n",
              "      <td>NaN</td>\n",
              "      <td>NaN</td>\n",
              "      <td>NaN</td>\n",
              "      <td>NaN</td>\n",
              "    </tr>\n",
              "    <tr>\n",
              "      <th>75%</th>\n",
              "      <td>NaN</td>\n",
              "      <td>NaN</td>\n",
              "      <td>NaN</td>\n",
              "      <td>NaN</td>\n",
              "      <td>NaN</td>\n",
              "      <td>NaN</td>\n",
              "      <td>NaN</td>\n",
              "      <td>2018.000000</td>\n",
              "      <td>NaN</td>\n",
              "      <td>NaN</td>\n",
              "      <td>NaN</td>\n",
              "      <td>NaN</td>\n",
              "    </tr>\n",
              "    <tr>\n",
              "      <th>max</th>\n",
              "      <td>NaN</td>\n",
              "      <td>NaN</td>\n",
              "      <td>NaN</td>\n",
              "      <td>NaN</td>\n",
              "      <td>NaN</td>\n",
              "      <td>NaN</td>\n",
              "      <td>NaN</td>\n",
              "      <td>2021.000000</td>\n",
              "      <td>NaN</td>\n",
              "      <td>NaN</td>\n",
              "      <td>NaN</td>\n",
              "      <td>NaN</td>\n",
              "    </tr>\n",
              "  </tbody>\n",
              "</table>\n",
              "</div>\n",
              "      <button class=\"colab-df-convert\" onclick=\"convertToInteractive('df-98b97af3-8915-495e-bb4e-022600249ebe')\"\n",
              "              title=\"Convert this dataframe to an interactive table.\"\n",
              "              style=\"display:none;\">\n",
              "        \n",
              "  <svg xmlns=\"http://www.w3.org/2000/svg\" height=\"24px\"viewBox=\"0 0 24 24\"\n",
              "       width=\"24px\">\n",
              "    <path d=\"M0 0h24v24H0V0z\" fill=\"none\"/>\n",
              "    <path d=\"M18.56 5.44l.94 2.06.94-2.06 2.06-.94-2.06-.94-.94-2.06-.94 2.06-2.06.94zm-11 1L8.5 8.5l.94-2.06 2.06-.94-2.06-.94L8.5 2.5l-.94 2.06-2.06.94zm10 10l.94 2.06.94-2.06 2.06-.94-2.06-.94-.94-2.06-.94 2.06-2.06.94z\"/><path d=\"M17.41 7.96l-1.37-1.37c-.4-.4-.92-.59-1.43-.59-.52 0-1.04.2-1.43.59L10.3 9.45l-7.72 7.72c-.78.78-.78 2.05 0 2.83L4 21.41c.39.39.9.59 1.41.59.51 0 1.02-.2 1.41-.59l7.78-7.78 2.81-2.81c.8-.78.8-2.07 0-2.86zM5.41 20L4 18.59l7.72-7.72 1.47 1.35L5.41 20z\"/>\n",
              "  </svg>\n",
              "      </button>\n",
              "      \n",
              "  <style>\n",
              "    .colab-df-container {\n",
              "      display:flex;\n",
              "      flex-wrap:wrap;\n",
              "      gap: 12px;\n",
              "    }\n",
              "\n",
              "    .colab-df-convert {\n",
              "      background-color: #E8F0FE;\n",
              "      border: none;\n",
              "      border-radius: 50%;\n",
              "      cursor: pointer;\n",
              "      display: none;\n",
              "      fill: #1967D2;\n",
              "      height: 32px;\n",
              "      padding: 0 0 0 0;\n",
              "      width: 32px;\n",
              "    }\n",
              "\n",
              "    .colab-df-convert:hover {\n",
              "      background-color: #E2EBFA;\n",
              "      box-shadow: 0px 1px 2px rgba(60, 64, 67, 0.3), 0px 1px 3px 1px rgba(60, 64, 67, 0.15);\n",
              "      fill: #174EA6;\n",
              "    }\n",
              "\n",
              "    [theme=dark] .colab-df-convert {\n",
              "      background-color: #3B4455;\n",
              "      fill: #D2E3FC;\n",
              "    }\n",
              "\n",
              "    [theme=dark] .colab-df-convert:hover {\n",
              "      background-color: #434B5C;\n",
              "      box-shadow: 0px 1px 3px 1px rgba(0, 0, 0, 0.15);\n",
              "      filter: drop-shadow(0px 1px 2px rgba(0, 0, 0, 0.3));\n",
              "      fill: #FFFFFF;\n",
              "    }\n",
              "  </style>\n",
              "\n",
              "      <script>\n",
              "        const buttonEl =\n",
              "          document.querySelector('#df-98b97af3-8915-495e-bb4e-022600249ebe button.colab-df-convert');\n",
              "        buttonEl.style.display =\n",
              "          google.colab.kernel.accessAllowed ? 'block' : 'none';\n",
              "\n",
              "        async function convertToInteractive(key) {\n",
              "          const element = document.querySelector('#df-98b97af3-8915-495e-bb4e-022600249ebe');\n",
              "          const dataTable =\n",
              "            await google.colab.kernel.invokeFunction('convertToInteractive',\n",
              "                                                     [key], {});\n",
              "          if (!dataTable) return;\n",
              "\n",
              "          const docLinkHtml = 'Like what you see? Visit the ' +\n",
              "            '<a target=\"_blank\" href=https://colab.research.google.com/notebooks/data_table.ipynb>data table notebook</a>'\n",
              "            + ' to learn more about interactive tables.';\n",
              "          element.innerHTML = '';\n",
              "          dataTable['output_type'] = 'display_data';\n",
              "          await google.colab.output.renderOutput(dataTable, element);\n",
              "          const docLink = document.createElement('div');\n",
              "          docLink.innerHTML = docLinkHtml;\n",
              "          element.appendChild(docLink);\n",
              "        }\n",
              "      </script>\n",
              "    </div>\n",
              "  </div>\n",
              "  "
            ]
          },
          "metadata": {},
          "execution_count": 6
        }
      ]
    },
    {
      "cell_type": "code",
      "source": [
        "data.shape"
      ],
      "metadata": {
        "colab": {
          "base_uri": "https://localhost:8080/"
        },
        "id": "e2RWzQLTnn7E",
        "outputId": "6c8411f7-4392-4b18-d73f-2c7b23239561"
      },
      "execution_count": 7,
      "outputs": [
        {
          "output_type": "execute_result",
          "data": {
            "text/plain": [
              "(7787, 12)"
            ]
          },
          "metadata": {},
          "execution_count": 7
        }
      ]
    },
    {
      "cell_type": "code",
      "source": [
        "data.columns"
      ],
      "metadata": {
        "colab": {
          "base_uri": "https://localhost:8080/"
        },
        "id": "xzc-A6LdoDKz",
        "outputId": "ffca17be-d7c9-48b5-e225-6300e4deb256"
      },
      "execution_count": 8,
      "outputs": [
        {
          "output_type": "execute_result",
          "data": {
            "text/plain": [
              "Index(['show_id', 'type', 'title', 'director', 'cast', 'country', 'date_added',\n",
              "       'release_year', 'rating', 'duration', 'listed_in', 'description'],\n",
              "      dtype='object')"
            ]
          },
          "metadata": {},
          "execution_count": 8
        }
      ]
    },
    {
      "cell_type": "code",
      "source": [
        "# Here we can see that only the release year is of int type.\n",
        "data.info()"
      ],
      "metadata": {
        "colab": {
          "base_uri": "https://localhost:8080/"
        },
        "id": "tKkgy0bboJm-",
        "outputId": "1b83f52d-7a86-4a0d-f112-50b71843b46e"
      },
      "execution_count": 9,
      "outputs": [
        {
          "output_type": "stream",
          "name": "stdout",
          "text": [
            "<class 'pandas.core.frame.DataFrame'>\n",
            "RangeIndex: 7787 entries, 0 to 7786\n",
            "Data columns (total 12 columns):\n",
            " #   Column        Non-Null Count  Dtype \n",
            "---  ------        --------------  ----- \n",
            " 0   show_id       7787 non-null   object\n",
            " 1   type          7787 non-null   object\n",
            " 2   title         7787 non-null   object\n",
            " 3   director      5398 non-null   object\n",
            " 4   cast          7069 non-null   object\n",
            " 5   country       7280 non-null   object\n",
            " 6   date_added    7777 non-null   object\n",
            " 7   release_year  7787 non-null   int64 \n",
            " 8   rating        7780 non-null   object\n",
            " 9   duration      7787 non-null   object\n",
            " 10  listed_in     7787 non-null   object\n",
            " 11  description   7787 non-null   object\n",
            "dtypes: int64(1), object(11)\n",
            "memory usage: 730.2+ KB\n"
          ]
        }
      ]
    },
    {
      "cell_type": "markdown",
      "source": [
        "# Null Value Analysis and Treatment"
      ],
      "metadata": {
        "id": "snPL_aCIop1Q"
      }
    },
    {
      "cell_type": "code",
      "source": [
        "data.isnull().sum()"
      ],
      "metadata": {
        "colab": {
          "base_uri": "https://localhost:8080/"
        },
        "id": "Kct5XhgXoNMl",
        "outputId": "a3c37b06-55eb-47be-fb86-1d3e172c0581"
      },
      "execution_count": 10,
      "outputs": [
        {
          "output_type": "execute_result",
          "data": {
            "text/plain": [
              "show_id            0\n",
              "type               0\n",
              "title              0\n",
              "director        2389\n",
              "cast             718\n",
              "country          507\n",
              "date_added        10\n",
              "release_year       0\n",
              "rating             7\n",
              "duration           0\n",
              "listed_in          0\n",
              "description        0\n",
              "dtype: int64"
            ]
          },
          "metadata": {},
          "execution_count": 10
        }
      ]
    },
    {
      "cell_type": "markdown",
      "source": [
        "Here we can see the features with missing values viz. director, cast, country, date_added and rating"
      ],
      "metadata": {
        "id": "0hwuQkKRo1yE"
      }
    },
    {
      "cell_type": "code",
      "source": [
        "#Plotting Missing Values\n",
        "plt.figure(figsize=(15,6))\n",
        "sns.displot(\n",
        "    data=data.isna().melt(value_name=\"missing\"),\n",
        "    y=\"variable\",\n",
        "    hue=\"missing\",\n",
        "    multiple=\"fill\",aspect= 1.5)"
      ],
      "metadata": {
        "colab": {
          "base_uri": "https://localhost:8080/",
          "height": 404
        },
        "id": "qa3QGhe-o02K",
        "outputId": "6665c74e-3834-4094-8445-cb82cfb0380d"
      },
      "execution_count": 11,
      "outputs": [
        {
          "output_type": "execute_result",
          "data": {
            "text/plain": [
              "<seaborn.axisgrid.FacetGrid at 0x7f9fcfef8ed0>"
            ]
          },
          "metadata": {},
          "execution_count": 11
        },
        {
          "output_type": "display_data",
          "data": {
            "text/plain": [
              "<Figure size 1080x432 with 0 Axes>"
            ]
          },
          "metadata": {}
        },
        {
          "output_type": "display_data",
          "data": {
            "text/plain": [
              "<Figure size 601.25x360 with 1 Axes>"
            ],
            "image/png": "[encoded data removed]"
          },
          "metadata": {
            "needs_background": "light"
          }
        }
      ]
    },
    {
      "cell_type": "code",
      "source": [
        "plt.figure( figsize = (15 , 6))\n",
        "sns.heatmap(data.isna())"
      ],
      "metadata": {
        "colab": {
          "base_uri": "https://localhost:8080/",
          "height": 450
        },
        "id": "BJ3KGJx-paVp",
        "outputId": "7bd42942-8c55-4116-83b4-4f4c2657e76d"
      },
      "execution_count": 12,
      "outputs": [
        {
          "output_type": "execute_result",
          "data": {
            "text/plain": [
              "<matplotlib.axes._subplots.AxesSubplot at 0x7f9fcfe072d0>"
            ]
          },
          "metadata": {},
          "execution_count": 12
        },
        {
          "output_type": "display_data",
          "data": {
            "text/plain": [
              "<Figure size 1080x432 with 2 Axes>"
            ],
            "image/png": "[encoded data removed]"
          },
          "metadata": {
            "needs_background": "light"
          }
        }
      ]
    },
    {
      "cell_type": "markdown",
      "source": [
        "We can right away drop director and cast feature from the dataset as they wont be helping in clustering much. Although the cast can help somewhat in clustering, we will be getting many clusters as the  dataset consists of artists from over the world."
      ],
      "metadata": {
        "id": "TRBm_EXfqo1L"
      }
    },
    {
      "cell_type": "code",
      "source": [
        "data.drop(['director','cast'],axis=1, inplace = True)"
      ],
      "metadata": {
        "id": "q_lhncy5p1Pw"
      },
      "execution_count": 13,
      "outputs": []
    },
    {
      "cell_type": "markdown",
      "source": [
        "We cannot really drop the country feature as we need to analyse the different types of content presented in different countries.\n",
        "\n",
        "Here we can instead replace the missing values by mode or classify it as others. Let us move ahead with replacing the records with the mode."
      ],
      "metadata": {
        "id": "b8bOiQ4Usg3b"
      }
    },
    {
      "cell_type": "code",
      "source": [
        "# Replacing the missing countries with mode.\n",
        "data['country'] = data['country'].fillna(data['country'].mode()[0])"
      ],
      "metadata": {
        "id": "rkssBSPPqoYY"
      },
      "execution_count": 14,
      "outputs": []
    },
    {
      "cell_type": "markdown",
      "source": [
        "The date_added feature has just 10 missing values. This can be ignored, dropped or replaced with mode again. Here we will drop those records."
      ],
      "metadata": {
        "id": "7P3l5cQItJrn"
      }
    },
    {
      "cell_type": "code",
      "source": [
        "data.dropna(subset = [ 'date_added' ], inplace = True)"
      ],
      "metadata": {
        "id": "-ZdV5rhhtE-B"
      },
      "execution_count": 15,
      "outputs": []
    },
    {
      "cell_type": "code",
      "source": [
        "data.shape"
      ],
      "metadata": {
        "colab": {
          "base_uri": "https://localhost:8080/"
        },
        "id": "jJIfvKbDugmS",
        "outputId": "44016089-a81f-492f-c51f-e1a2558e33d1"
      },
      "execution_count": 16,
      "outputs": [
        {
          "output_type": "execute_result",
          "data": {
            "text/plain": [
              "(7777, 10)"
            ]
          },
          "metadata": {},
          "execution_count": 16
        }
      ]
    },
    {
      "cell_type": "markdown",
      "source": [
        "# Exploratory Data Analysis"
      ],
      "metadata": {
        "id": "AuE8d3SeumM3"
      }
    },
    {
      "cell_type": "code",
      "source": [
        "# Sorting and extracting date-time from the date column\n",
        "data['date_added'] = pd.to_datetime(data['date_added'])\n",
        "\n",
        "# Extracting the month from the date\n",
        "data['month_name_added']=data['date_added'].dt.month_name()\n",
        "\n",
        "# Extracting the Year\n",
        "data['year_added'] = data['date_added'].dt.year"
      ],
      "metadata": {
        "id": "njAliXCRzjrM"
      },
      "execution_count": 17,
      "outputs": []
    },
    {
      "cell_type": "code",
      "source": [
        "data.head()"
      ],
      "metadata": {
        "colab": {
          "base_uri": "https://localhost:8080/",
          "height": 337
        },
        "id": "-jMjf3Fez7P3",
        "outputId": "8a8b46ec-53a0-4220-d91e-71c45bb8cbba"
      },
      "execution_count": 18,
      "outputs": [
        {
          "output_type": "execute_result",
          "data": {
            "text/plain": [
              "  show_id     type  title        country date_added  release_year rating  \\\n",
              "0      s1  TV Show     3%         Brazil 2020-08-14          2020  TV-MA   \n",
              "1      s2    Movie   7:19         Mexico 2016-12-23          2016  TV-MA   \n",
              "2      s3    Movie  23:59      Singapore 2018-12-20          2011      R   \n",
              "3      s4    Movie      9  United States 2017-11-16          2009  PG-13   \n",
              "4      s5    Movie     21  United States 2020-01-01          2008  PG-13   \n",
              "\n",
              "    duration                                          listed_in  \\\n",
              "0  4 Seasons  International TV Shows, TV Dramas, TV Sci-Fi &...   \n",
              "1     93 min                       Dramas, International Movies   \n",
              "2     78 min                Horror Movies, International Movies   \n",
              "3     80 min  Action & Adventure, Independent Movies, Sci-Fi...   \n",
              "4    123 min                                             Dramas   \n",
              "\n",
              "                                         description month_name_added  \\\n",
              "0  In a future where the elite inhabit an island ...           August   \n",
              "1  After a devastating earthquake hits Mexico Cit...         December   \n",
              "2  When an army recruit is found dead, his fellow...         December   \n",
              "3  In a postapocalyptic world, rag-doll robots hi...         November   \n",
              "4  A brilliant group of students become card-coun...          January   \n",
              "\n",
              "   year_added  \n",
              "0        2020  \n",
              "1        2016  \n",
              "2        2018  \n",
              "3        2017  \n",
              "4        2020  "
            ],
            "text/html": [
              "\n",
              "  <div id=\"df-db85ca06-9388-4d42-a713-637bc0c84696\">\n",
              "    <div class=\"colab-df-container\">\n",
              "      <div>\n",
              "<style scoped>\n",
              "    .dataframe tbody tr th:only-of-type {\n",
              "        vertical-align: middle;\n",
              "    }\n",
              "\n",
              "    .dataframe tbody tr th {\n",
              "        vertical-align: top;\n",
              "    }\n",
              "\n",
              "    .dataframe thead th {\n",
              "        text-align: right;\n",
              "    }\n",
              "</style>\n",
              "<table border=\"1\" class=\"dataframe\">\n",
              "  <thead>\n",
              "    <tr style=\"text-align: right;\">\n",
              "      <th></th>\n",
              "      <th>show_id</th>\n",
              "      <th>type</th>\n",
              "      <th>title</th>\n",
              "      <th>country</th>\n",
              "      <th>date_added</th>\n",
              "      <th>release_year</th>\n",
              "      <th>rating</th>\n",
              "      <th>duration</th>\n",
              "      <th>listed_in</th>\n",
              "      <th>description</th>\n",
              "      <th>month_name_added</th>\n",
              "      <th>year_added</th>\n",
              "    </tr>\n",
              "  </thead>\n",
              "  <tbody>\n",
              "    <tr>\n",
              "      <th>0</th>\n",
              "      <td>s1</td>\n",
              "      <td>TV Show</td>\n",
              "      <td>3%</td>\n",
              "      <td>Brazil</td>\n",
              "      <td>2020-08-14</td>\n",
              "      <td>2020</td>\n",
              "      <td>TV-MA</td>\n",
              "      <td>4 Seasons</td>\n",
              "      <td>International TV Shows, TV Dramas, TV Sci-Fi &amp;...</td>\n",
              "      <td>In a future where the elite inhabit an island ...</td>\n",
              "      <td>August</td>\n",
              "      <td>2020</td>\n",
              "    </tr>\n",
              "    <tr>\n",
              "      <th>1</th>\n",
              "      <td>s2</td>\n",
              "      <td>Movie</td>\n",
              "      <td>7:19</td>\n",
              "      <td>Mexico</td>\n",
              "      <td>2016-12-23</td>\n",
              "      <td>2016</td>\n",
              "      <td>TV-MA</td>\n",
              "      <td>93 min</td>\n",
              "      <td>Dramas, International Movies</td>\n",
              "      <td>After a devastating earthquake hits Mexico Cit...</td>\n",
              "      <td>December</td>\n",
              "      <td>2016</td>\n",
              "    </tr>\n",
              "    <tr>\n",
              "      <th>2</th>\n",
              "      <td>s3</td>\n",
              "      <td>Movie</td>\n",
              "      <td>23:59</td>\n",
              "      <td>Singapore</td>\n",
              "      <td>2018-12-20</td>\n",
              "      <td>2011</td>\n",
              "      <td>R</td>\n",
              "      <td>78 min</td>\n",
              "      <td>Horror Movies, International Movies</td>\n",
              "      <td>When an army recruit is found dead, his fellow...</td>\n",
              "      <td>December</td>\n",
              "      <td>2018</td>\n",
              "    </tr>\n",
              "    <tr>\n",
              "      <th>3</th>\n",
              "      <td>s4</td>\n",
              "      <td>Movie</td>\n",
              "      <td>9</td>\n",
              "      <td>United States</td>\n",
              "      <td>2017-11-16</td>\n",
              "      <td>2009</td>\n",
              "      <td>PG-13</td>\n",
              "      <td>80 min</td>\n",
              "      <td>Action &amp; Adventure, Independent Movies, Sci-Fi...</td>\n",
              "      <td>In a postapocalyptic world, rag-doll robots hi...</td>\n",
              "      <td>November</td>\n",
              "      <td>2017</td>\n",
              "    </tr>\n",
              "    <tr>\n",
              "      <th>4</th>\n",
              "      <td>s5</td>\n",
              "      <td>Movie</td>\n",
              "      <td>21</td>\n",
              "      <td>United States</td>\n",
              "      <td>2020-01-01</td>\n",
              "      <td>2008</td>\n",
              "      <td>PG-13</td>\n",
              "      <td>123 min</td>\n",
              "      <td>Dramas</td>\n",
              "      <td>A brilliant group of students become card-coun...</td>\n",
              "      <td>January</td>\n",
              "      <td>2020</td>\n",
              "    </tr>\n",
              "  </tbody>\n",
              "</table>\n",
              "</div>\n",
              "      <button class=\"colab-df-convert\" onclick=\"convertToInteractive('df-db85ca06-9388-4d42-a713-637bc0c84696')\"\n",
              "              title=\"Convert this dataframe to an interactive table.\"\n",
              "              style=\"display:none;\">\n",
              "        \n",
              "  <svg xmlns=\"http://www.w3.org/2000/svg\" height=\"24px\"viewBox=\"0 0 24 24\"\n",
              "       width=\"24px\">\n",
              "    <path d=\"M0 0h24v24H0V0z\" fill=\"none\"/>\n",
              "    <path d=\"M18.56 5.44l.94 2.06.94-2.06 2.06-.94-2.06-.94-.94-2.06-.94 2.06-2.06.94zm-11 1L8.5 8.5l.94-2.06 2.06-.94-2.06-.94L8.5 2.5l-.94 2.06-2.06.94zm10 10l.94 2.06.94-2.06 2.06-.94-2.06-.94-.94-2.06-.94 2.06-2.06.94z\"/><path d=\"M17.41 7.96l-1.37-1.37c-.4-.4-.92-.59-1.43-.59-.52 0-1.04.2-1.43.59L10.3 9.45l-7.72 7.72c-.78.78-.78 2.05 0 2.83L4 21.41c.39.39.9.59 1.41.59.51 0 1.02-.2 1.41-.59l7.78-7.78 2.81-2.81c.8-.78.8-2.07 0-2.86zM5.41 20L4 18.59l7.72-7.72 1.47 1.35L5.41 20z\"/>\n",
              "  </svg>\n",
              "      </button>\n",
              "      \n",
              "  <style>\n",
              "    .colab-df-container {\n",
              "      display:flex;\n",
              "      flex-wrap:wrap;\n",
              "      gap: 12px;\n",
              "    }\n",
              "\n",
              "    .colab-df-convert {\n",
              "      background-color: #E8F0FE;\n",
              "      border: none;\n",
              "      border-radius: 50%;\n",
              "      cursor: pointer;\n",
              "      display: none;\n",
              "      fill: #1967D2;\n",
              "      height: 32px;\n",
              "      padding: 0 0 0 0;\n",
              "      width: 32px;\n",
              "    }\n",
              "\n",
              "    .colab-df-convert:hover {\n",
              "      background-color: #E2EBFA;\n",
              "      box-shadow: 0px 1px 2px rgba(60, 64, 67, 0.3), 0px 1px 3px 1px rgba(60, 64, 67, 0.15);\n",
              "      fill: #174EA6;\n",
              "    }\n",
              "\n",
              "    [theme=dark] .colab-df-convert {\n",
              "      background-color: #3B4455;\n",
              "      fill: #D2E3FC;\n",
              "    }\n",
              "\n",
              "    [theme=dark] .colab-df-convert:hover {\n",
              "      background-color: #434B5C;\n",
              "      box-shadow: 0px 1px 3px 1px rgba(0, 0, 0, 0.15);\n",
              "      filter: drop-shadow(0px 1px 2px rgba(0, 0, 0, 0.3));\n",
              "      fill: #FFFFFF;\n",
              "    }\n",
              "  </style>\n",
              "\n",
              "      <script>\n",
              "        const buttonEl =\n",
              "          document.querySelector('#df-db85ca06-9388-4d42-a713-637bc0c84696 button.colab-df-convert');\n",
              "        buttonEl.style.display =\n",
              "          google.colab.kernel.accessAllowed ? 'block' : 'none';\n",
              "\n",
              "        async function convertToInteractive(key) {\n",
              "          const element = document.querySelector('#df-db85ca06-9388-4d42-a713-637bc0c84696');\n",
              "          const dataTable =\n",
              "            await google.colab.kernel.invokeFunction('convertToInteractive',\n",
              "                                                     [key], {});\n",
              "          if (!dataTable) return;\n",
              "\n",
              "          const docLinkHtml = 'Like what you see? Visit the ' +\n",
              "            '<a target=\"_blank\" href=https://colab.research.google.com/notebooks/data_table.ipynb>data table notebook</a>'\n",
              "            + ' to learn more about interactive tables.';\n",
              "          element.innerHTML = '';\n",
              "          dataTable['output_type'] = 'display_data';\n",
              "          await google.colab.output.renderOutput(dataTable, element);\n",
              "          const docLink = document.createElement('div');\n",
              "          docLink.innerHTML = docLinkHtml;\n",
              "          element.appendChild(docLink);\n",
              "        }\n",
              "      </script>\n",
              "    </div>\n",
              "  </div>\n",
              "  "
            ]
          },
          "metadata": {},
          "execution_count": 18
        }
      ]
    },
    {
      "cell_type": "code",
      "source": [
        "#Top 10 years when maximum movies n TV shows were added\n",
        "plt.figure(figsize=(15,6))\n",
        "plt.title('10 Years Data')\n",
        "sns.countplot(x='year_added',data=data,order=data['year_added'].value_counts().index[:10],facecolor=(0, 0, 0, 0),linewidth=5, edgecolor=sns.color_palette(\"crest_r\"))\n",
        "plt.show()"
      ],
      "metadata": {
        "colab": {
          "base_uri": "https://localhost:8080/",
          "height": 405
        },
        "id": "mzUtV47hz8mq",
        "outputId": "2acab2ad-3a60-4631-c6aa-af0bc65f6154"
      },
      "execution_count": 19,
      "outputs": [
        {
          "output_type": "display_data",
          "data": {
            "text/plain": [
              "<Figure size 1080x432 with 1 Axes>"
            ],
            "image/png": "[encoded data removed]"
          },
          "metadata": {
            "needs_background": "light"
          }
        }
      ]
    },
    {
      "cell_type": "markdown",
      "source": [
        "The most amount of content added on the platform was in 2019, followed by year 2020."
      ],
      "metadata": {
        "id": "6xH_H3vE0dHP"
      }
    },
    {
      "cell_type": "code",
      "source": [
        "# Let us check what is the distribution of movies and tv shows on the platform.\n",
        "\n",
        "sns.countplot(x='type', data=data,facecolor=(0, 0, 0, 0),linewidth=5, edgecolor=sns.color_palette(\"crest_r\"))\n",
        "plt.show()"
      ],
      "metadata": {
        "colab": {
          "base_uri": "https://localhost:8080/",
          "height": 279
        },
        "id": "B0QEJMI90UKP",
        "outputId": "e1a9bc4b-1aa2-4785-d788-efb6b2c2acb8"
      },
      "execution_count": 20,
      "outputs": [
        {
          "output_type": "display_data",
          "data": {
            "text/plain": [
              "<Figure size 432x288 with 1 Axes>"
            ],
            "image/png": "[encoded data removed]"
          },
          "metadata": {
            "needs_background": "light"
          }
        }
      ]
    },
    {
      "cell_type": "code",
      "source": [
        "plt.figure(figsize=(15, 6))\n",
        "labels=['TV Show', 'Movie']\n",
        "plt.pie(data['type'].value_counts().sort_values(),labels=labels,explode=[0.1,0.01],\n",
        "        autopct='%1.3f%%', startangle=0)\n",
        "plt.title('Content Distribution')\n",
        "plt.axis('equal')\n",
        "plt.show()"
      ],
      "metadata": {
        "colab": {
          "base_uri": "https://localhost:8080/",
          "height": 373
        },
        "id": "3ZO0RJcPJQIK",
        "outputId": "3a1fd524-0d2b-4ebc-961b-91769b75c067"
      },
      "execution_count": 21,
      "outputs": [
        {
          "output_type": "display_data",
          "data": {
            "text/plain": [
              "<Figure size 1080x432 with 1 Axes>"
            ],
            "image/png": "[encoded data removed]"
          },
          "metadata": {}
        }
      ]
    },
    {
      "cell_type": "markdown",
      "source": [
        "The preface claims that the number TV shows has trippled where as the number of movies is reducing. As per this above illustration, we can see that TV shows are almost half of movies on the platform. The number of TV shows is less than one third of the total content.\n",
        "\n",
        "The engagement time that TV shows must be bringing might be higher as the TV shows consist of multiple seasons with multiple episodes, where as the movies can only get about 2-3 hours of engagement."
      ],
      "metadata": {
        "id": "AcbWPoE-1RZF"
      }
    },
    {
      "cell_type": "markdown",
      "source": [
        "\n",
        "\n",
        "---\n",
        "\n",
        "Now let us check, what kind of content is being published by each country. This will let us understand the interests of the country and also the trend around the world"
      ],
      "metadata": {
        "id": "LLUyWMM12_rR"
      }
    },
    {
      "cell_type": "code",
      "source": [
        "# Getting the publishing distribution of the countries.\n",
        "fig = plt.figure(figsize=(15,6))\n",
        "sns.countplot(data = data,y = 'country', order = data[\"country\"].value_counts().index[:10],hue = 'type',palette = 'icefire_r')\n",
        "plt.title(\"Top Content Publishers\")\n",
        "plt.show()"
      ],
      "metadata": {
        "colab": {
          "base_uri": "https://localhost:8080/",
          "height": 404
        },
        "id": "VmK80Jpr1K6A",
        "outputId": "89fb40dc-1558-4504-81a8-2ef80a06ef5c"
      },
      "execution_count": 22,
      "outputs": [
        {
          "output_type": "display_data",
          "data": {
            "text/plain": [
              "<Figure size 1080x432 with 1 Axes>"
            ],
            "image/png": "[encoded data removed]"
          },
          "metadata": {
            "needs_background": "light"
          }
        }
      ]
    },
    {
      "cell_type": "markdown",
      "source": [
        "**Understanding what type content is available in different countries**\n",
        "\n",
        "Here we can see that mostly all the countries have been publishing more movies than TV shows. This trend is not followed by UK, Japan and South Korea though.\n",
        "\n",
        "Let us understand the trend of publishings of the TV shows and Movies over the years now."
      ],
      "metadata": {
        "id": "NAqF7zNC4FXG"
      }
    },
    {
      "cell_type": "code",
      "source": [
        "# Movies and TV shows publishing trend\n",
        "type_year = (data.groupby(['type','year_added'])['title'].size()).reset_index()\n",
        "fig = plt.figure(figsize=(16,5))\n",
        "sns.lineplot(data = type_year,x = 'year_added',y = 'title',hue = 'type',style = 'type',palette='Accent_r',markers=True, dashes=False)\n",
        "plt.title(\"Total content across the years\")\n",
        "plt.show()"
      ],
      "metadata": {
        "colab": {
          "base_uri": "https://localhost:8080/",
          "height": 351
        },
        "id": "MFcPXjRO3lvR",
        "outputId": "5ef99cd1-318f-4f1c-bff5-9e8af72c46cf"
      },
      "execution_count": 23,
      "outputs": [
        {
          "output_type": "display_data",
          "data": {
            "text/plain": [
              "<Figure size 1152x360 with 1 Axes>"
            ],
            "image/png": "[encoded data removed]"
          },
          "metadata": {
            "needs_background": "light"
          }
        }
      ]
    },
    {
      "cell_type": "code",
      "source": [
        "yearly_shows=data[data.type =='TV Show']['release_year'].value_counts().sort_index(ascending=False).head(15)\n",
        "yearly_movies=data[data.type =='Movie']['release_year'].value_counts().sort_index(ascending=False).head(15)"
      ],
      "metadata": {
        "id": "PXJwa6p9G_G6"
      },
      "execution_count": 24,
      "outputs": []
    },
    {
      "cell_type": "code",
      "source": [
        "yearly_movies.plot(figsize=(15, 6), linewidth=2.5, color='red',label=\"Movies / year\")\n",
        "yearly_shows.plot(figsize=(15, 6), linewidth=2.5, color='blue',label=\"TV Shows / year\")\n",
        "plt.xlabel(\"Years\")\n",
        "plt.ylabel(\"Number\")\n",
        "plt.legend()\n",
        "plt.title(\"Yearly growth\");"
      ],
      "metadata": {
        "colab": {
          "base_uri": "https://localhost:8080/",
          "height": 404
        },
        "id": "GQOCg632F2kR",
        "outputId": "f121eabf-2c6b-486e-a83f-38c57aa8e9dc"
      },
      "execution_count": 25,
      "outputs": [
        {
          "output_type": "display_data",
          "data": {
            "text/plain": [
              "<Figure size 1080x432 with 1 Axes>"
            ],
            "image/png": "[encoded data removed]"
          },
          "metadata": {
            "needs_background": "light"
          }
        }
      ]
    },
    {
      "cell_type": "markdown",
      "source": [
        "**Is Netflix has increasingly focusing on TV rather than movies in recent years.**\n",
        "\n",
        "We can clearly see that post 2015 the publishings started increasing exponentially. More number of publishings are of Movies than TV shows here again. \n",
        "\n",
        "To answer the question asked above, yes Netflix is increasing its focus towards Tv shows and a gradual dip can be observed in the movie shows. The number of movies published, still remains higher as compared to TV shows as of now.\n",
        "\n",
        "# Hypothesis: Movies Create more engagement than TV shows."
      ],
      "metadata": {
        "id": "Ia6ctneo5zqp"
      }
    },
    {
      "cell_type": "markdown",
      "source": [
        "In order to understand which category is responsible for creating more engagement of platform, we need to understand the 'duration' feature.\n",
        "\n",
        "Here we have two types of values; for movies we have duration in minutes and for TV shows we have Seasons. Seasons cannot be a measure of time so we need to convert this into minutes.\n",
        "\n",
        "\n",
        "![image.png](data:image/png;base64,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)"
      ],
      "metadata": {
        "id": "Avhxwhi16WZa"
      }
    },
    {
      "cell_type": "markdown",
      "source": [
        "![image.png](data:image/png;base64,iVBORw0KGgoAAAANSUhEUgAABS0AAAEvCAYAAACg8uRnAAAgAElEQVR4nOzde3iU5Z3/8fecZ5IhIQmQIRAgEIFwHNBwRuVQQARbBbtSu1Vb0W7Rq9Ue8HdV7K7WrbjbYn9K99fFruK2q91CrWIVqEAVUEg0hGNEIodEIQFCTpPjnH5/TDIkIYEEAzMJn9d1cUFmnsP9PPMMk+cz3/u+DYPS0oOIiIiIiIiIiIiIRAljpBsgIiIiIiIiIiIi0pRCSxEREREREREREYkqCi1FREREREREREQkqii0FBERERERERERkaii0FJERERERERERESiikJLERERERERERERiSoKLUVERERERERERCSqKLQUERERERERERGRqKLQUkRERERERERERKKKQksRERERERERERGJKgotRUREREREREREJKootBQREREREREREZGootBSREREREREREREoopCSxEREREREREREYkqCi1FREREREREREQkqii0FBERERERERERkaii0FJERERERERERESiikJLERERERERERERiSoKLUVERERERERERCSqKLQUERERERERERGRqKLQUkRERERERERERKKKQksRERERERERERGJKgotRUREREREREREJKootBQREREREREREZGootBSREREREREREREoopCSxEREREREREREYkqCi1FREREREREREQkqpgj3QARuXKCwWCkmyAiIiIiInJJBoMh0k0QkSij0FKkm2gMKJt+2Df/4FeAKSIiIiIi0aT1oLK1exsRufYotBTpwoLBYPiD3GAwYDQaMJnMmE1mjCYjRqMJowEMRo0EISIiIiIi0ScYCBAIQiDgJ+AP4PP78Pt9BALniy6a3veIyLVDoaVIF9T4oW0wGDAZTVisFiwWKyaTwkkREREREek6DEYjJgjdy1jAhg0Avz+A11uPt96LP+AHFF6KXGsUWop0IefDSrBYLNjsNswmvY1FRERERKR7MZmMmEx27HY7Pr+Puto6vN56QOGlyLVCaYdIF3BhWGnHbDJFulkiIiIiIiJXnNlkxhxrxue3U1dbq/BS5Bqh0FIkyoUDS6ORGIcDi8US6SaJiIiIiIhcdWaTCXNsLF6vleqaGggEFFyKdGMKLUWiVNPqSqvNRozDEekmiYiIiIiIRJzFYiHeYqG6pob6ulpAVZci3ZFm7RCJQo0fuMFgkBhHjAJLERERERGRFmIcDmIcMc3un0Sk+1BoKRJlmn7gOmNjsdpskW6SiIiIiIhIVLLabDhjYxVcinRDCi1FokizwNLpxGK1RrpJIiIiIiIiUc1iteJ0OhVcinQzCi1FokTLCktNuCMiIiIiItI+FotFFZci3YxCS5EoER7DMiZGFZYiIiIiIhE2dvwNkW6CdJDFaiUmJkaT8oh0EwotRaJGEJvdhk1jWIqIiIiIiFwWm82GzW4DVGkp0tWZI92ASLDZbLhcLqZPm8q4cW6uuy4dl8uF0+nEaDRSWVnJqVNF5Ofnk5Ozh/fef5/i4tPU19dHuunSDTV+C2g0mYhxxES6OSIiIiIiIl1ajCMGn89HwB9Q1aVIF3ZNhZYxMQ5GjRrF1ClTGDNmNH369KFnz3icTic2mw2zOXQ64uLisFqt9OqVxLBhw5gxcwY5H+ewY+dO8vI+UXgJ9OjRgweW3k+PHk4APjn8Ka+99scIt6prauwWbrc7It0UERERERGRbsFud1Dl8SiwFOnCronQ0mQy4XIlM2XyZKZMmYzbPZYBAwZgNLbeO95kMmG1WomLi6Nv374MGzaU1P796d+/H9t37OSDDz6koqKCQCBwlY8ketjtdmbPnknv3r0BiI+PV2h5GULf+oHVasWqiXdEREREREQ6hdViwWu14vXWEwyi8FKkC+r2oaXVasXlSmbmzBnccfvtDBs2FKvVSjAYxOv1UlZWRmWlh+rqanw+HxCadczhcBAX14P4+HjMZjPXXZdOSkpf+iT3obiomP0HDlzTFZdGo4GEhESSkpKAUOWldEzTbgp2uz3CrRERERERkUgzxQ/B0scNgO/0HnzlRyPcoq7Nbrfj9XoxGFA3cZEuqFuHlkajkT59ejNnzhy+90/fpWfPeAwGA4FAgLq6Ok6fOcOuD3exJ3cvx44do6ysHICEhJ6kpaUxbpybyZMm0bt3L6xWK3a7nb4uF8OGDyXvE3UTly8vGAxitVoxmUyRboqIiIiIiESQY/QDOIZ9o9ljtZ/8geoDayLUovaLTXAB4OzZl+JjeyLcmvNMJhMWi0X37iJdVLcOLfv06c3NN93Ed759Hz16ODEYDPj9fgoKCnjrr2/zt83vcubsGaqra/B6vfj9fgAKC0188slh/v739/if5FeZP/8Wbpk3j3PnzvHGm2/y17++Q21tbYSPTrq6xm/5QjPbiYiIiIjItcqSMu2CwBLAPvxuvOfy8J7cEYFWXdromfcx2H1rOLRsVFVaxNHcv7J/60sRatl5NrsNr9cb6WaIyGXotqGlxWIhMzOThQsX0KdPb4xGI36/n+zsj3j77Xf44MMPKSz8HK/XSzAYvGD9mpoaKioqKC0tpaa6hs/yP6PS4+HgwYOUl5dH4IikO2kcy9JkNGM2ddu3oYiIiIiItIOt3/SLPhdtoWVsgouvPrruos+PnvEdBrtv5d2XHqKqtOgqtq45s8mMyWjCH/BpbEuRLqbbpiVpaWlMyMxk1KhR4Ql3Dh48yMZNm/nbu+9SVFR8yW0Eg0Hq6ur49MgRik+fxuv1Ul1dfaWbLteAxhnDLVZNviOX55EXNzE3tYBNc5eyKtKN6ZB0lvx8BYvGu3CaAH8BG+YvZfVVbEHo3HnI/e0iHvvzVdxxg0Ur17PUTcT23124ZizlB3f0JfvhJ1l//lFmPLyCZXPTcVoASsneeYKMqW7IXcPi5aGbq0hfAyIiIi0ZY/td1nORkJw2jlnffj78c2NVZVVZKJjsM3A8yWnjiE1wEZvgYvZ9L/DGrxZHqrkAWKwWfDU+BZYiXUy3DC0NBgMTJ2QyduxoYmIcBINBqqur2bz5Xf6+7e/tCixbUnWldJbGAaANBrBYrJFujsjVdf8jfCPThcVTQPbufDw1n7Ez0m2SLmgxP3hoMW5yyW768KwHeGBBOk5vKXnv76HIW0xufgYZUyPVThERaY8bJk7GHhPDjm1bOrxeTU0NB/flXqGWXT3BoO+ynouESbf/NPzv/dt+d0EX8KM57xCb4GLwuFsYPeM7xCa4mPXt59nyXw9f7aaGWSxWamtrAE3II9KVdMvQ0mw2c/0N1zNkyBAAvF4vBw4c5IMPP+REQUGEWycCEMRoNGIyGSPdEJGrakZqEhagaPcKVjwbmW5Cq+6f28WqU6Xd0pNJADwH1/HI0w1d1u5YydIWi+kaEBGJHiPHuElISgJg2oxZ7Q4ub5g4mYSkJBKAmppqjh759Aq2UhqNnnlfePzK1gLLRlWlRezf+hJ9BoWqLhv/RGqSHpPJiNFoJBAIRGT/InJ5umVoOWrUSFzJydjtdiA0PuWmzZs5derq3iBbLBaGDr2OsWPHkD4knV69krBardTW1XHyi5Pk5eWx/8BBjh8/ftW3ZzAYcDgcjBvnZuyYMQwcNJC4Hj0IBAKcPHWKjz76mIMHDwIwfty48HqHPz3C4cOH230OTCYTycnJ3HD9eEaMGIGrrwuH3U5NbS0FJwrYs2cP+w8c5OzZs+3eZlfX2DXcpLEs5RqUaA8NieD1R25cI+nGnKpeFxHpao4eOYzD4SAhKQmHw9Gu4LIxsAQoLSlRYHkVDXbfCkDxsT3tmmRn1+tPh8e+THPPj+jM4iaTGb+/XlWWIl1It0xNRozIID4+LvxNSnV1NTk5eygrK7sq+7fZbAwaNIibbprO2DFjSE3tT2JiIrGxTkwmIz6fj4rKSjIzr+ezo8fYsyeXbdu2ce5cKT7fhaX/nb292NhYhg69jpkzZzBq5Ej69etHz57x2O12AoEAlZUeRo4Ywb59+6mprWHa1Cnhdf/3f9e1K7Q0GAz06pXEhAkTmD5tKkOGDKZPn2R69OiBxWLG6/VSNrqMcePc7N23j/fee5+9e/dRX1//5U5+F2I2X923n2vGUpbdPQ+3y4mlcShNr4fSY1n8zy9WsuEkMP4JXv7FVFylWay8awXbmm3BzfKXVjIjpZTsZ+9ixRYAFzMeXMY3Zo8jNa5ho55S8nf/gZ8/u4FwLHXHStY96KZ0yxqKRt1LZrIF/B7y/vQ4j7yU1762NUqZybIfPcCM4QmhMRG9Hgrff5mtSfdyzwXjBLazfW354Ro2zkkk98XVfHbDPcwd3TgOo4ei/RtZ++s1bDvZdNkBFG6ey9JfNt/MBeNPNp6PzSvISljKXPeA0Ph7DdtdvXwDzocf44GbM0hwAn4vpZ9s5FePvtC8KyxgXbCcF+6aTnrv0PF5zuST/dpTrHyr5dGls/Anj/CNiemhbQLeigJyN61hxYtZFx7zn7bhnLuQ9Digpoht/3kPK99u60S5WPjwYyy6OR2Xs/l5fu7ZDeSHzgJrNs0jtWGN1Dmb2DiHVs9Xsy03XhspTiwN5770s5bXxWKeWb8UN7msfwem3uLG1XDePCf3sOnFFazZ1fL1aD6eYfpXl/ODOyeQ3rvh5LSxbvuOtdEElv68yetbU0TuW6sveA07dqzA0IUsf/huMoc0vAdo47Vs0wSW/GwpizIb2tW4/ruvsvq3Wy98325expum5dxzY+N16sVTuJ21v1zJhkvdI3bkPQS06zptaFfoaTdLN21iaeFhchOG4W5Yx+leysZNS/HkrmHx7gub1fwamMDjrzzFtGQo3bWKJT/bGF4u84dreGLOACzFO1nxrSfbfO1EROTyNXbvbqy4vFRw2TKw/Gj3h1ezude8xirL9k6sU1VaRPGxPeFKy0gym83X1P2mSHfQLUPLQYMGERMTC4S6hpeUnOPUqVPU1dVddD2bzcb48eOwWttfqVFZWcmpU0WcOnUqvI0RIzL4yldmc8u8uaSmpmIymS5YLyEhgYEDBjBixAgyhg8jJsbBtm3v8fnnnzcLGjt7ezExDsaOGcMt8+cxb+4cEhISLthefHw8/fv3Y+DAAVRVVXPddenh53bs/KBd56VPnz5MnjyJRXfczg03XI/NZgtXGAaDoa7RCQkJDBw4kPT0IfRKSsLr9XLkSD5VVVXt2kdX1HQ8y8YJoq6KOU+w6gdTSTB5KDqYRV6RB+L6kpGRgWvoTB54/BzZ31tDUc6b5J2ciivlOmbOgma/K46/jYwUoPgQ6xsCy0W/eI6l4xPAW0p+9h4KaxJJH+8mfdZDvJBk46Hl65oFg64b7yW17hTZWwqxDInls0157W8bAIt56ldLyUwAb2k+2TkFkDoO96yH+IYXwNN0bx1uX+tspH/9UdwOD/k5W8PbSHUv5tHHIS/cto5LmLScRbFQuH8n2RWJZEzOwOVezKMvTcOZ4qQkdyfbKmLJGO/GNXIhj/5LfrNABfoy7bsDsNQVkL0lnzrXCCaOTGfGw6tJsDYNbyfwyG+fYO4gC3gKyH0/n1LHANzudDLvfII18U+y9JdNwy4nI7+2EM7lsSO7Eleqh9yLBJaLVq5mqdsJniLysg9R1OQ8PzNoICu/9wLZ5LFji5X0odPJTLVQ+slWcr+Aov1tnx/XnStZdZ+bBJOX0k+zyC30kjB0LO6hM1n260Ss31/O+qaBl2Mkt91pgdJ8srcUwJAJZA6awKLH1+B8YimrctrY0R0reeZBN05vKfnZWymssIX2kzqBRY89R/33fsDakx05VgB3+Jw3Xqt1rhFMvPMJXMUXfha1/1gX88zTS3HHhZbbVujBkpSOe/QAMu98glX19/PIKxe7IifwyItPMDfVgre0gNz9Ta6FOx5lVUoij/ys+fsiYdJKljVepyUWUsePI33QTJY96aT+rhVsusjeQtr7HmrndXo8m21b6nFPmUAqBWR/kI/nzDnynV9Qmj6OGcMT8BZmseNTD55j+UDmJdqXxc9/s5OX/2UqrklLeHzSRn6+C5i0nGWzBmDxF7HtNwosRUSupPYGlwosI6tp6Hj6RFu/WF3o9PGciAeWELr/aiyy1LiWIl1Dtwwte/fuHQ4ea2trOX36NF6vj2AweNH1YmNj+afvPkhiYmK793UkP593393CX/8aCi379Uthwa23cscdX6Nnz54AVFdX4/FUUVNbQ8Dvx2QyExsbQ2xsLDExMYwcOZKUlBT8Pj+b//a3ZhMFdeb2DAYDaWlp3PbVhdy2cAEOh4NAIEB5eTlVVVXhb52sVitxcXEkJye3GpBeis1mIzPzBv7h63cyadJEAOrr6/F4PFR6PNTV1mG1WoiNjaVHjx64XC4WLlxAXX09r776R44cOYLf7+/wfruSYPDqhpZLZozACeS/sYyHftMkjkhZygu/WUz6kAksYQ2ryGXT4SJmpLhIv3EmbNkaXtR9yxBcQNGhN8kFmLOMxeMTwJPLmoebhkcTWP7SU8xw38vyu9fxyB/O785iPMGGh5exuknQtOTh9rYN3I8tJDMBPLlrmgWOjdVQzVxG+1pnwekoYNPPl7KqseIu5SFeeHEh6YPcLATWXGoTbXDGecl+/gesaKyK/NZzbLg7g4SUJPL+0CR8aqyAHTaVGWxsUgFrwXJmKyvuWxkOVFzfeo41d2fgXrgc959Xkgu4HryHmYMscLL5sqQs5pnnl+Kes4zl27JY2eR3T4sni1Xfakcgdfdj3Ot2QkUua5qGiCkzefyZ5UwbMo97HlxH9m83svbZjSxaOYHMVAuegpWsvEiFJcxj2SI3CSYPuS8u47E/nb82Mn+ylqdmubn3R0tY/+ir51cxWaBwI0/evyp8jJk/XctTNw5g5jeXsCrnVVqzaGI6Tjzkrr2Lx/7U+KiLe379IkuGpOKeC2tf6sixFsHd94bP+ZNNX587V/LC/W6aB+wdONY7M0mPA0/uyyxpmAkbGl73u9JJdc+DV15u86y6H1sWCixbnCeGLuWFZxeTPmkxy+asY8Xm8+s442jRrnk89dojZCZcx7RZsOmSQ4+17z3U/ut0Hatz4Jn1E0jlHLnPrjw/e/gP1zBjeAJ1JXtZ+WzjmJZLLtVA2PUkq99fy1M3uph2/yO4d+1k7oMzcZm8FG5ezcpdl96EiIh8OZcKLhVYRp6n7NRlrRcbnxL6u6FKM1KMRiPBICirFOk6uuUsIDabLRwIBQIBamtrgYsHlgAWi5n09CEMHz6s3X8yhg+jX7/Qf8IGg4GvffWrzJw1g/j4+PD+d2dlseq5X/PA0u9y15K7WfbQw7z00lqOHDnSMLahiaSkJO68czGTJk0Kf+PT2dszGo0suuMObr7pJux2O8FgkNraOt55ZyOPr/gZ3/zHe1nyjX/kp48/wXvvvU9paellnf/Bg9O46cYbycy8IfzYsePHeeW/f8/3vvcQd379Lu7+5j28sPo/OHQoDwCHw8HiRYsYN85NXFzcZe236whdi8ar+Gn56v+5i4Xz5zYPBQFOruGzFsOJ5r6SSyGQMGwGM8KPulkwzAUUkbc5NDvjolkjSAAKP1jVvNqNLFZuy8OLhfQJ9zbfeHFBi2U70raZLHKH2pD7x+aVYNm/XE9ui8v1strXBu9nO8+HLQAn11FYDJisDV1UL1PxIdY37cb9yonQcXkOsqNptVzOIYo8gMVK869UvOS9u7JZBVjRKy+zuxhIGcGC8QAulmSmY8FD7obmy3JyHa/lFAEuMm5xN9uy58TedlTQwdKpGVjwkrehRdXjya38/N2G8zy+HaFRS3fMICMBKNzBc39qfm1kP7uNvBqwDJ7IPc2eKWL3b1Y1O8bspxuWHT7tgslYmnPiGrGQ83XlRaz9/gLmLVjEIy91/FjvmZAeWnZbi9fnT6+SW0xzl3Gszr4jWDi0yXZf+QEL5y9g8aNtB5ZN30MtzxOfruHF7CIggYwZC5uvVryX15q1ayO5JzyABUv8RXbXxKXfQ5d3nXam7KdXs6MYSJ3Fst8sY0YKeAu38J+/bE+XexER6QyNwWVpSQlAOLhUYBl9Ynu2P4BsrLI8mvPOlWpOu5y//7p0NiAi0aFbVlrW19eHZwUzGo3YbDagfQGR0WjqUHWhyWTGZDRhNpsZNmwoY8eOoa/LhcFgoLq6mr/85U3e2biRTz/9lPLyCnw+H5WVHs6dK+WLL77g1lvnM3v2rHAVpHvsGHJz9/L555936vZOnjzJ9ePHM2JEBomJCQBUVFSwZs3veH/7DgoKTlBVVU0wGKS6upozZ85QVFzMbQsX0Lt37w6d/8mTJzFy5AhMJhM+n48jR47w8suv8OGuXZw9W0JtbS3V1dV88MEHpKb2Jy1tEAkJCTgcdqZPm0rBiQJ2ftC+buhdmeFqdg9v4HJPJXPcBEb0TsQ1xIWrV9/wuHFhJ18l97N5pA65jplzYNtmYPxtpCcDhbmsbajGG5DkBLyQcA/Lf9JiG45Y6gBnwgDcEKrMBLwVxW12pb5028biSiDULfeC3igbKTj3CJkJ5x+5nPa1xVNW0OKRIur9AD1InAW0b5LLC9VXtr7vinPsbNcGTlFwQaVoLnmnPExLduHKBHKmkZwA4MWWvvzCc5HU8Fef5mfCU5HPpS1kSG+AEorebeXpV05QdHcGqb1cLILz1XDtkZZI6BVM5J6fLG/xpA2nH3AmkDoeaLweWr02Xqbg7BIyUl0M+SrwxoW7Wr87nyVuN64pD/HC2w/iOZtP3se57HjnZTaFx2zsyLHOJD3ZAhS1smzj63OZx/qnbPK/7sadPJVlz2/igYoi8g/nkvv+BtZuvtRrdrH3EOTmFeG50YWzd3rzJzyn2niPOHG28+Ph0u+hy7tOO9f5buKpQ1zgLWBry3BXRESuuNYqLh0OB6DAMtKajk852H0rR/e8c8mxLZPTxkW8wrJRJO6/ROTL6ZahZcnZErxeLxDq6tyrVy8sFnN4TMW21NbWsXXr1nBVY2ucTidpaWmkpPTFZDLh9/vw+XxYrVZuuOEG+vXrh81mo6amhqNHj/HXv77Nvv378XjOdwWsqamhpqaGnR98iCMmhlGjRtG7dy9iY2NIT09n+LChnD59ulO3V1JSwqRJE0lJScFisVBRUcH+/QfYsnUbx44dazbeZ0VFBZ98cpj33nuflJQUbpk3t13n3WAwhMbgzMigf/9+4ba9s3ETu3bv5vPPv8DhsDN4cBrDhg1j2NChjBo5MtyV32AwkJ6eTv/+/S75WnVlETmslIUs/9m9zBjUJAX0e/GczafQm0FqQtOFi1h/IJ+FQ9JJv3EebN4Y7hqen/NqeGzJUMBgITVzZnhylQvExjKE8xFDXa3nwmU61La2natsuu3La19bPBVb23im/ZVmrW63pLD1J/z1lz1OZlM2J0AqSU6ABDJmzSSjjWUtsc1PtLe2PcGQraFev576k5datmMW9QnVlFpSJzCjzRfQiXMQ50PLS4W9bX0f9eflPFT/ED/42gxGpjhxJmeQOT+DzPlLWHp8K2v/ZSUbTnbkWBMbJpRq33np2LGu47Hv17Hs+7cxY+QAnHEuMjLnkZE5jyUPFrDtpRWtTML05Xgq2666t7Wz1PjS76HLu0473a6NDeP6AucK2dH+4bpERKQTNQaX10+aEg4sgW4TWP6/7+Zz/RAPJ89Z+eovRgAQ9Lbye3KDps/9Ww8DYy2wuQ7+verq31gcy307HESOvvk77Hr96YsuP+n2n4b/fallr5Zuepsp0i11y9CyoLCA6ppqoDG0TCIpKYmysvKLzhZWU1PDunV/xmpreyKegQMHcvvXvkpych9MJhM1NbV4qqqwWi2MGT2K+PhQ1+aKikr27t3HwUOHmgWMTZ05c4YDBw5yKO8QUxOmYDKZcLlcpKens2v37k7d3u6sbMaMGR3eXmlZGbuzsvj8889bnaDI7/fzySefkJWVxZyvzG5X9anRaCQxMZFkVzJOp5NAIIDH42H79h0Eg0FGjRxJ6oBURozI4Prx4xk2bBg9e8bj8/k4e/YsRUXFHDt2jJJz57p1aHn1uVj6+IPMGGTBezKLdX/ZyN7sneSeBHDz+CsrLwj1in6TTd6cdDLSpzKXIjKHucCfT95fGsOQHZRWLAVn05nEr07b2uK024DGa7mz2tcZ3MS2f26vThE6F148ZwAKKfFAqiOf9fOXXfb4m62rgwCAFWsK0InB5c4SD0txUrprJUt+1lbg1UJcIlNpWdHpwmoC8OItb3vVorde4LG3XgDSybxrHnPHjcU9egDOQTN54EcFbHjU04FjPUfoe7P2nZcOH+vJDaxevoHVQPqkJcyd5cbtdpMaN4AZ9z9GwVs/oPXRO6PZlbxO2y/zJ6Fu4fiB5Kks+8kE7n1W3cNFRCJh5Bh3s8ASuOis4l3Jx0edXD/EQ0ri+XtTX/HHWFOmtbq8r/hjAJKNMNYSeqwoEJl7paM575Dmnh+qthx/C8lp43j3pYcuqLhMThvHpNt/Gq6yjJbAUkS6lm5ZH52X9wmVlZXh8R2dTidjxoyhZ8+Ll0TV19eTs2cPu3btbvXP7t1Z5B/Jx2w5n/VWVlZyrqQEk8lM//79iYmJAaC8vIx9+/bh9bYdkjYut3/fgXBlaM+e8fTu07vTt2c2m0lNTQ1vr6K8nIMHDoaXa83ZsyUUnCigtrauXQGiyWSir8tFjCMGg8GAz+ejqqoao9HIxIkTeOCB+1nx+E9Z9r1/YuLECcTEOKioqODEiQK2b9/B//vtf/L0v/6CrVu3hbv3d2fBq3aMCxk7KNRVdcdPV7D2jcZQEMBNUqtDiL5M1lEvJFzHtDsauoYfz20ygU4RRRVeIAGXu5XuHt96jg1vv8WGXz/UiW3bS1Ep4HSRMb7lduY1dMft7PZ1nMXecsy9ts5xZ0gk+Y6WjzWeixJKDgDk46kCTC6GXLAsuH+6lo1vv8XLP5t3GfvfwGdnAFykLmzl6W8NxAVwtqhjXQF5nxsAACAASURBVMOBoqJSvEBCv7Fc+Arey6q/bGLDX55jWdOHnYkMSGm57LxQl+iaIvJbvcdZyFOvvMXGt1Y3jHmZT/ZrL/Dz5UtZ/GIuHsAS56Jjx7qV/GJvG8u6GoYuuLxjXfgva9nw9lu88GDo2fxdr7L66eUsvXMNuR7AEdvKNho1vocG4p514bPuDBdOwHOmPUMDdLYreZ2206TlLLs51C1803MbKfSC6+ZlLJ905XYpIiKtazmGZcsxLru6nM/O/y6wIDN0bLWfvY63+KMLlvUWf0TtZ68D4GpSR7Lfd2XbeDG7Xn86HFLGJriYfd8LfPXRdUy6/aeMnnkfs779PLO+/XyzbuF9Bo5n8PhbItVk4Gref4lIZ+mWoeWBAwcpLioOVxDa7XbmzZ1DcvKXG0vDbDaT1CuJodddh9kcCi5Lzp3j5MlTGAwG7A57eAIgr9dHeXk5gUt8A1Zf76WsvCwc0lksFmw22xXYHsTEOMIVk16vj4qKyouGkcFgkLr6eiorK9sVIhoMBmx2W3gfoUrPZH75y39j+U9+zKxZM+ndu1fDBEC1ZH/0EatX/wc//NFPeOrnT7N16zbOni25JgJLgMBVqyT1Esq6bViaTbDtYuHP55HhALAS2yIIfPXjfLwkkP71Ebjwkreree3T2vcO4gFSpzzGkiYTgpCykKfmZ2AxWThxeB0X15G2bWV9bmgyDvc/LG4WzGT+cBHuFr1GO6d9HXCmCi/g6jetRdumku5oa6Uvy8nI+Y+Q2Wx/DeeiMJe3cgByeWtvAeDEvXB5qIqs0dCHuH+yC0weCj/ceFktWLMzDy+QPnsli5puO2Umj8/OwALk772Mur9XdnDQA6ROY/ndTcdYPH9tWE7mtwhDBzD1+02vDRczfjaDDAd4Du9gbas72sChs4Alnak/mdDsGVeiExtAvafDx9p4/bVc1nXnI0xtWT7cgWPd8GkpmCykT1re7HUnJQGnCfDX03bnssb3UALuJc2vG4Yu5f5MF1BK3rYNbW7hyrmy1+mlTWD5gzNxmaDo/TWs2ryK/3y/CEwuZjzY4lyLiMgV1dqkO61NztOVnSy1cPJcqCvO0tnF9E0M3bdWbv8R1Xueo/6L7dR/sZ3qPc9Ruf1H4fV+FHt+noa9bdeeXHFVpUW8+9JD7N/2OyAUXMYmuBg8/hZGz/hOeOKdqtIi9m/7HUdz3gk9d/N3GD3zvoi1++rdf4lIZ+mW3cNramrYsyeXwYPTyMjIwGKxMGbMGCZOyOTcuXN88cUXl7XdtLQ0xo8bR0xMDEajkdraWk6ePEnh54WYTOaGCYBC/xGazSZinU6MxotPAGQ2m4iNjQ3P8O33+/F6vQSDwU7dHoQqSf1+P2azGZPJhCPGEV6uNQaDAYvFQswllmsUDAapqwvtA0LdxR0OB/379cNkMlFdXc3hw5+Ss2cPubl7OXGigFOnTnHu3Dlqamouuf3uwmAIjaMSCAQ6NOnT5XuZHYcXkuFOYNqP1/JMziFKSSR99EhSE6C0wktCXIuxAQH+sIODd2TgTkiAmjyyXmmx2T+v4tWJq1nqzuCeX73G1Nw9FNYkkj7eTaoTvIUbWdtyRvAv2bbcZzaQe/1S3O6lrHltBrk5BZA6DvfQBCwtN90p7euAV3Zw8KsZuIcs5IWXUsnNq8I5ZAQjBzmpq/BiuULVlpbUeTzxWnrzc+EtYNOLq8Jjdeb+cg2bMp5gbupMlj+fztycfEodA3C700mwgCd3Has3X2YD/vAML49ZzVK3m6XPr2Va3iGKmp7n45d7ntfx3GuZvHC/m4xvPcerk/aQW+glYehY3KnOUDXcKy9cMPan072UF17MJPfTKpyNy1bk8uqv2w6oX/3fLcx8fB6ps57g1dQ95BZ6sCSl4x49AAulZP9lTcePNXz9uVn6/Boyc/LxxIW2eeEwkB041j/8D1tnhF7LJ14bQG5OAR5LQxscULprw0W7Vuc+s5pN6U8wN3UeT7w2goP7m18LpTlf4lr4kjp2nTZUZiaPZOEvlpP+6V5WvnT5gWa4W3jxTlY3dAfPfnY1O0Y9xbSUmSz7yTZ1ExcRuQramiW8tcl5unJX8VPnbDz5vwP4f9/NJyWxnn9L8fHDMhvFAaj97C/w2V8uWOffehhIbig5eqUm8uFbVWkR+7e+xNE97zD65u8Qm+AiOW0cVaVFeMpOcfp4Dvu3vgTA4PG3MHj8LaFg030rQPi5q6mxOKbxfkxEol+3rLQMBAJkZWWz/8BBampqGsZaTGD27FlMnTKZXr16dXibSUlJTJo4gSlTJ4eDpuPHj3Ps6DEqKioJBPycLj5NXV0tEJqw57r0dEymi+fCTqeT65pUblZWeig9V9rp2/P7AxQXnw6P6RkbG0taWtpFQ7O4uDj69O6Nw9G+0NLv93P27Flq62oJBoPhdcrKyti58wNefe2PrF37CuvWrWfTps3s2bOHL7744poKLJsKNIS7V8P65StZn1uEx+HCfeNMZkwdSYJnD+ufuZ+VuSWAE9fQlt2a17EtLzQBh/fo7lbGyCti/fJlrPxzFoU1TtIzZzLjRjepNg+F2et48v72zbrbsbat47Hvv8C2T0upi0snc9ZMMtMsFG15gW2FAB48xzu3fe23jsf+bR3ZhR6cKW6mzZqKu1cdB//0JK8evXDc2M5RwLbnt1JkGhg6F0MTqCvMYv3Pl7JqV9Plslh1/w9YvSWfUgaEznNmOgl1peRveYGHlq/7EhP/hM5zaNtJZDScZxehbT/y4OWf56I/LeehZ9aRXViHc8gEZsyaijvFhqfVYwQ8uaz/Uy6ehIbznwKln25l9feXs/5i40ruWsWKX64jt7hxPzOZNrovnMxi/TM/YEU4KOvIsTZZ1hQ659NG94XCrWzIvbAWsv3HmsWqJ37F+twi6pyh98CMG924AgVk/3klj/zsUsFdFqvuf5L12QXUOc9fC86ahvX/z5e5Fr6sjlynuby4IYuiGguu8TOZMX8GrfXab5fGbuGUkv37J5u8hln8/PdZlKJu4iIiV0NbgWWjxuCyu1RcfvyZk//8m4uTLw6nz0kn/93TwBwb4WCy0Rwb/HdPQ3gsy71e+H0U3T5VlRax6/Wn2fJfD/M/K6bxxq8Ws+W/Hm4WSh7NeSc8pmVjcBmJisuref8lIp3DMCgtvVt+x2C1WrnttgV861v/yKiRI8NjLO7YsZM33niT3VnZnDlzBp/v4oOBmEwmevfuxYTMTG6//WtMnz4No9GIz+fj1df+yPr1r7Nv3z6cTiff/va93HHH7QwcMICqqioOHDjIz/75SY4fP97qZDdOp5Pp06by4x//kAEDBmAymfjo44/54x//l40bN3fq9v72ty08+ugPmPOVr+ByJVNSUsLOnR/wb//+S4qKii84D0ajkVGjRrF48R384zfvDj/+3K//L7/+9fMkJ/fhjb+8TnJyHwC2bNnK0ge+i8Nh5xf/+jSzZ88mJsaBz+fjyJF81q59hffe305RUfPbYZPJRFxcHP379+fs2bOcO3eu1WPrLs6HuUEsFiuxsbGRblI3EZq0Z1pyAZvmLmVVpJsjV9linlm/FDe5rFm0vMPjZ4qIiEhkXSqwbMrhcIQrLiEUZl6pisux429gb86F40x2lr6JddxdZ2eO7cLnigMXBph7vfDjyq57+z54/C3h2cSrSos4mvvXq1pxWVVV1TBHhKFZkY2IRK9uWWkJoa7QO3d+yJtvbKCmpoZgMIjZbObGG6ezbNn3uO22BfTp0weHwxHuLm00GjEajZhMJsxmM3a7nV69kpg7dw7f+953mT59GiaTiUAgwOnTp9m+fQeHDx8O72/37izOnjlLMBgkNjaWESMymDNnNikpKZjN5vD4lEajEYvFwvDhw7npphvDFY+BQIATx09w8OChK7e9s6HtJSYmMmXKZNxuNwkJPTGZTBgMBgwGAyZTqIv5hMwbuPmmm9p9zoPBINXVNRw5ks+pU6fCj9tsNs6WlFBRUY7RaGy2nx49nEyePIl//tkKFiyYT0pKylXqMh0Z5z8YDfj9ERw9u4t65Leb2PjWWh6f0+KJOYsYmQyczGdbJBomIiIiIpclpX//dgeW0HrF5cgxLXsMdQ2nztn496ogP64MUtxiWP+WgeWPK4NdOrCEyFdchu6/QvdjCixFugZTz4TEf450I66U2tpaysrL8FR6yMgYjs1mw2g04nQ6ycjIYPq0qQwaNJCePXsS44jB4bCTkNCTAQMGMG6cmwUL5vPt++5j9qxZpKT0xWw2EwgEOHu2hOdf+A1ZWdlUVFQAoS7p586d47rr0unbNwWnMxaz2cywoUNJTEwgCHg8oQltkpP78JXZs/iHr9/JjTdOx263A6Hu5hs3bmbHzg/wer2dur36+npOnz7NyBEj6NevH3a7HavVysgRGTjsDupq66iprcFisTJs2FC++c27mT9/HgMGpIbDUYBdu0OzqDudsSy56y6czlCl4LFjx3hzw1sA1NTWkpLSl2FDh2I0GunRw0lq/37ExsRSUVFBdXUNNpuNjIzhLFp0B3f9w9cZOvQ6Ro8eRb9+KVRUVlJQUHj1LpQICAaDBIMBrFbbJccplfNqh9zETcP7kZa5gJvGjmDE+EnMW/QAyxYMI97oIfeP/8rvD7U9DYl0VyOY/Q/X46KInP99l7xIN0dERETazef14vX5MMAlA8vwOj4fpedK6BEXT21NzRWrhnT1TaH41MXGmOkcxQF4vRb2+aC4hxlDHxv7U2y87gnyQYWf/6iGz7pJz+bSU/lUlZ+if8aNWB1OnD1T8NZVUnoq/4ru1+8PUFsb6levwFKk6+iWE/E08vl8fPHFSf769jsEggHm3zKPtLQ0rFYrvXv3Ij4+jl69epF5ww1UVlaGx3u0WkPddhMSE+jTuw8Ohx2DwUB9fT35+Z/xxptvsmPHDkpKSsKzbzdWGb6zcRNx8fHM+cpsYmNjSUpK4qabbmRI+hDOni2hvr4eu81G35S+9O/Xj/j4eAKBAJWVlbz9zkZ2Z2WHu0d39vYqKkKPxcXFcdNNN2KxWBgwYAC33noL48ePo6ysjGAwSHx8PIMGDaJ3717hsTE74tixY+zYsZP+/fqRmXkDFouFjIwM4uLimDR5Eh6PBwPQs2dPUlP743K5sNvtWCwWKioqw0Fwd3V+xnYD3vp6TA57RNvTleT+egW/ql3GN2aPI9U9lVQAvxfPySzW/2E1a7ZFbjQ+EREREem4mpoaTn1eyNEjn3Z4vYP7crvV+Ph7vbDPaubVBaEhuPyvFhOsi+A04VfI0Zx3AJh0+0/xlJ0K/3wleetD3cIBdQ0X6UK6dWgJoQ+zo0eP8uabb1HlqWLy5EkMHz6Mvn37YrPZSE3tT2pq/4tuIxgMUlx8mry8PLZv38GmzZs5daooPPtYU/v3HyA+Ph6L2czEiRNITEzE5XLhcrla3XZdXR1FRUXs2PEBf/vbu5w4ceKKbS8QCJCTk0NcXBxmi5nrx4/H6XQyePBgBg8efMG2SkpKOHfuHCkpKRc9Py15PB4++ugjYhwOjCYjGcMziImJYejQoQwdOvSC5f1+P6WlZeTs2cPOnTv5/PPLm929K2kc19Lr9WJXaNkBRWz77Qq2/TbS7ZDoso7HFrU9O7iIiIhEt8sNHrtTYHmtOZrzDlWlRRQf23NV9uf1egnllIYmRSQiEu26dffwRsFgkLKyMg4f/pTi06dD41taLNTX1RMI+C/4T8vv91NXV0dVVTWlpaV88cUX7N69m9f/8gab//ZuswrLlrxeL6dOnaKoqJiY2FjMZhN+f4BgMEAwGCQQCOD1eqmqquLcuXN8dvQo29/fwdq1r3Ds+PFwteeV2l5tbSjUPHPmLPFxceGxLyEUavp8Pqqqqjhz5ix79uRS+PnnDB82LHwed+/OYvfuLGJjY7jzzkU4HA4CgQCffXaUt/76dng/5eUVFBUXUVZWTs+e8UCwoUt0aDt+v5/a2loqKir44uRJ9u7dyyuv/J6Pc/ZQVlb2ZV/yqNb4rV4wCEECmM2WZl3wRUREREQk8q5W9/CmDPFmjKOdAAQPVEF59x0Hv6rs6vSS8vl81NXVEgwSnl9BRLqGbl9p2VR1dTU7duwkKysblyuZqVOnMG7cONKHDMHlchEX1wOj0UhVVRXFxac5duwY+/YfYPv2HRQUnKC6un3f5FVX15CVlc3evftwu8cybdpUxoweTUpKCna7jerqao4dO85HH33MBx9+SF7eJxf9tqezt1dWVs62bX8nKyubG2+czpTJkxk2fChJiYl4fT6OHzvOu+9uYd/+A4wcOYKv3rYQCIWafr+/4d9BysrKMZstQKi6sqXTp8/wxhtv8v7727n55puYNHEiQ4emk5SUhN8f4PTpYg4cOMjODz7kgw8+oKam9pr71isYDFXHXk43fBERERER6X4CO7t3EcfVVldXxzV2mynSbRgGpaVfc29fo9GI2WymR48exMQ4wuMpmowmMBgIBPx4vT7q6uqoqammstJDXV1dq93BL7Ufh8MR3o/FYsVoNOD3B6ivr6eqqgqPx9Pubg2dvb3G2budTid2ux2z2UIwGKSuro7y8nLsdjtf+cps/uWfnwCgvLyc1av/gzUv/g6TycSQIUMwm0MzfXs8njYnz2k8105nLA67A1PDOl6vl5qaWjweD5WVlR0+v13Z+XFUQtWnPeLiMHfjWdNFRERERLqaseNvuGKT/MjV4fP7qayoaNY1XJWWIl3HNVneFQiEQr6SkhJKSq7sfqqqqqiqqoqa7fXq1Yv09CH079+P2to6tmzZSllZ62NIDh8+vNl4n2fPloQnyfH7/Xz6afsGy/b5fJSWllJaWnrZ7e5umnYRB6irqcHsdEawRSIiIiIiIt1LXUNBT6hruGYOF+lqrsnQ8lpkNBqJi+vBjJtvYsrUKQxITcXj8VBUVERe3icXBKExMQ6GDb2O0aNGhR8rKCzg9OnTV7vp3VbTast6rxeLtx6rxRrpZomIiIiIiHR59d566ltMwKPQUqRrUWh5jTAajfTu3Ztbb53P5MmTsFqtVFfXsOiO23njzQ0cPXqU+vp6gkGwWCwMGjiQKVOnMGbMaCBUWfnJJ4eviZm9r5aW1ZY1NTUKLUVERERERDpBjaosRbo8hZbXCJ/Px9Gjx8jKyqZfv36kpw/B4bCzaNEdjBo1ij25ueTnf4bf52NQ2iCmTJ7MoEGDsNvt+P1+zp4t4eOPczhRUBDpQ+lWmn7bFwwEqK6uJiYmJsKtEhERERER6bqqq6sJBgJNCkVUZSnSFSm0vIb4/X7efmcjjhgHX7PfRv/+/bFYLAwePJjevXszfdpUgsEgDoeD+Ph47HY7wWCQ0tJSXvzdf3H48GG8Xm+kD6NbOf/BGQzPJG4ymbDZbBFtl4iIiIjItU6T8HRNdXV11NXVAWAwBAGDAkuRLsrUMyHxnyPdCLl6KisrKS8vp6qqCpvNRs/4ntjtNnr0cNKzZ08SEhJwOp1YLBY8Hg+ffHKYt956m3feeYfi4tP4fL5IH0I3df5D1Outx2wyYdJs4iIiIiIiIu3mra+nqrqKxvsrhZUiXZsqLa8xfr+fQ4fyKC0t48yZs0yaNJGUvn1xOp1YrVYMBgP19fV4PB4+//xzcnL2sGXrNk6fPo3f749087utxu4KwWDom0BPlQenoQcWiyXSTRMREREREYl6Xq8XT5WHpoGluoWLdG2GQWnpwUg3QiLDaDQSExPDqFEjGTJkMElJSRgMBkpLy/j000/Jz/+Ms2fPRrqZ14xm41sGAxAkVPVq1eQ8IiIiIiIibfE2FN5gAIPBCGgcS5HuQKGlSBS5ILgEYmJiNcaliIiIiIhIK+rq6qiurgIUWIp0N8ZIN0BEzms6MU/jB251dVX4Q1hERERERERCmt4rhe6fgg3/VmAp0h1oTEuRKBQMQuhzNvRhW1dXj9fnx2G3Y1V3cRERERERuYbV19dTU1tLwO+n6aSm5++jRKQ7UGgpEoWaDhodmpwHAn4/VR4PXpsVm92BWbOLi4iIiIjINcTn91NXW0N9XX2zdFKT7oh0TwotRaJUy+DSYIAgBurrvdTXe7FardhsNsxmvY1FRERERKT78vl81NXVUV9fH3rAYAjdHwUVWIp0Z0o7RKLYhR/AwfDf9fX11NfXYzaZsFisWKwWTKq+FBERERGRbsDv9+Ot9+L11uPz+xseDXK+O3hjcKnAUqS7UmgpEuXOzybe+GEcJBg8/6Hs8/vx+aupqTVgMhkwmULhpclkwmg0YjQYMBg155aIiIiIiESfYCBAIBgkEAjg9/sb/njx+4M0DymhMaiE88UdCixFui+FliJdxPnwkibhJQ3fLoZ+9vvB769v8lzLCk0REREREZFo0rRI4/zPjYHl+W7goecal1NYKdL9KbQU6WIuDC/BYAhVXzatxDz/Ga7uEiIiIiIiEp1CE48amtzbQCicPP/v893AFVaKXEsUWop0UU27jTf9OfShHqq0bPw5qEJLERERERGJSk1nAT//c+P4/o1FGAorRa49Ci1FuriWH97BJgmlPthFRERERKQrCAYbCy+CTaoudT8jci1TaCnSzeiDXUREREREuhrdx4hIS5pSWERERERERERERKKKQksRERERERERERGJKgotRUREREREREREJKoYzWYNaykiIiIiIiIiIiLRQ5WWIiIiIiIiIiIiElUUWoqIiIiIiIiIiEhUUWgpIiIiIiIiIiIiUcXo8/ki3QYRERERERERERGRMFVaioiIiIiIiIiISFRRaCkiIiIiIiIiIiJRRaGliIiIiIiIiIiIRBWFliIiIiIiIiIiIhJVFFqKiIiIiIiIiIhIVFFoKSIiIiIiIiIiIlFFoaWIiIiIiIiIiIhEFYWWIiIiIiIiIiIiElUUWoqIiIiIiIiIiEhUUWgpIiIiIiIiIiIiUUWhpYiIiIiIiIiIiEQVhZYiIiIiIiIiIiISVRRaioiIiIiIiIiISFRRaCkiIiIiIiIiIiJRRaGliIiIiIiIiIiIRBWFliIiIiIiIiIiIhJVFFqKiIiIiIiIiIhIVFFoKSIiIiIiIiIiIlFFoaWIiIiIiIiIiIhEFYWWIiIiIiIiIiIiElUUWoqIiIiIiIiIiEhUUWgpIiIiIiIiIiIiUUWhpYiIiIiIiIiIiEQVhZYiIiIiIiIiIiISVRRaioiIiIiIiIiISFRRaCkiIiIiIiIiIiJRRaGliIiIiIiIiIiIRBVzpBsgIpHR12zEGG/hVCBAoNQb6eaItCk+Pp7UgYM6tM6BfXuvUGvkSmjrNb5mX0dLT2JNHqpqfZFuyRVxOe/pivIyCk6c6PzGdPNzLSIiItKVGQalpQcj3QgRuTr6mo3c2sPKAwkOAFYOtPPenD74S73U5ZRQ/W5xJ+1pIu7lv2NKfyh69zv8+Y3dLZ6/l+lP/4jRJX/mN796AniS256/g7isf+f3//1yJ7Xh8sXHxzNqzNgOrVNYcKJDN9RjlqxgXhqU7/o9v9167MIF3Pfxk/k9yXlpFe+e6lBTupVRY8Yyf8FtHV6vvLycA/ty2bn9/XYtP2bJCuYlHmDt6tfprHeBXFp8fDxTp9/U5vuto68jznFMXziNzEE9MRsAbxknsnfw1t/3UAVAGrOXfZPx5/7Os69u76Sj6GzjWPDoAkbYivj7qjVk1Ua6PZ3rrru/xYCBAy9r3fLycn67+v9efCH7bO5+dDLJeRv51evZrS+T8U0evT2N8h3bKb5hejvPdVe4dqJP8pxHuOcGJ3g+4Y//90+0+SnZ8JqY8Vzzn3siV0Tf23nwvlHEX2SR8o9+z283t/I76WXT/5si8uWp0lLkGnG9w8x/9O0BwClfgA2VdWTho/ZjC5bBTmJmubCNT6L02UNffmc972Bwf6irB9e4e0h4YzelX36rV8WXuaEuOHGC1/7wSofWiZ+4gOl7n2d7yWXtstubv+A2Ck6c4MD+jlXcDRgwkFFj3O0Pu+Sqi4+P55YFX2XAwIHs3P4e5eXlFywzavTY9r+O9sksemA2Q2weTnz8IUfOQeJ1oxk/ZQH393Xy4qvbG4LLaFeGpwYIVlJWF+m2dK5RY8YyYODAL/GePr9+m2p3caRwMv3ShzHCkM2hC76aNzNiRCpmzrI/6wQxI6d3y3N9pTR+wVB44nir79k2OQeRkQYnWs1DGl8TEbliSg+wfXMp9oYfY6/LZHJaLYc27+dkw2O1p85EqnUiIm3S7wci14gnescC8E+nKvm4pqEbXGktHK3EmGDBfn0iMbNcOBcPwLOu4EvtK+GWibg4yva36phyh5tRw2H7J1/2CK68AQMHMmDgQA7s28vO7e91aN3GarFL3lA3daqIE71cTF4wm5y173aRQOXqabw5PrB/72V1Ex41Ziyjxoy9drsYR7GmgeXbb7150ddo/oLb2vU6Jt84iSF2Dzlrn+fdLxr+j/vo7xya9zDfHDqQIT22s6+yM4/iSjnG3//jKf4e6WZcQV/mPR0X3xPartcDPOw9XMTNqakMzTBz6FCLbt+GcQwdbIbCPPbWHqOum5/rzjR1+o1MnX4TADu3v9f+L4VqPJSbnYwYn8nGY61Uv9qnMW6oGZ/Xh9nSiQ0WkfNqj3DooyPhH5MTxzE5zfP/2bvzsCjve+/jb9MhjooyKiib7CAgIiKKqIhR3DHqMUljFk1ijTUe0yZpero8bc9Jes7pOT1tnzbPSZqmaZZma5YaE2JcMJHgLqIim6yioiioEEcdw1SfP2YGBhgUiMtEP6/r8rpk5l5+9/1b7pnv/BYO5W4i/wYmS0TkSrQQj8gt4AW/vvgZbmsdsHRy8XQT57KOY9l9GuOo/niEeX6Ns/0TkUO9+UfpDvZ//gUHzvcjfNyyr3G868f2ZRgOHapu14OksbGxw14ljY2NHDpU3eoYndK7ntyceggYTUZit3835AAAIABJREFUF/a7RcXFj2DZise7NVxc3MflApbjUyeybMXjjE+d2OXjDh7oCZZjVNU4t3FWjq57jv/+wxvfkIClXA0X8suouWQgLGZk+zdHxBHlAdX7N6POldfLMSoqrRiiEhhjbP+u15jhBPSwUFRYe/2TJiIiIm5NPS1FbgGjehnYfd7qMmDp7NzGYxhH9af3lME0Vpq7d7KRC4gdCNVZ/w5AeclDxMalE8aLVHbviDfMshWPN//fEVxxfs3hv//j2W6fw7x9FduGLyVl0nxii16h6DJzqhkGT2LuvBSCBxgw9ACruZ7SzR+TmXcEgu9mxf3R1K/5T/62tyWfvSauZNkEEye3vsTLm5y+ECY8zA9neZP/5q9ZeyiQxLlzSInypo8BsFo4XrqLtZ9s4rgbrdE0PjUNLy8vvOJHULB/37VZlANomYNpGx8cG0L6mEC8DEBTA0Vr3yZzv5nBSXeRcUcoAz0Aq5nqLzL523ZHDwYDAxPvImNCKIM9bY9Z65la8tevIutAfctperS575esnCzfzIcVESyZ4TyfqQGvoXPImBZNQF/78U4eYddnq8gpa2g+XJ/IDDImDyd4oNM2mz4mx/mcN9jlApZBwcHNvbi6M7S/uqYBQkMZOzaQiu1HWt645Lrd6xM5n3kzownwNLTc+/dzOOk8nNhrJKmznObIdFE3HPOhfrC+iaTL3H/b3H4NZL1Ujv+dY4kaZGypx1vXsja3CkdKW8+x2ro8ThodaCt3LtPsouydrGLT36uJXDoJ01Wfr+zq6VIv9SuxbGb/wVQCwtoOEfdkzPBAaKpi/z7b3XY1n62jrQ235+XZ42Vs+2h3+/P08CZq6nymjvCljyNPDu5n08eZVJjbbJc2h1SnvDt7ooptmR+Sd7yl0Xf3Ouyok7a5ZrvQU7ZXL07klnN2aDSRCZ7s3O58c3yJjzHByT3sOupDfEKbfTtRBx11K+e9BsIcdbrKPoeeRyiJ8zJIDTXRs/n5tp3M1W3quojYdLK9AiODk+YxY5zz8+ZKbZaJ8EnzWz/HDu4nZ81aShu1GJqIuKaeliI3OT+DrZrvtlw5+nTxdBNNlWZu69+z2+cLHBVN77P7KNhs+/vI1r186RFDVFpAt4/pTmxD4lr/+3pqycncQ2PPQKbOHN3hVn0SHmbFI6mE9zZTui2HrPW7KD3vSeyMh1k2LRKqi6k4D8ExKU57eTI01ASXYGBkgtPk6wZiw33BfJDiagNR8x4kPdaEpaqAnPU5bCu1YIpJZfFDMxj4Na/uajpcfRCw92y9ZgFLJyEpLEgx0bB3G1mbCqi2mIid8zD337ecxVN9MO+zv37Wk+DJdzEvxvahfeCk5SyZEYnp/GHyNuWQtbWE4xd9SVywlAXD7b2Ye0SS/t2HSY/1xnrYdt9zdtdiiJjE4im+Tokw4D95OcsWxBFwsdZ2vE0F1BgCSbl7Od9OsPfQHTiDe+8aSfDtDeRvddpmwdLmdN1oVxoS3tjQEoB15HVXNOasJe+0gYDJD/PDFUuZMS4Or46GmvpN4Dt3RWA8tIes9bsoqrcyMHISD8xzqoMB81n2WAYpQwzU7N5G1vpt5FXZ68Z3HyDWuUN672gy7hqJ70VHnpdxsqft/jfnEQC+pD44iVhjA0Xb7PnUZCJ22gMsmRZ5+QsMSWFBiret3LlMswH/aStZMiOSwf9wLiuhpD80AXdvgeOG23pSe3ldbpmIzrKSv68Kq4dtiHgzYxKRgWCtPOBirkubPgkPs2KJra2tyLXd6+rbhpD+YAbhtztt2COSSY8uZ16SL9YjTnU4ZCQLHn2YeM+W7dK/u5x5Kb4Ymrc7jKVfJOmPrGRe7DenDoMtcNmtKTeqc8g/CQEjJrV+rgSnEj8QavZsot3Uzl2pgwSSelccAf+op6KsipqTFvBMZcE/P0B6hBFz6S6ymp9vk1jy3fn49+j6ZYjc1DrbXmEifuETLJ4WiefZKratt3/WsbdZiye6fp4NnPggC8YFYqwvYZtTmzlvyb1EqT6KSAfc51OQiFwTvgObKJtSwdEtfeD0lYOR3zo4httPjgB+1PWTefyUuNiefLlnA839nEo+ofRkMkljH6dn9r9844fjXZOFXY6t5eM9kTyQOIkZe/ewtqrtHGyjmTo5kJ5fFvDG86s4av+ynZe7icoFT5AxKp2UHS9QXDaT+JhgosihFMA4lsgAC/nbjxE7NpJ4r7XkNALY5nQ7W7ifaoaQ7m+Awzm89t4mW0+v3E3klaYTf3Zv+y+RN9CazI+ucQ/LNnq0nh8xL+8M9z+ZQkBI29dPc/8TqYRFj4TiXZzMXkXmyV4U7W+ZOyovO5L0x+4lcewEvPavxZA6g8T+VqrXvMDf9jqCdZvYtjWVbz86iWBHsG1gOjOTTVgPbuLFt1oWksnbtovU7zxMyuQZhO99h4ohfgzsYSH/oxdYW+3YpoDENG9qym9874XOzGHpWBnay2TqXh5fKiPrjy9wKG0Od4wJJH7SfOLT5tBYvo0PP2zTa9hopeK958gss/UaycvdzonFK5kUHUcsuygimhkL4vBqKOBvf15FtWPf3CyyAuazbFEcU6eOpsixOrWHAcve93h5TUlzb8m87EBSH3mYlJl3M6bkJfssjAa+VZvDi29votFRj7eaiFqwlHlJ85hx4NfN+ddO2/LoSHPEUKLYRenAdGaO8uRC1aZWiw7lbf2c+IXLmRHa9Vt6vXl5eXHvA4u7tmJ8R4oPUDk7lKgRKVBkW7W2Z0IMAT2slBZ1sKq4o609XcAbf3Rua7PIm7aSB5JaNh2YOoMxA61Ur32Bv+U51eE9GSz5zkjuSB9J/od7CJ45j0STmby3XiCruqWX0rYNkaR/914SZ2QQVfwGpW5ehx26vRAPtezcV0/K5BhGB2c2X2NUYgR9Lh0hZ5cZRjhv38U6CFw46Fz2DUTNf5rwXu3nud1W+gAr5sUxNWUbr23VkHQRh862V9Wj72ZGKPb2r6VXZd4mk+15M34GqYVl7RaZDAgwgbmEzFfesz8TN7GtMJXUgUeoVM9nEemAelqK3ORO/OMiY8Z8ycQxnZvQzXPAg/S44N29k41LINjjAl9eimH47P+y/0vm4skvITCBmJtg2sZlKx5v9+/rs3J03QbyzUbiZ81p3/sjeihhRqjZt4uz/Xzx8nL8M1FTVMXZHt6ExXhSXXiQCx5DiI2x7dYzIZKA8wcp/uwAlU0mgmLs3VJCQwj2sFBRWAJUsb/YDENSWbF0KTMmpRA+2MSFoiy2VbvHkERn1y1gCVCznxzn+REtFRxvdPV6Nce/BIPRPlnbpVoqTnmTPm8pS554mhVLlpIx1ZsT1Wa4vRdGfIkdaoKT+8na29DqlJhz2FTQMnTSa1gkA3tYKN1ThsHLKe/7WSkqrgXjECJDgZISKixG4u97gvvnzSclJpo+PavI27TNLYb4d3bRnba9aIOCgoEu9Ly8VE/ppld48b//k9+/tpZt5Ra8IlNZ/M8PEOs8l17NHjaUOQ9za6D6mBl6mPD3A2KSiPW0Upr9cUuwpHnfj8kptdIzOo7Y5vMeYdunLQFLx2s5n5VwoYcvodGOF83kf94SsHScu/STPdRgJHjoZSKLbcudI80eHhhxlJUG8ta3XSW9gfxNJXQlvHQjeXl5MT41rVvzmrZyaRdF5VYIiSC+B4AvY4Z7g7mcPcUd7BM9lDCjLd+PtsojK0fXbyD/vONvex02V7GnwujUJvvi9dVeio5Cz9AIghnNyGFGrKWbWwUAbOkrIyu7CqsxlOFxuH0dBtucs7My7mxeHKurLuwtpuaSkaHD42wv9BhNbIQBa2kB+W0DFl2tg9SzbZVz2R9JbIQBaorZY/ZulUd9ag5QYYbBkXF0f1yJyM2ms+2VL2NG+No+w+S1/ZzYQP76/ZzsYSJ2RPvn2YGCI1zwjObbK5aSMS2dqEBveh7NISe/Cvf5aUZE3I16Worc5GrqPThSbyB5qIUA7yZq6jtemrOXXxKGvv6cP5bbjTMlkzA2hm8BgcmzCWz3fj9i0mex9/013Tj2jdG1XiRf06UC1m5IYOj8OOZMLeDFE07v9fTAAARMfJhlHXyPt/bzge3FHDgfzdDwOCg+yIhIby6U5VBNAT3L05k3dCw9t2fhGxNCT/NBiu2xoeOfPceLNTNInxBJbEo68ePSwWqm6NO/krnf/QKXbXl5eV2bvPrqguuewR29DjiGcz8w1sSFuloO7NnFia/64x+ZRLq/J3wJ0IuetwOnGl32ZD1+ogGwRfiNRgNgJHb+Uqcv5615eQFV2/jguVoSp6YzMjqa1Ng4UoGzh/eQ+U5m+y/911Fc/AiCgoMpyO/aitHOq793PX+tXKjZRc57u8hLeJjvzAoldVwoRZ/Z375sHmKvcxbMp119jbJy8owFejh9iPqygeOueokcqaOeaEyDHF/eGjhxzMV2liOcNEPAwECggzknr5BmW1lpoNFVoTpWT0up+mbw6sqiZh0oLTmMNSaUmBEG8g8nEeUDZ/fu73jt8cvm+1msXzn+b6/DnpHMW9HRsH5PvDDS0wPOnumgHT19lrOA4VuAxX3r8FVj2cye0hQyYhKI/aSAitEJRHlYyM910fO1q3UQC5ZWcRbbvSdgNEtWdDD1yj/6YoLmuUxFbm2dba8u/xmGk42YAZOLKMOF/a/wvycmkT5jOEMTUohNSoFLFmq2fczfNpUocCkiLiloKXIL+Ps2Tx6f08A/jTvLcx91/EXQlPhdAE7v+WPXT2JaSFgg1GYt4e+rd7R5M5mEf3mZcXEZ9H9/Dae7fvQb4sX//UOnXrtqij9kQ9xKMkZlMGm3Uw+8C01YsVD09q9Ze4U1NIrLZhIfFkOw0ZvIQAsHNhcAUHrgMNZ5kYwwVtAv1MjZcucv7lYaD2TywQEAAz0HjiT1znQS5yyk8ehz7Yb3uAPnQOX41LTrO2z8skaTYh/O/Wfn4dxbIWr+j5nnD3CeC18B/bwYCO0+9A8e1FJHLRYrUM+m377Azsss0gRAUxV5a14ibw3gYcJ/xHzmTx3JgjuP89sPOhgOex182dhw5Y3aiIsfwayMO2lsbGRN5ked2COa1CVziD32MS+uKWn1ztm95dTOCiR4cCBwxPXubV1owooRz/4GONb2a5SBgX2NcAms2D9I9TMxuAftA5eBPngDtSeqYBCAiUF+QNvApTGQgZ7QWNLJ9LlgKyueeLkqVH7e36iA5ZV65HZa8V6KZoQSH5PCQFMoAzGTt6ek4+0vm+99MDTPaWmvwzXb+P1rWZcJJo8mrAn69PXGZTC6fx/6APX/sP/tpnXYodsL8TSzUpRbzh1Doxk5OpSBI3xtC/C4arq7UAdds3ChCS4Ur+L3mQXdSKvIrcZWZ67cXl3+MwwDvfCEDiun9fgm1r62ibWAwTOa+JlzSB83n4wTv+bDIoUtRaQ9DQ8XuQU895GJI/UGHp/TwK8eqifAu3WXjV5+SQR9ew29/JI4fywX65mjXT5H/5kJ+FJDZXbbgCXADoqLa2BgMiNGdvMiboDxqRM79e/qMVP06WaqrZ6MGeXUV7XkAJUWI/ET0/FqNXTcgFfSUr634gHi7WtXVBce5IJnIJETQwmwHKTY8bmz+ACVTd5ETkwg2MtCRbH9i3vfVBY8/jOWzXD0FrJy4eQusnYcxoqJQf5X8fKuklkZd3LvA4sJCg7m3vsXERc/gpkZc6/SAh5fl21l93+cM7ceohswnzuiHb8T1lJ0oAEGDic9oU0oyTOVSXEtq0s0FpZx8pI3o2eMbPMro5HgWU/wvaUZBAP+6St58smlJDp2bWrgaO6n5J8Cw6DBN3RBpUPV1RyqriYufkSn6otzwLLzPxI0wG1GvEbMJD2gze+xob54Aydrylzu6VJxLkVmA1Fpc1rmF3UImENqlIELJQUUOV7rEUjKzOjWedQjkNTJ0fS8VEtVc5zMk/g7JrWpxyaiZo8kAAvVB7q/sretrJhInJZKn1bvmIifFI071I4raWxs5J03X786AUsACig+YIGQJO4aZoKTZexx1dPVoeQAlRZbvvu3aWv9p00lvpfjb3sdDhjJ1Ehj62N4RDNj+dMsmRQN7GJPoQVD1ATSg9ts1yOS9LRQDJYq9he4dx121u2FeByqcznQCAGj5xHrAzX7XCzAA12vg+3soajcSs/hqaR4tWkTvCbx7SeeYF68r+tdRW5JnW2vatm5r9b2GSax7XRSJuKnDWfgpQaK9rV9nkUzadmP+d59Lc8oq7mEvM+KOYmBwb5DrtF1icg3nXpaitwi7vhxIL96qJ4F480sGG9mxwEjz5f9mFqf7zVvc6b0I/pG3YnPxGeo++LnXTj6Q8TFeUP9F1R20Knqwhd7qZ06m5CRy2DPN2M5nvGpaZ3a7qouzmPOITMnjhWTnT4IXtrFhs/iCJ6ZwrLvx1BRWEzVKRgQOZzEUNvCGxWO0bNVtiHiiaM8sZasbelNeWkPpZXpZIyKg/MlZDk+S57ZQ/GxCWQk3sv3hpSRt6cW64BAYuNCMViOUNyFOM/14DyX2r33L2p+3bGAxzXtCdspe9hfNoHg2AyW9Qohv+w0hsDhJMaY4EJLD4KTOWvJG3YvibNWsiymgPyy0zAglPhRgdBgBsf3hZNZfLojkgfGZvBkQBL5hWWcMBvxHzmcWB8jjbkHbHlcWMXZ0SNJX/kEkbv3U3bKwKDhw4kfCI3bC2/4gkqfZq5mZsbc5jrVUZ3pXsASoJactzfh/+gkEhc9QXDxfvYcsdDHfu97nq/i8521QGdXoylh7QcFBC+K49tPhFC9dz9lp2BAaAzDIkz0NFeRucGp59t5M0TfzYqAKgoLj3Dqdl9GjoxkYC8r1WveY6cFBgNg5qxXKssei7Tl5Vf9iRwZR7AXNOa+0/EiPJ1xMotPd8fwQNIkVqyIIG9PFaewH/+imUY8r3yMG6hg/75O9qrtmurCg5xNiMbLC05uzr18XXC0tbPieOD7gfa21tBc33DqSXsyZy07Y+5lzN1PE1BTQlFhHWc97fluNJNXVm47/6cfkhd8L4n3PUH4wRJ7XQ8kdlgoA40WSldnUnoJt6/DDt1fiMehij2FDSSOM+F1qZY9e80dbNfFOtiOldINm6kImUTqY08QW15OUVVLO+t14QhrK7UIj4izTrdXO99jbfhyZsxYzoqRZeTvq+Wspw8xw6IJ8LJyfPNaF6N0SiguszBmrNMz6nYfhg+PZuAlMzuLu/+jnYjc3BS0FLmF/OhVb1Zt82TlnAYCBlr5qjoQ65mjnClbzZmyjwGwmmvon7gcoPOBy5FTCe8Hp7MzbVP2udLwdyqPzWZcXDpRHp98/Yu5Dm5UAOzs9lVsG76UFB+n1/a+wv8em8SMjNFEjUohvAfQ1EDF+jdYnes8gXkBlQfnEB8DlSXOX+isFFXUkjE0kAtlxU5Dw80UvfcCFybNZ9LoSFKmRcIlK2ePFPDhRx9TeqUhydfRlRZ/8PLyYlbGndck8NF5Zore/yvGuXNIiYkjNRSwWqjZncl2JrHA0aH1UhlZf3yFU3PnkBJl366pgYoNb7DaOoknZzl6YFo5+tkLvFgzgxmThhM/ztYzyGquJe+DVWQdsM89dSyTF//cSMadY4kalUJwD7BaGqhY/z6rc2/8F4HGxsYrBi67H7C0M+fwtz/VkTJzKikxo0mPBawWjhfnsPaTTV1fzKRmFS8+f5DUWRMYbb+nHR7PUEfOnzbhf2c68WmhGHqA9eQRtq35mJwDzr/kWCl6/w3OTspgUkoq8T3Aaq6naP1a1n7tfLJydP1zvFx/FxkTQkmcFAiXrJwsz+G1D//BpKcnufUQ8Ws2vUP1firM0cR71rN/55WDVI62du68FMKTUgjHUd9yIT2DRMeGl8rY9KcXOJo2h9TR0aQERLduOxutzds5VrVPHW2v65esnD1RRtZbH5J33N7IunkdBsfoA0f9ze72D3Ynt++nJiWVwaV7Lz/tRVfqoCvmHD74f0dInD3D1s5G4lQnutEmiNzsOtte0UD+27/jeNI8ZowLtX12xP7c++Bjcg64nhfz+GfP8XJD62fUhVNVZP3lffI0uayIdKBHSGiEq6njReQWZejrT9/IOfRPXM6Z0o+62OPym83Ly4tlKx6nIH8fW3Kyu7Tv+NQ04uJH8M6br7vJ3IrffI7h392Z384RALtqc+NdCz0McKn9/E0DJz/BkrFmsv7zJfJusie0l5dX80rizkGPrx2wvIHiF/6MGaFHWPsfr5B/me0GT3uCxUmQ98rvyLrcEOWvxQA9rK16BALgk8GypSNpWPuf/C3vxs0ZdtPX6Zvc1QpaioiIiHSWelqKSCu2npe2Xpdd7nH5DedYXMCxanFXOebuk6ujscHWQy1ueNfzwrHP4eqDVzVNV0343ay4J4L6dS/wtzynnngeI0mJ84STZVTfZAFLcN3jEmxB/29iwNK9xDHj8fnE1m/iRadFoMBI+PgYvGigqNo9Fjn4OnW6Ows7ydXx9RfiEREREekaBS1FpB3nwGXfyLk3ODXX15rMj9iSk93loOXhQwpYXm2NjY1syclmfGoaQcHBXd7/UHV1N+dcuw4q93KgIZrEGStZNrSgzbxRZvI+WOs2c9hdbY7A5fjUtObApQKWV0MJ+SVm4tvMaRk6LIJwHyONuR+6mGPs+jpUXf2167Ta2RtLvStFRETketLwcBHpkKGvf7dWEhe5mry8vBgSHNKlfbq/SMR11COQxLlzSInypo8B+7xRVWzLdJ436ubm5eWFl8n0jQ5Eudvw8IGJtvnCBnvafpe2musp3WqbM9M9+lnexHVaRERERK4qBS1FRERERERERETErdx2oxMgIiIiIiIiIiIi4kxBSxEREREREREREXErClqKiIiIiIiIiIiIW1HQUkRERERERERERNyKgpYiIiIiIiIiIiLiVhS0FBEREREREREREbeioKWIiIiIiIiIiIi4FQUtRURERERERERExK0oaCkiIiIiIiIiIiJuRUFLERERERERERERcSsKWoqIiIiIiIiIiIhbUdBSRERERERERERE3IqCliIiIiIiIiIiIuJWDDc6ASJy7Tz2XMGNTkKXPb8y7kYnQURERERERERuMPW0FBEREREREREREbeioKWIiIiIiIiIiIi4FUNgcPCNToOISDO1SSIiIiIiIiLSIyQ04tKNToSIiIiIiIiIiIiIg4aHi4iIiIiIiIiIiFtR0FJERERERERERETcioKWIiIiIiIiIiIi4lYUtBQRERERERERERG3oqCliIiIiIiIiIiIuBUFLUVERERERERERMStKGgpIiIiIiIiIiIibkVBSxEREREREREREXErClqKiIiIiIiIiIiIW1HQUkRERERERERERNyKgpYiIiIiIiIiIiLiVhS0FBEREREREREREbeioKWIiIiIiIiIiIi4FQUtRURERERERERExK0oaCkiIiIiIiIiIiJuRUFLERERERERERERcSsKWoqIiIiIiIiIiIhbUdBSRESk0wwEzH+CRxfEY7zRSZFO8Z2+ksceTqPPjU6IiIiIiIh0iYKWIreSflNY/Itn+MkvVpLcz9UGadz3i2d4bH7Y9U6ZyFVw7cuvcezDfDu+L+a6Q1iu2Vnk8sKY9tQz/GRJWqe2rq2pxxA0hcVz1a6JiIiIiHyTGG50AkTk+jGOjiIAKxarDyPS/Njx8bEbnaTWJizlJ1NM5P7116yvvNyGRkKmP8i0xCF43w5ctFBbsYM1f99I7WUiSQELnmZxXN/2b5jz+ctv3qfW/mefhHnMTYsnxGQArJjrK9m6+h1yj1gvmybfO+5iVlIYvr3t+9UWsW7Vhxw40X4/Q+gUZs9KZqi3EQNgPXeMvRvfZ31e3eUu3L6zD0NnziMtznH9Vuqrt/DRu66u/zqmyx11ukx1giGeyalDMJ7YwuovGpze6No9dta5MmkgaenPmebv4gBHNvIfL2d3+5JuCQXv8VHsD7kvYTbJOc+x49SNTpCIiIiIiHSGgpYitww/kuP84MhG1jWlMTdqPL60BOq+OQyE3L2S+2L70nAkn+zK0xj84hkVmcYjy/vyl9992OE1+Zj6grmS7LzDXHB+4/xhHCGoPhOWsmzKEIzmw+Rur+Rs7zBGxEYxbckTDHj7d6wvdRWE6kvI3d/lvti+WE6VsiX3GFbTEIZFxbNgeSi5bfYzxi3kkQUxmCynKczdQY21P2FRUSTNWUlE8Bs8v6r0MtfvR/KSpUzxNbRcv3cUw6LTeOSJMNa8+BJ7m4My1zNdNz9j2ngSelvY+8k6zja/2rV73FZnyiQEMaAfWE/k81nJ6dYHOHlr50nnWDmYtZuamPEkT4lhx3vFNzpBIiIiIiLSCQpaitwq/JMZarJSsm0Lhef8mb4gisRYWFN0oxPWRb3HMyaqLw0Fb/D8B46AzUZyJy5nxR2JTBz7Ie9ud7VjGINMwKkytny+xfWx+03hrilDMBzdyO9fyrYHpjayJTuN+5ZNIWlmBnmlH1Lfdr+kBfxTbF8a8lsH9rYMsO83925Kf/c2B62AIZlZc2IwfZnPa8+9T409npW7zkTCkseZFX8Xs8r+mzUFrgNd3jPvZYovHNz4W97a7AhrbSQ76i4eWxjPrG9Pp+wFe1DtOqbr5mcP+jfksdO5znTlHrfTiTIJwBC8PcFcnkfu51+3u+gt6tRGcquSmRuVzFCKOXCj0yMiIiIiIlekoKXILSJkfCze1kNk77QCeymZGUPcqGTWFO1wsbUB74kPcGdKFL5GOh5+3HaYsmMo9Zr3ya2ybxh2F489GA/5r/L8qtYBl4QlzzDLlM9fflPH5F9MIcT+etKDz5AEHNz4c97a3CZp57J599+3gKF1FOjskTrM+OE9OAxwFdjxw+QJDZWXGRIfG0YAFvZuy3bqSQecyia7dAwhcT4EQpugZV+SR4XaBX+XAAAgAElEQVRhtFay7uM2vd5OZfPWxlB+ODOGcWMNHNxsxZiWSPTtVko2ftgcGLRpYO9r6wj7l9kkJI9nTYGrIb8xjInrDw15rN/c0Pqt0vd5N28IjybGMz5sHesrr2O6HEOw1+3ElJxGhMngNLzZgClxHnPviCXA0/bIsTYcZkf2e2TvdVyDiYg5dzPZebj70XyyP860D69O475fTCHExVBo3/lP80h8A2v+7SX2tnrHvo/9r3ZlKjCNuXPHOw2Dr+NA7id88nklLuOL/eIJMUH9zh1O+d+1e9xeJ8okQGh/TEDDyS4GLA1DSLpnHuNCffA0AFYLtVVtp1HoTP7QcV1vO23CoETS5qSR7N8fw22uz+nIs+zVdQQ3T8MA1oZKPvvgjVbHM4RO4Z/uHG8rU4C5vpStq3e2udArlR9begsrjzE31J/wODhQ0LVbKSIiIiIi15+CliK3hHhiw4yYS3fYexgVk1d+hoTYGIYZdlDYJp5iDJvLo/Ee1JftYP0xKwOGxBIXmsYj3wtjzUv24ceGKKatfICkftbmYcqYhjAsKoppi54k6NPn+fvOhvZJcamUnV8YKPWNZ1pULw7m7aDUDA0dxmistI0sGUN9MGFhb0UHO/maMAEWYyKLn36AgN4G+1yYW/jo3WzqrXSqRWxq90o8wb5grSxudx8ByKviyMwwAkNHweYdhAf5gbWSwp0uNrbu5tCJ2UT7hjKU7Pa9wUKHEtIb6gt2tO/tCdQfOIw5MZ6QoX5QGXb90gVAX5KmTwHLaQ5WnYZLZ7BiIGDuShYn9Af7cPtT9CcqLp7xcx8nwPMPvLW5Ae+ZD3NPYn/MJ4rZUnICqymMEXGJLFhi4oNfv8qBbnXuvEyZMiTzTw9OIZrTlOfvprLBQEDcCIZNfIjBxhf406cugohRfgzGSnmd83tdy/t2OlMmAQaa8OQM9YMf4tEfh9kCc9YzHMzfyOqP81oH2JsZGLrwYaaFQX1VPrsPO02jsNTIn577hPpO5g+EMX7ZA6R5G2ioLWZL6Qn7EPg20ybYe/uarGc4WLCF0gZsbUdkGo+sHMLql1+lsHnqgiGkzR2C+Wg+2fmOtIUx7cEHOGPP8+apGiynKc8vas6naQ/60XCx5Uo7XX7Kj1I/ZQiBQ/ygwM3m8xURERERkXYUtBS5FYxJJM54hr27W+Zyq91RRn18IklpfSnceKbV5kZPyH37v53m4lvHentAYvLsZPb+dQch8+8iqd8Zct99jvXFLd0vtziCmVPmMTTv1U4OwzxG+efHYEIY06IM1BduJLcrncoCp/PtMX5wagc7O+pBNaAfRsAzKor6st0twdjIKTy60sc2JLr8ELVThhCXkkZ2gVNvywFppEX1hdo8KtoeN9QHb8Bs7mChGuth6s0QcrsRCMPXBFjMNLremCP1Z8Dfg16u3h7sgwk4eKaDgEtpHfWAydjr+qbLoc3Qcvxn82hCf6xHN/K/L7Xcz9yNO0hbvpTxqRlEbH4DT//+cK6Yj154m4MAbGRLYRpp3oep6PZo9MuUqbAh+N4ONV+8wLuf28pu7udbKJ+ezNk9HdwvowcGzmN2XsSlS/fYhc6USSsYvHphoC8RsXCwYAt5DQYGRcWSkDiPZYP68uLL2S4Cl0EEDzLA0Wz+8vpGe4x/I7ljppNgzrMFvf2nM7sT+dMwcy5p3nDw8+d464uWa90yII37lqYREhMJpTBrbjymL/N564X3OdjcJLS0HdNnJ1P415bgbbspHqau5HvjghiWAAf2JjM9dQjGttMVfL6O3PlPsDi+5UoDO1t+as2YsdcPERERERFxewpaitz0DAyLDsLwVR3/CJ5CUrDj9fM0mCEiYgzGjRtxHvVtKV7XfvGQ0g/ZeiSeWUExDAWGRRmxVm1sFbAEwFrK+i2VJMwMY0QSHDhx7a4MgEFp3PfgeAI4zJo3P3HZAxGAord5/qVk4gYdYG/zsNd1bJm4nBV3xJOeto7XNm5kXX48i+On8L2nosgtcCzEMwST4Qw7NrS+T+LMwt4N77caWm4aEYU3Fgr3lOLh64ep+R0rheXHGD8miKg4+KzwMJOnx3DfU8sprKykpCSP6rJssq/VGjOVeRz4Mp7kiU/yaEQVBwoLOVBUSuG6ddfohB3oVJk8g3XjS/z2UDLhPXZQ6KiXn69j34InWBw3nrTYbBdz01aSX36GpIQ0Hl8ZRUllPqVFhRzcuQ7H7Jmdyx8/zkbYpyT4ok1w9lQ2b/1mC1itkPQQcb2tlHz6oVPA0q70Q7KrYpkbFs8wdnASgDp2b2idwWcrjtEwzgejEUiIIcLldAVWalatY2/UXSTYXym53uVHRERERESuCwUtRW52/dJICjUAfiRP9Gv/vmc8yb4byXZactvSZHZxICu1p85AoAe9MGI0gPlMBz3M6m09mgzXuoUZlMZ9S6YQwmHWv/yK06rZrlmP7mDv0davnf0ij/LU2UQHxQNbqFn1O/508l7uTIkiaewQsFiwGqAhfzUbXfX+rLL1bgzx9MHlXJoG2yIq1hMWoJLaBsDfEy9wscq5gUDvvmCt47yrCzheRwND8OzrB7gawmzr+WexnL++6QKgCeu51q8YjQbAyLDZyxnWwV4mE1g2v8Qfjk9h2rR4omPHMyx+PFy0ULN3FW9+XOx6jsmvpZKNzz3HkZmzGR8VyfipMYyfCtYvS/nkzXcoPOHijJYmrPTCcwAtt7NL99i1zpRJsGIp20Jh6z2p2VJEfVwyIZFhUNT+/LWrf8fzhzOYlhJJXOJ0EpKmg/UMhRtfZfX2uk7mTy+stwMNp13/IGC13ytHT9R6V7ll5eQZW8nxaH7NwoUvOzjpFY9nbj4tgGV7J8uPryeegNXScSkWERERERH3oaClyE3OmBxLAHVs/N1z7GgbJOg3hcVPpDF0tB/ZH7cEwYweni6OZMB3gCNwZcFiBc++HQRrvG3BAZfxhmb2lZO7K3A6ix8cT8DFwy3zbF6GacJC5oad4pPX17UJvpzH0qYnV/0Xb/CXLwDsK2f33sG7qzrqtpVPde10IoJczw9KYiiBwJGq3QBUHDoGQUEMG2PgQNv5Iw2jCBoE1Fa5HlZfdYCD5xJJiErG+9P2q5h7Dx2CJ2coOXAMMF+/dHXAYrFCR2WvDWvVRta8uJE1gMEUQ8L8+UxLvJs7j/8Hf2+77kpLwmxlks7Onep8wjoOfGyfvsDQF++E6dw5NZ65CzM4/nsXK8SXHuP47DC8fZwDxl3L+7Y6Vyb7EjJzAWmexbz2Xpt5Mc9ZucDlHuRWGvI+5N08AAPGwFFMnDudpOkP0HDod+zrVP74kTYS8OyPN20XoXLiCOp6G6Cy7Y0wMLBvL6DBxZyw3TmeZ7sfRC5ffuz7R/jjjYW9hzWfpYiIiIjIN8FtNzoBInIt+ZEc6wMnStnnKijx5U5KasE7elLzKssAxpjpTItqExWImse4QLAcKuYAO8grtWAInci0mDbz9RmimDY+DMNXlezLBSqP2eZZHBSK85Z9JkwhzlVstDOiZvPIg+MJsBTzbocBSwNGb1NzQMfS00RAaDLTJrSOlPaZkEy0EWoO5bfbP2D+Umb51rG+7bBzo4k+no4jn2HH7koshjDS5kS1PsSANO6bEobhXDFbt9sCJ5bsPEq+MhA9fh4BrW6xiYTF04k2WNi7Y0vzqwaTD8bm7YrZWXAaTPHtroOou7gnsT+cyGdL5bVPV2c07CulHh+SZye2CawZCbn7aZ5cOY8QYpjyvZ/z5NI0+tjftTYUk7uuiHoM+PoFAYc5/iUwwL9VOXWUya7qM+EhHv/Z0y1l3HqG+tz32VEDmHwY7GqnL/M5eAq8o5Lxbn6xa/cYQ1/6+LbkZ+fK5Bnw9CcgdmKbOmkgYEo8AVg4WObqh4M07vmXZ3hsgSNdVixHdrB+1yGs9GdwUGfz5xiF5fYyN9Gn/TX++Bkev288htwdFJyzlZ+QtlN4Rs0jLdSApTK/TW/Ry9hbTLnL8mggYP50EprP0ZnyY9tvWJgfWI9SoZXDRURERES+Eb5l6j/gX290IkTkGgmbwezkwZgLP2FHuash319x0hRNSrgf/6jLoawuhOGTwjDRE//hycQE9KOHdxhxE+9kbmoInl8dZv3bH1F7HhpKj9MrYTRJiSkMj/DhdpMfQSPTmDknjYg+FkrW/5XNhy1AA4QlEx0QxvCogRi8/AgbN485SYNtQcyvjrNnWxFmAM+hjBwWgG+AL7d5BhPmb6b6cJt0+07nkUUp+HKawj2VNA0Kwz/U6V8/C0ePm/Gd+xSP3TmJEYNq2VFUj/Xwl9wen0Bc7MhW1zUrcTDGhjzefzsf5zP1mbCExSn9OfL5y6w74DS8t9947nn8QWalRvHVnlxqLgBHCzg0IJGx8aMZHR/A7X18CByZxsxpo/DveYbc919md519ueOLNRSfGMjwpHjGjklggKkPfcNGMWHWDJIH305D/jvNi50Yxy7ln++fSmrUbezaXYUVOFdewpmIZEYnjGd4xEBuN/kRNnoGsydFYGo6zJrX3uWwY/TrNUpXO0GjSA0zcjR/KxWnnV4/U0WtKZ4xw0YyPimavgO88AqMZfSc+UwJ6oO5bCMbSg5w3ncMoyOjGZsUQa9+/ekfPZYZU+IZ5HGGfRs+oer0ac4PTmLkkAAiEwK4vbcPgSPTmTM5ClMPgC8py86jFlv5NR7fy64Se0JclKmy/ZcIToolLqF1GR8X2gvroe2s33vYxZB0M8f7RpMSFcS36nIoc9yKLtzjiHt/xJJpKQz37lqZbKi9Db8R0cSNSGTIwL709IsmYfqdzAjvi6VqI+9muUjvuVMQlUxCZELrdI0Jw/Mfh8lZk0ddfWfy5yTnyk9wMS6ehGEpDI/2pXe/wa2uMX/9+5SdPEFZva38jB6bxBDvvvT0i2hpO85V8snfPqHuPHjGjGfkYIs9z5z0j2X0iMFYqj5n/8EaDhFBQkwUSWMS8BvkRS+/aEbPWcDUEHt48ssqcvbkdqL8AAOmMmt6CLeVrGVNUYf9RUVERERExI0oaClyEwtJn8donzPsydxAtauYJWA9OZCwlDDCep9jyz4DwyeFQcGHrKsfTFREFDGhQfh7edBwMId3Xn6fcsdC4xdPUpFbwAnPQIJCo4gNCyFkcF8uNpSz6f2X2VjoOOFX1BVUcn5IGJGBIYSFhBDU18KRXR+yk+GEG52ClnUlHOkdRXR4KFEhgfQ+XcjustOtEzxoJCkJgzHe1otBQ0IID27zr++X5OypxhgyilGBffiqroAdRfVw8SRVuws4YQojOiradl19e3C8IJM33vic+ovOJ/EhKm0sIWe+4I2PyloHhP7hT0RKFIMMZqq224OWXORMSR5ltw1mSFAYsRFhtntRX8DHf32VnYfahJROFrHn0G2YgkMYGhFBZOBg+l2qI2/tq7zz+eGWvPGNJSVqIAZzNdvsQUuwULu/iBOe/s33PWhgL8zVbfKHa5eudjoKWnKRMwdy2X+mLz5DwogOCyM8OJABbY5pPrCT4kt+BAwJIio0jHD//hjOHuSzd//CliqrfZsijg0IITwghIjQEEIG9qThwEbWHR9M7CBLx0FLV2WqIJ/CokZuCwggIjiCyJAg/PtYOV74Ke+8txPzRVyyHv6KvknxJPjfTl5uhX2oc+fv8e0hiYz068Wpis3sqTB3vkyer6ZwdzXnA6MYERVFZEggvrefo3zL33h1dT5fuUztV9Tt3cexfoEEBIYRHRZCiI89XW+9Q/Gpi53OHzjN4T32MhccbjuWo66//Wdy7HnEySJ2FTdyW0AQseFRtvvatwf1FVt497VVVNnLZqeCloeg6VAeuw7dxuDwCCKCQ5zStpGjAdH4W6rI2VPdifJjIGTO3Yz3OU3OO59QoyktRURERES+EXqEhEZcutGJEBG56vxn8+iD/mx54SUKrzCfYtcYGPrgD5ny5Ts8v9rVyjxX81TJ/NNTE2l879euFwGS6844dimPTfej9vM/8NYX3ZhLU66/uIU8viAG695Xr32dFRERERGRq0ZzWorITSliQhQN2e9c5YAl4J3GKFMRf78OwY8+aYl4l3yggKUbsWx/hb/ln8HTJ4i2UzeKe/IN8MZ6aCOvKWApIiIiIvKNop6WIiIiIiIiIiIi4lbU01JERERERERERETcioKWIiIiIiIiIiIi4lYUtBQRERERERERERG3oqCliIiIiIiIiIiIuBUFLUVERERERERERMStKGgpIiIiIiIiIiIibkVBSxEREREREREREXErClqKiIiIiIiIiIiIW1HQUkRERERERERERNyKgpYiIiIiIiIiIiLiVhS0FBEREREREREREbeioKWIiIiIiIiIiIi4FQUtRURERERERERExK0oaCkiIiIiIiIiIiJuRUFLERERERERERERcSsKWoqIiIiIiIiIiIhbUdBSRERERERERERE3IqCliIiIiIiIiIiIuJWFLQUERERERERERERt6KgpYiIiIiIiIiIiLgVBS1FRERERERERETErShoKSIiIiIiIiIiIm5FQUsRERERERERERFxKwpaioiIiIiIiIiIiFtR0FJERERERERERETcioKWIiIiIiIiIiIi4lYUtBQRERERERERERG3oqClyC3v0o1OgIiIiIiI3LT0fUNEukdBS5FbXo8bnQAREREREblp6fuGiHSPgpYiIiIiIiIiIiLiVhS0FBEREREREREREbeioKWIiIiIiIiIiIi4FQUtRURERERERERExK0oaCkiIiIiIiIiIiJuxXCjEyAi11bM9//IDxJ6Q/02/u0HL3DI5VYL+cmrMwk37+N//vk3FHfnRL1jSX30Lvx2PsO7W1te9ohZwGPfnUW8lwcAdbvWUREznbE4nWvhs7w8PZjGvS/w5P/d1p2zt7kc2/Eq1i3iP97++odzP/b8go7v2bin+O2jI/BqfuEc2//0XV7a2n7TGyHjmdeZHwRukS57eYHL3M/uaJcHl2PFjAFP4PL3pCXvoZpVD/2MzKuTWnFTtjacG19PrqUOnh9XQ7v7Z6+XXM263tlzf5M42q9WnwtMxCx6ijssP+P5d29w+rrLVVm7jmXimrnRn3sc5eXQpyz5+dVKQApL/9/y1p8XpZPs986zm58Trvbn8suwfR7U5xkR6Zh6WorcKrxTeGz5iGt2+JhHH+ehBP82AZpY5i+ZS7wXHCvMJnNDFh/mVF6zNNwqMp5xBK06sPBZXm4XLOvN2Edf5ycLr2nSpNu+4vRJx/97EzMmxfVmC2Nb8v5QkT7gy03B9fND3M7Cp/jB5GBM37rRCek+lTUREZFvFvW0FLmpXWr1l0/yIu5Z/xTvVlyv80cS5AWYi3j31y+TD0AKw9tu9vbPWHJT9oi8+mK+/0d7D8WOpLB0vK3XIM09ZBy/uEP4+KeIefvG91jI/PkiBdzaqKmpZshAW955DQgB2vduyIgJbv5/RbEqjYhcI43n+OpGp0G+Obb+hie/ab2Jb2rbeOmft/FSd3e/YZ/LLwE9bsSJRcSNKWgpclNrefA3Njbg5eXD5EcW8dlPX6f+upy/N7d7ABeg6bqc72bWEni8rHHjiLFv01i+1R6c3Mbm8sWMTegNnpFMGAfF+nJx7bX7Euech66GQi3E59VgW0/KoFgyoN378Y6AtXkfqxSzFJFrpfAo9U3gc+roDf+RS0RuFQpYikh7ClqK3CLqd35AccoSxgakseL+rfzbm+Wd2Ks3fhnf4eGpIwi3z0nZdK6O4i1v8/ybufZAZOtg2thHX2fso9Vs3uvDhITethc9R/CDV1+39/xzES1rM3eO98O/4b/SfNrPwxm+kJ/8aCbhHnWse7brPUY9Ri1g6V1TiR/cG4/bgIvnOFaxlTeff53i0wD+3PPfv2L6oDo++/VTvFnYen+vRb/it5P9qdvxK370QpHtmDFzuf+BKYz1M7U65iu/e52Kc863MpbUhxcxO8EfH9utpMlcR/E253vZEed5DC8vZkxk87C3+uMtPfWKj9cBwTQPPd7auTmKmudEbeYi2OY8d+OhT1lSHNs8RySO19rMcdXhnJYdzAPZ8TxdroK5l5kbqe3xD33Kkst+I29/76/dHE9vk39oJuFBAMHEL4RM52t2GhreEpC+HNflpuP0d+FaneYBbeH6vrcvQx1vC7guA67mSWtb7tb6t97P5Ry9Xb0n7Tnq/KhBJnrb6zJN5zh2sE29X/gsL0/3Yfuf/0BJ0iLuifent72NOJT/KX/602qOObcRRJC64jstbcS5o2zP/DObO5Uqe50asI9XN/Zh/pwIvG6DczXZ/N+fvkwFnW+rmucXe66M6EVpxNjb/nP15ax7+3/I3H2u9YnD07nnwTuZHOQ4bhN1x/bxyRt/JqfYaVvH/Xh3A72n26YN4dxpam7rT4DRtonj+dFSNkzELHqc+8dG4GcvQk2NR9m+7s+8uqbtM6x7989RPo9l/4j/88rR1m8OW86vnk7BVLGalc9+cJl2umvnvvKzyGnbq/yMcZST3/9vOcmLZjLKrzceQNO5o+xe8zqvZhbZty3jWCP4nzrYsp/9R5Pw6a/z8vQrzEfclWde/xTmP3YXk8N97HXEXob+8gdy2j3nu1ImnLn+rNK6HepDzKJnWZwabEvzxSbqDmXz2u/b5ktnPht1YNqPeO6+WDwqPuC7z65u82Y6jz2/iFEe5by59Bk+owvtTUfX62o+yI7m8OxSPrThYk7Lzpe1ropg1HcWc/foYHx62l5pajzK9g2v86bzMbvcBpsY9Z0fcXeyvcw6tqtL4pdT284X2tkyYM+HU1n8/lgsS0fb0lBX+DbP/PpTOsq+zrYRHbf7RUx2MaelR8wCli6ZSry3PS8aq1n3VjbeDy66wlzzjuv4lJWfePDYfS3PBtsxfsOqHQ2t7mXMose5f0ww3p4eNBfdTtVVEZHWNKelyK3iYjavvrOPRjwImrSY6QFX2qE38St/xS/vSiLceJb8HVlkbt7HoYs+xE99nP/6fpr9Q0g1OzZlkVPTBDRxaFcWmRu2siN3A5kbiqgDuHCUnA1ZZG7K5ejlTmlX/8oLrDsBeKfw6MMR9lcjyHgknXCPJg5teKHrAcsJT/FfK+cyajAcK95G5oZsth8Dv8h0fvDvP2dyOMBR1hUcBXwYPjG2zRH8mR7nD9SR95E9YDnhcZ59egGpAX1oqGh9zJ/851PE93ba94dP8dBof24/sY91G7LI3FFOg4ftXv6i+Ro74dCnLFlX3eHb4QMcJz1HnfNm1Q002v9rG3p8ZRnPvO4i2BTM/Ff/yNJxHewUNLN9MCtoJi//v6eIudIJXc7FaRM+3cV8nOOe4revuup9Gsz8V11s7+r4rtLb6vjtA1xeCct5+ZlrMzloZnFLpoXHtD5Hy9DwcxTvvEKArYO0gy39v/1+Sqe2d3WtMd//Ywf3rH3ZcF2GHNs+S0abV2O+/0fXZSBoJi+72L7V+2338xzBD5zT3tV74krCcn7x9AJSA26nsXQbmRuyyNxRxKELvfGLTOfpp+Y2fzmz8SDm7qd4KKY35btsbWjFud4EJSzgF6229Wf6v/6Yh0b7YzKX89mGLNZVeRB/zw+43//KyWrWM5b75wRzrjibzB3llB/ItQUsO91WtaQn47vpxHyrju2bs1hXWAfeEcxf+Ssecq774Qv5yY8WMT2kDw2HbG3bZxVn6ROQxENPPsv9E9oe2INR8+cScaGIdRu2kV9TQnZW++eHbSqRCDL+9Tf8YHIEfhePsn2zvd00+pN6z4/5yULndrP79694k+055Rczs125C5oUgw9NlBd8epngStfO3blnkWPba/SM8QjmoScXEG+0PZvX7T3KOaM/Y+96iu/NdRy0iDd/sKg5qJW/OYvMYltQoq44i8wNG9jR4aOoC+kJX8hPfrWcjEgfmo61KUM/epaMVhW2K2WiLdefVfKdtug9bCE/mOwPB7eRuWEb+Y3gE5LOD366nJZZWTr72agD63MpPgceQSOY3Pa9aUnE9IZz5bv4DLrR3nwNXcqHLuhUWeuKCDKe+TGPTQimz7nq1mXgrqf4xfK2978rbfBveGyCPz4XbGVrXX4D3gkL+MWkthW5G2XAL43HRpuo3pXFur3VlJRmdxyw7EIbAXTY7rcz7nGefXouo7w9aCizlfHii/5kLF/IqJ5XvPE2A1L45fJ0/M1FtjJS1kCTVzAZy3/G/Qkt92fyT2311LvpKLs3Z9mu4WADTV7+pN6z3GlbEZErU09LkVtI0+YXeHf8b1kaE8z8R+by2bOrO/4ilrCY+0aZwLyP3//wN+TbP12tIoKMf/8x8xMWsvSObJ7//Cj5779OU+A4UgPg6J7XWWXveVG0eSExU2Pxaapjx5uv23/p70RggHLefTGb+J+l4TduMRnrf8b2Sd8hI8CDpkOf8r+d6iXqLJ2l943Aiwa2/+VHvLTZ8VHxbTK/8yy/nBDBPffNJefZ1TRuLOLQZH+CwtMIoqill2fATOIHAcf2sa4GYAT3zEvC57ZzbP/zk07HfJlV9/+KX04dwdIV6az8dRb0TmdsiAfUZPEvP329+Z6vCl/CL3+ahndEGn6Uc+yy1+DUq2Xhs128/m5Y+Gxzr5qW3gWOXmq9GXvfU2ze2sHcmM09LZx6tniOYOn3Uy7bm805KNfSg6elZ1z49GfJeNvRYyDFnqed3X4hP3EKtDVfU4crfDsd36nHXnOvwaCZ/GTh21d/lda3i6iY7mqIuPPQ8DI2X2F4v3OP25b8a8kPr4TFLB23zX7PunKtC5nvCEI69ahp6U3p3JO39XD2tj04IJj5zywk09GDctxTLHUcuzPbt9HcI8Q5T53uYdfuiWvxqTF400Tx6if5n1UtXzlX9Z7J9363kPjwJCazmnXN73jg1buaVb/6GZkVjm0X8IPfzyUmaASprLYFJ+5YREaIB001Wfwfp5FdOMAAACAASURBVOk7Vk14iv/6zgjo8OttGx4e/P/27j8+qvrO9/irekfcAR8ZbAbJqBMggzqhTFISJFB4pIZfG5otmy2yV71NWYGuaFu7tV3RKlTdRbSiVFqxBWyMD8xeLjaXNmsWhNgUCkESNpkuCUoCSZSJNdmaKWG2Olf3/nFmkjOTSTKTBEnl/Xw8fBjmnPnO93znzPec+cz3+/10HdvEQz+pNz2YQF9lqrclUM+PHjD1/YvW8vTt6cz7qyLKDpfgx0HhqnzSLEGa9z7OhtJwv1xC2ZK1PLE8nby//hoHD5lGy2PB0l3Dhn981vQYuGNcPyxLb4/dJtZcVj+5kpzFqyj8zVrKzg6z/eqqOPl+NvYJ6Sy+Fnad7W23PJcNgk0cLxvg+Qm9dvzXouCFvMaMsWFtq+ChdaW99S1cx5alLlyehbAnegQgtO0roe2zUylw2/hjW8nAy1PEXR8rebcvIG1MkLbXHjfNAClhV6j9ClcVcfCBEvwkeE700f+9SpjFcp7q7ab3ZWcGK565j3nJLuZNw5h9Efe9UX+Ns5+jZ5aRNS2VGUuh0tTUOZ+fipUAtW9UAEPpb4YqsfchIUM41waSVLSKQqdxL/iIuczx+dz7z7fhmfVllh+pYmdd+Bkj0wdH3CMM5RywQFPU+xhbIn1EuOxY/X70vbaDwr+K0Z/sNILAhU7gg0GqBjDOBnU7uH9zVej1Szh4z7Osn2ln+ux0qGuACUuZ4bTA+zVs+IfIvj551SaemGsna142O+tq4nhBERGNtBS5xASo3lJBYxAsaV8e8Fdu9xczsAPNv93ac0NmaKK86hQBrLhvzr9wVW3eweaqDrCkUvD367jniw4swVbKXyxNfD3OpXPwWCHQWGG6AQQI0L59P7UfgCUt2xj1cHY3tW1A6EtKWNKidFKAtsb9xk37nAVkJQNtVRQfirwJ7dxZhfcDsLqyyTFvSHKQ4za1efMOHrqziLu+v2OQgGUpG1YMMA1vxEUm8+n9clrKhvAoz9DamH101/NUT1DpCNteru8d4emaM8Boy9mkXB3+25w9u5QNK4pYuaKIleZpfLct6Rlh6a970dQ2pjqSSl549FxE1u2K3mDj4U1sq4vxJcJUfvNve4OzjZtfpLrb+Dt6JOTIKMXbc4dvTBE36pPY1PDeEbfmeh5h2zfCbWk6nxI6VtP7YQoeGssPRJnjIDn8t/l8KX04VIfIMgr+0hSEftkUEC99mLJwmzhzY4/y7a5nWzggfngTlT1taCdlzhDapB/eLd/irjtX9v3iGaig+ffGn9EjbAJNh3u+LIf3PfkeYLEQrlHOzVOxEsRbFbnecPBQKdXvDVynqFejub4+8qGh9FUEqf3XTRF9f3BfCQffA1IyKJgGTFvKrBTgvcP8pDTyh6TAq6F9k93kzYysjv/t+ogvsbFZWZzlwkKA2n+NWoM5UMWu2g7AQdYiYwTU8Nqvnsq3OgA7nkWmEVWZudw0HgJvHTaCGv1I6LUTuRZd0GtMEO+hyGtpcG8L7YDFMpTRb/0YrD7WpeSkWYxkfVE/Rva0X0pGaGZIYufEkLxXz66Itq7naGsAsJEUmp0yEvdGtb89hR8LLs9S06P5zJhigUALR0PBrqH0N0OS0PuQqJE819Ip8BgzXip/GnUv+H4FxceMz3HWvOyIZ8XTB+fN7e9zvJXy5sif94d2DnRwcm8cPz4l0keYtvXp96P19NfHos7xJsp/UU+MK3g/Oqj+P1URAx7a6lvxA1eMCYV23yvlqb8vYmVUwBKgs8Fn3BNePmJjhEXkEqCRliKXmsAeflSewZZCF+7F3yLntY1Ux7iPMr7gB7FcvYzCO6I2jh1LEEj6rIMkSPyX9zh1/nwre93rWOx04SRI86tbI2884+R2JmMB2t+pirG1grbf30aW045zDnA4wN5/b6LA6WL6FzPgRD3gYLHbDrRSuzs0wT3VRhIQuNxOwR1FUWWOxRoExtlxXgvVZ/dT3ZKLc1I6K+5/njsCHTS91cDxmgoOHvJdxCRFsdf3a95bAeEp1+H1SPuwYk8FooM80UkbDh+m8faM0GhLG2nQT8DNlCyI0LTk4jXGphhrEw44Vdo0WtEIlB6Ba+y9xxeVdbt3vc9ebtP+xvptMap8tQN3v8czdOWNrRQ6jfoYwbXSxKaGR5VhTK0Of4Hqu5bk8I51gPVWze891tAacsamvmtIDjyStPd4+lmTNY5kIYm0yWAsKS5c02dyk91GytRUHMl2UvpJknX+j9FzaAPwEYCVpGnAiXTS7BbAR1ufRRB9/M4XYPGEeGt2Hv+ZqIcS6qt6X7dtX391sZM6DcCBHfC/2xTjGhDe14bDBRzr3RJ4/1Qcx5ER+hHjQ6yTiyicHLV5vJHcLWlCBmAbdvu1/bKB9lm5oSniO/ADzi+4sBOgtmb/AM9M7L1L6Fp0Qa8xXfijRyMGgsZ+VhtOiCOwPIBAnPXJDP2wEbRw0x1F3BRVjPGjh43kacDZRM6JeBai6St4rrOf+xkLts8af43IvdHh/XhvzWCeM4M86x4qA8CiDNxjwF9XRW30qyfQ3wxJQu9DooWP5LmWQWoy0O3jZIx6+N/04c+1k2SfCvSO4hu8D87GmWwBWmP0ewGaOrsgzXSdHMo58EEXnXHELBO7X+05wr79frRpof7a19D3vKxrpTOYjT3G0/oI+umMbvuPjf9Zr4ruaG0kT8vAk5lKsn0SzmuScV1jw8KF+94gIp9OClqKXIKCe7ZT9vnHWD4pneV35VL7dPQe4VFvFpwzF5jWcopiteHgQt58NFH5Hz4W5zmALppqh/ZFhMuvACD4cXxTLIN7T9C0xIXblYuTetpCU8ODzXWEfygPB3qs12ZT0O/og7EkpQJnfez9weN0rrqdwhkuUqx23Jm5uDNzueOrHVTv2cq2P8NFyZOvmQ2MXEKaxs13UWZK9tAjHDiNlYzlYhowCDsMfaaIJzY13CjjYZ66JlYCHGO9z8KYSWoGYD7WmEl4YjnCtm9Mwt7fWpnFawZIsHQBjESbWLMp+MdVFE4ylfFxkI7fn6I5mE7a+L5P+WNXQz+FjcWaBJCE9UqAYNyzwPsXIBD1hTKxvir0z+6ugQMJl5v+/vjDxGr4p3j68UnYxwHY8CxcgKefvSxjbUDX8NvvbAW17bkUpISniM9msduY/vl6v9N8IeH3LoFr0YW9xgTwn+inyCutjI3jUAYWZ31CgVnGp1OwMHod6bBwwDCRc2JoAucGG5Y7UvdG9VQ2dTFvZiozFlupLAuEpoZ3cfDXpmvqEPqbIUnofUjUhTnXEvmxd/A+2ILl8n52Adq6zJ/XIZ4DwWB898oJ3q8a+vb7fcsdaON7+OOZGg7wwfl+ZwaZR84mL7mPby/NIMW0Vmawu4OmMx2kpsUVHhUR6aGgpcglycfel6rIWbsAp+crrJgbva5MPe1+YFzsLNqfmLQi7pnnMH7FvcxO3p1FVH6/JPHp4R99CFixXGYlrm+WgVc41LQEt9tFXiaUfT6dFII0mpIxNHV0AdaITOIDa6J2+6PUApaUbLLmzWTWzRl4ku3kLF9FZ31/63AlpvkPAXAaawtGjIQMfykB/KFssHFJNLg1TOXriowRb7ECYxdqHclBfKKBNaBPFvFHSTBruKFx812shNjrdvazxuigxzrnPp6OlRm+30BmKRtWmDLJRn3Di1x39MIbSpv0spJ33xoKJ1kIth+h+Bev0XiiCX8AwMHyJzfGHnE6KD+BPwHjLBBnF5WIxPsqYJwxAsob9bDlMoAgHwaA8JfRy64YoZqa+ejohrQxvVmU+5c+Au3no7LRR0GKA88iB7venIN7HHQc2z/I5y3B9y6Ba9FovcbEL476vN2Fn1SsMTNpR0vknLhQRu7eqO3/1tM+MxfX5/KxlAWMqeHvN1HZsxbjhepvgFA2557AX0Lvw+gwspOLgwQ/6n9r0pXmH7ou8P1xovercZc70EYblogTYpgy1/Dd5RnY6cL76iuUvVFPW0sos/iitWxR0FJEEqQ1LUUuVc0l/OTXPoLYyLk1u3ftOQACdP4xCNhJ7ZtW1rjpeGEHW+5f2nfbiHFRcGcuTkuQ5n/bxK6WIJZrc7nnjgQybYc0tnUSBFKmLIyxNR/nNQAdtJlGsFW/cYoANm6aPduYGh5sjUjGEOzoIgDYUzJi3Dznc/dPS3j+ubXGukPL1rFlWwkb1xgjGILtNVTv2sqPvvud0Fp9NpLjGbgWz7Ga1hY0RkIaeqcAm6cXm9eL7P1vQ2kLHaG1DMMj7OIWSnzSY47x5R+A7q7YGS1jMa17+JRpzcnwMfVm2TavfxkSY/1Hc7tEr0Vpnh4d1l87flIisog7E5sa3sfhTXwn/P6aMs+Hs8gncqzRyWwSGflavi58jm3tWSuzd81J01qeMdZLTXR6/KAGaZPYFhrJBfBR/thWqo+FAwgAGSTHSnsflwaaO4z+9qY+XZQ1Yi3OoUior+rRuxZoLwc3TbQCXbTVACd8dABJjvQYo40cTHcY+/qGNIj8lNG2FgdpMdYwTfq7Tex4YQfrv57BSLWff/cxGoNGFnHP51NJooPf/XqQdeISfO1ErkWj9RoTl3jrc8Y4Rss1rhjrHTtY/mQJz/90YyjTcCLnxIUygvdGZyuobQeLcxrzQlPDO97abxrhPEL9jcXSJ9Fc0rV2Imqf0PtwMdXT2gmMczB9Wt+tSTeGpmR3xLMEhVkNbZ1BwIFzUfQ2K1nXmUfvXtj746Hcr8bF1F/3OXUyp+KMN3t4HJyzXcZUdO8r/GhXVW/AkhjnnohIHBS0FLmEde7cTuV7QJKtz01M9UFj3Zu0L3yLLPMUJGs2KxalY70MWt96rW+hI9SrJN8RyhZ+toqf7apn70tVtAUtOL+4ioJEhxfsOYw3AJa0+ayea75dspKyagFZY4yp3xEjN16voTEA9htuY8YECDQdi9y+rwpvN0ZikFtsEWWm3WOUSfspDgIcaaHTAvZp+UTe4zpCUwvPExipOfalr/YEhHoT38xmriuclTme6cVHONQU/nZkZGwmVM7qH5ewo7iEHcWPRQYne5j3NydXiUzy0tdtPFgcu2zzF//O34cCVqUNPQFQI+uzqZyeEX+tVG7uu39EMhdzxmqz/sq/7bFQHUt4+tsXMJhprm9YW1WcyZjM79PzEYlrzAHanhG3QzzW3gBnZGb2Hqbn73jUHCgOT/ME6KA9dEzmQHTO7ff1fnk2ZbKPvw2iJdgmMX1I4GMAC9YU8+NW0taEPvNYsQ4hWYXR31pw590X0UdY5q4hr9/5h3FKpK8ybcv6y9sifsyyLili3gQIttWw9yxwYg9H24HkbP7XbZE/JoX35f0mKo8Rv57rh4+9/95KECtZXyoixfwRHf8VVs+xw2XnaX3DCCqOSPsFKjjeFoQJ6SxPtcF7DZTHMYoqoddO5Fo0Wq8xEBoFNoB463O2guq2IIxLZ3lRekRw1lq4irwJYAn4OFgHiZ4TgxrivcqQ7436MEb3YkllUf5UrHRw/JfmEbXD7W9ajSDnGAc3mYON1lyWZ0b9UJfQ+3AxNVDu9QF25v1tZP/E+HxWzLQDXXgPJp6VuvLQKQJY8OQWRZRrmbuGgrTInw1G7hyIYSj3q/EI99cTZrI8olwXBX+TEd96lnHy/8n4v8VijfzBJe0rrJ5pvJJlzNCXcRCRS4+mh4tc0prY9fIRZnx7dt8blsNbKb55I/dmpnP3xmfx1tXQFrTjzswgbRwE2/ZTbBp56POfB+xkfelbdKaeonZnxdAX8k8rMrKF08HeF0LTwZtL+MnhDJ7IdVBwZxHVCU0T38+2lzNwrcog586nccyux+v7kOT0meRca4UPWil/+ZWomTH7ef2tZWRl2oxkDG9URJV5hOJ/mYN7VQZZX9vExjk1HG0xlRk0lXl2N2V12dybmcG9T26kuq6Bzv8aizM7G894CDb/hl0jNsXoCNt+u4Scxakxk+gMHDjs1bj5Rap/vMZIohKRtMTgr3u1/ym9MfaPzEIeSykb9qaHphiH1hiM3sWc9ZtSNvzMEZriG5nkJax5r3nasbn82Pv3X59Y+5sCoheEeYq4ITqBUP+OsO3lObgHaJuIbNsJHGvjG6fwZxqB6IhkSSbGaMUjRtZvd2hKeKxzgqj3yLzmZMwEUK2UDXlN00TbJJYKXm9cSlamncX3bSTpeAOd2Emblo57PHT4g9iTotaGjFdPf9vbR/jHpZPjcfQdFZOwBPoqE4szn/XPTKW6pgUmZZMz1YY12ErZi6Whtdl8lG2vwL02n7TFD7DxxgaOn+rAEt734y4OvrI9rutAzOtH6YuUux+g0LmAf3oy3eg3LZOYlenCbgF/3SvsDAdRRqT9AlR6W1me5iJlArRVVsS3Bl1Cr53ItWgUXmP+8zwBwHnzd1nOCU7++hW8sc71uOvjo/zF/XjW5pOWt5YnbqynuqH3HLLQRbXpHPInck70Y9j3KgneGw3Ev7ue5rx8Y23K9nrjx4Aew+1vjCBv3uJU5t3zLEnHa2jDgWdaOs6PuvBji9g3kffhYvKXbKfM9QCFznzWP5OO98Sp3nNgDHTUDn4OxPR6CeW5j7F80gKe+HH6wJ/jETwH+hrK/Wo8fJT9qoZ5X88mZ9UW0nJrONpC6DM5spPt/ftqaJ6TT5p7GY99fxJHW85jdaST5XaQ5O/Cb7WRNIy1Z0Xk0qORliKXurqtvFjbFWNDAO/mtTy0u4bmP43FM2sBBXMzSBvTRfOxUh5aVxoRNPT/719S2R7AkpJNwcJ88mYOtULhaeHQcbSEXabhZp0/L6GykyFNEw8e2sT9W/bj/QOkuGdTsDCXnAnQfmo/T619OGZW8sZfN9ABEGjhaIxkDMFDm7j/iVc4ePY8trRQmSkWOs7WULzRXGYA7+Z1PFXZSofFQc7cBRQsnI17TBfeyq1857E9I5tBvPRhVq6oiBqpF6D6Z4mszXiEbd+InJptLqffdf/aKlj5s/rIL/ttFayMZ13MmPU2+Ou29p2KHJriWxb9Taq7nqdWxDjW0odj121vdGbRQerTVsHKBLNND4V5iji04k0kXnd4E9+JmIZtEuv9iPdYD2/iO9FtSCtl5vfBtERA+bqifto39vnYuPmumPXw120dfpsn2iYxNG5+iuI6H4ErQ5/jOekkB+opfuKbPF5nrEHocDmGUDmjv93wWhPtlxllL/bY+bBtP7u8w1/XLP6+KqyVsi37ab0slbyFC8hLG8v5WPs2l7JhY6lRrjODxeZ9f7iW4kNxBm9iXj+aKF93H09V9rZJwSwXto868L72LPdvrjL1myPUfnuO4f3AOP7a3fEmfkvstRO5Fo26a8y+3ZSd6iKY5GLxwqUUfGGgNomzPs2lbPjHrZSf6sCSEjqHptqgs4myLWvZFnEOJXJOxDb8e5XE7o0GLmoP1c1Gjdsa9/cJkg+3v/GXPs4PX2uiPWgz6jlzKn/RuZ8NDxzpW8eE3oeLqYnydY9TfMzHeWtq7znwJx8Hd2/k4S2DnwOxGcmjio/56BgT/hzb8HtfodgbAIJ0/Wd43xE8B2IYyv1qXA4/a5TbGcQ2dbbxmbzMR/nW/cY1N9DFENNdRjpbyg+f30+jH+xTZ1OwcAHzJlto/fVWvvkPFTR9ACSnkjUSryUil4TPTJrs+u+LXQkREfkzZk5qMtoyfItIQoyESa2UfQKB+dFnKd/d9hVcbXv45mNDGc0kIp82OffvYLX7PAd/8i2KE1nu4s/FtSv5p3/OJaWlgpU/0P2biIw+GmkpIiIiIpe85Dtm47IE8B5SwFLkUuL+5rPs2PY89y6NWq/VupS5LgsEfPzuzzpgeRsPvlDC84+v6ZM4zfnldFKAttNVF6NiIiKD0pqWIiIiInKJymX5wwtwXplE6rU2LJ1HKI+xHIiIfHo11jbhz8rGs/Rp1t9Qj9d3Hot9KjPcqdgtQZord1N7sSs5LFXUti0gbdJsvveMw1gL9L/GkvK5DLJSrOCvpyzuJTFERD5ZClqKiIiIyCXqPJarU3GPh6C/iZ1bt46KhCMi8gk6/CwPfVTE6lvn4HbPxjnNeDjQ2UT5C89SdjTW2u9/TnzsfXITgb8r4kueVHLmphoPB7toPlbBz3++h/bRsmypiEgUrWkpIiIiIiIiIiIio4rWtBQREREREREREZFRRUFLERERERERERERGVUUtBQREREREREREZFRRUFLERERERERERERGVUUtBQREREREREREZFRRUFLERERERERERERGVUUtBQREREREREREZFRRUFLERERERERERERGVUUtBQREREREREREZFRRUFLERERERERERERGVUUtBQRAAoeLWFH8WMUXOyKiIiIiIiIiMglT0FLERERERERERERGVUUtBQREREREREREZFRRUFLERERERERERERGVX+x8WugIhcYNZ05v1dEV/KdGC3GA8FuztoPFLKcztrCEbv717K6qJ8slKsWIBgwEftqyUUlzdE7esia9XXuHVmKvYxoXL9PqpfK2FnaF/nmk2sn2Wnee9dbCgN9L7Et5/nu5lWAo2lfPOJit4il67j+UIXXUc3snZrA4yfTeHdy8hLs2O9zPQae7dT/GrTSLaSYcoy7v7qeA4/so26iA253L5+PpPC/3znABt2VA1UEIvuW0F21wD7zV3Ng/Ovp+XAOl4+NBKVN7/8Mu7+qgdb+N/dXl7YtJt3Y7x+WP/1yOX29TfT+dIP2Xc6+vFE2kREREREREQkfpfbxl/9g4tdCRG5UBws/v73uWOajf/3bj1VR/+Dk50fk3zt9Uy5YRZZ439HZd0fALjhlkLcSWNxzfocqZd3cOyNo5z4w5Vcc60D17RZpP33fg6/GQ5buih49AGKpl/NZ861UltbQ137xyRfl4rbM4usFD8Ha1p5/4rpfDFrIsmf+YDy37zZU6e8v8nHNRYsV3zAqX87SmdoS85fFzHT/gG/e/XnHH97NiueWMNCxxV0Nb3B68ff5My5K7nG6eCGz83kukAlx5r7hFyHrifQ90dOVR03BfhCwbl3DrDhmWIOVr3OuRkruXPGxxz899Z+ChtP2pxMrFfamTnxXY6dfD9qey6335oGV4zhT2de53dtI3cY4ePoOrCO51563ahv+v9ked5nOXWkge7wPn99A++G9/nIxV/Nn89fvH2Y5oiqhgOTH+LzmrcNpU1ERERERERE4qfp4SKfZtYF5EyywNn93P/9TezaWULZ1kdZ+2QV7R9DsiuXlIgnWKC9gvu/sZZt20vYtXkt9/+qiSAWXJ6FPXslFa2i0Gkh2FbBI//wMNu2h8pdW4o3YCFl1pdZngkcbqDpA7Bc48LdU6dcXBPCBaUy/drwhtlMv94C3ac4dBiYOwdPEvi9Jaz9562U7QzV518aCHxswfW53BFrpomF3+PBr3qg+1zfjXNvYBJv86ppFGHdjgO0XHczi6YMUvDpM3RNmcHEGGXaTp+ha7gVj2FixmRs3V4qTaMm61730jVuMp5QfTNv8WB750DvyMpD23j1navIvsXUpnNX8+D6+UzqPte3nsNpExEREREREZE4aHq4yKUgyUGO28rBxtAU7eYdPHTnjhg7BvEeKu0Z+QgQLDtF21IXaVclkwT4SafA4wA6qPxp5L68X0HxsQU8nWsna142O+sqOPnOMrLSHMyYBo0ngLmppBCk8UQrrmkuXF8AdgHTMkkbB4HGBhpNRVonpuMeX0VjaJRfcN9GvrlvpBoGIJc8D9S8tI59jtU8OD9y60S7DbrPRE6t5m06u+eT7ABOM4DjNHStIG/ubtPU6yksmmWjqewtkj2Re2eufJQl15kfOUdNeFp2aOp6k9dGtueq2FO+gXfLfsiGAY93ChNs0HX67YhH6958myWz7EwE3mUKi2aFpq77lnH3VydH7Du8NhEREREREREZnIKWIp9mgf1Ut+TinJTOivuf545AB01vNXC8poKDh3x917OkC//Zfsqy2nAAfjJITQa6fZyMsa//TR/+XDtJ9qlADQebfNyRlkqqxwonArhvdGDFx8lfnMU2zUXK5HyggqSbXdgJ0ngytMblocN4b81g3oTZfPeZ2QT9Prwn6zn+2wqqvSM5RrGKlx8JjRh09N36bkcXeMaHgnlh15M8Dmz2KQwWoat7822W3JgLh0KvMWUGLs7wi9OQZ9pvYuH3WGLz8sIj4UBkaF3MwmV4e4KT15N99QE2PJLY2pETMyZjo4v3TvfWvasjRr3HhY/zNPs2rQvVt+9uw20TERERERERkcFoerjIp5qPvT94nOcONdEeAIvVjjszlztWbeT5n25i9RJX1P4B/CfiLz2eFSWDv2mhHXC6FgIOpl9vg04f3uZ6mvxgtU/CiZV5k+0QbOX4a+FnHqH4gWfZVeejIwiWJAdZs/JZ/Z1n2fHjxyjIssZf0eE49BYtXM+Slb1TpycW3tybgCae5193A5nh52ZMhtPHY4+QjBg5eRrv6b7T1VveTDDZzdzV3Om5ipYD0cmFhmG4bSIiIiIiIiIyCI20FPnUa6J2+6PUApaUbLLmzWTWzRl4ku3kLF9FZ/1ayvobXTkISzw7nT1CY2cuede48GDFNQH8dXW0UcNJX5B57lQ81oXclAK0n+JgwPTcQA17N9ewF7BOyiVnQTY50zNIS0qlcOW3aK/dSO3Qqp6AKl5+BG5fP58H1xtzx7u8B6jpnk90yLe/5ze8M5/0uVB3aAqeKdBUdhq4PvbuUVm9jcw5Yefo9CVQ9VBZXd7iEc5QPtw2ERERERERERmYgpYin2bL1rFlsYvzxzeydmsDwfYaqnfVUL3LSsGjz1PotJGcCiQUtKyntTOftGQH06eBN2pkZtKNDmPty45ToUcaOP5OgLxMB9Nvs5BCkNYzRwCobfOx2u3gpq+7SbVA+5mqntGb7jWbuHemjaY9K3lqDwRaqqjcMdLgGAAABHFJREFUXkUls1n94zXkjBsblUToQjJNIQeM7NnGFOuJhd/jTs9VPVu6vMU8Vxb57J4p4j57z9TwaL3lnDPW1zwdemyAxDbRa2C2HFjXG5w0BSyfKzO/4Nt0doMr1jTu7vf7jADtX/9tIiIiIiIiIjJcClqKfJodaaGzwIVzWj4eawPenlGMDqxXApwn4E+00AbKvT7y8hzM+9vb2LvOlIxnfD4rZtqBLrwHa3qe0djQQiAznZx5Y431LENTwINeHx2LU3F70oEOqt/oHUbYeLKD4Cw7rpuLSN5T0vsaVhtWCxAMYh6UecFMMRLRNIUT4kBv9uxD8C4/ZENZnydF/vPQW7TMv4FFGTY4/UqMwOAUPFOu6hNgnHj1VX32NKvbsS72lO9QwDIiiNnjNO91QfbV12MOWmbeeD10vRVf0HKQNhEREREREREZLgUtRT7Nzu6mrC6bezMzuPfJjVTXNdD5X2NxZmfjGQ/B5t+wK4E1LMP8Jdspcz1AoTOf9c+k4z1xik7LJGZlurCPgY7aV9hpjqbta6T11nTcVquxnmU42niigebu2djHAZ1NHDTX5fXd7L3lAQqdC1j/zCSqa1oI/IUdd2YGaWOg4+geKsP73vYYOxanQlsFK9eVDqWl+nf6OE3dHrJvyWXf6Sogl9tDIxjjXyPSyKyd7TlHzUv9j0S0mQKJEwu/Z4yi7O5399imLOPufgOWhrrXvcz56nxun1tl7DN3NUuuO0fNS3GulzkibSIiIiIiIiLSPwUtRT7VAng3r+Opovv42hdSyZlrpMcOBjrwVu5mW8mRuJLp9NVE+brH8d+zii95UsmZm2qU6/dx8Fcl7CxviCr3NU62fwW3E/y+Btp6Hq+i+fdF5Iyz4H+nzvR46DU2bsL/9SIKp7nIW+jqfY3dxmt8Mk6zb9MBkiPWb4yecj14Gd7T58iecgZvzKf1fQ26vbxwYDx3zp+MZwpxT9vOvMWDDbDNf5QH50du6wlknt7NcwfG86Bpn5YD63pHTcZxPMNvExEREREREZH+fWbSZNd/X+xKiIiIiIiIiIiIiIRddrErICIiIiIiIiIiImKmoKWIiIiIiIiIiIiMKgpaioiIiIiIiIiIyKiioKWIiIiIiIiIiIiMKgpaioiIiIiIiIiIyKiioKWIiIiIiIiIiIiMKgpaioiIiIiIiIiIyKiioKWIiIiIiIiIiIiMKgpaioiIiIiIiIiIyKiioKWIiIiIiIiIiIiMKgpaioiIiIiIiIiIyKiioKWIiIiIiIiIiIiMKgpaioiIiIiIiIiIyKiioKWIiIiIiIiIiIiMKgpaioiIiIiIiIiIyKiioKWIiIiIiIiIiIiMKgpaioiIiIiIiIiIyKiioKWIiIiIiIiIiIiMKgpaioiIiIiIiIiIyKiioKWIiIiIiIiIiIiMKgpaioiIiIiIiIiIyKiioKWIiIiIiIiIiIiMKgpaioiIiIiIiIiIyKiioKWIiIiIiIiIiIiMKgpaioiIiIiIiIiIyKjy/wFs8UjZG4zrcgAAAABJRU5ErkJggg==)"
      ],
      "metadata": {
        "id": "C732o8XH7etR"
      }
    },
    {
      "cell_type": "markdown",
      "source": [
        "Considering that every TV show has 10 Episodes and each episode has 55 minutes, it is 550 minutes per season.\n",
        "\n",
        "**Note**-- All this data is not concrete and cannot be trusted as it is being provided by random blogs on google.\n",
        "\n",
        "Let us convert each duration with season to minutes."
      ],
      "metadata": {
        "id": "XBSerMOa74Hn"
      }
    },
    {
      "cell_type": "code",
      "source": [
        "# Creating two different data-frames for Tv shows and Movies.\n",
        "\n",
        "tv_shows_data = data[data.type == 'TV Show'].copy()\n",
        "movie_data = data[data.type == 'Movie'].copy()"
      ],
      "metadata": {
        "id": "somrKWjS5sTC"
      },
      "execution_count": 26,
      "outputs": []
    },
    {
      "cell_type": "code",
      "source": [
        "tv_shows_data['dur_min']= tv_shows_data['duration'].str.split(' ').str[0]"
      ],
      "metadata": {
        "id": "i6HqT5sJ89NY"
      },
      "execution_count": 27,
      "outputs": []
    },
    {
      "cell_type": "code",
      "source": [
        "tv_shows_data['dur_min'] = tv_shows_data['dur_min'].astype(int)"
      ],
      "metadata": {
        "id": "a-L4nnY3_MY6"
      },
      "execution_count": 28,
      "outputs": []
    },
    {
      "cell_type": "code",
      "source": [
        "tv_shows_data['dur_min']= tv_shows_data['dur_min']*550"
      ],
      "metadata": {
        "id": "_Z1gHLYg_SAd"
      },
      "execution_count": 29,
      "outputs": []
    },
    {
      "cell_type": "code",
      "source": [
        "movie_data['duration'] = movie_data['duration'].str.split(' ').str[0]"
      ],
      "metadata": {
        "id": "_w5bsIoTC4d-"
      },
      "execution_count": 30,
      "outputs": []
    },
    {
      "cell_type": "code",
      "source": [
        "movie_data['duration'] = movie_data['duration'].astype(int)"
      ],
      "metadata": {
        "id": "7OQUPVDUDcHP"
      },
      "execution_count": 31,
      "outputs": []
    },
    {
      "cell_type": "code",
      "source": [
        "sns.set(style=\"darkgrid\")\n",
        "plt.figure(figsize = (12,5))\n",
        "sns.kdeplot(data = tv_shows_data.dur_min , shade=True)"
      ],
      "metadata": {
        "colab": {
          "base_uri": "https://localhost:8080/",
          "height": 356
        },
        "id": "w4piW_AvB9ew",
        "outputId": "24be048c-b6cd-41f1-ba50-bdb5653a3b5a"
      },
      "execution_count": 32,
      "outputs": [
        {
          "output_type": "execute_result",
          "data": {
            "text/plain": [
              "<matplotlib.axes._subplots.AxesSubplot at 0x7f9fcca03650>"
            ]
          },
          "metadata": {},
          "execution_count": 32
        },
        {
          "output_type": "display_data",
          "data": {
            "text/plain": [
              "<Figure size 864x360 with 1 Axes>"
            ],
            "image/png": "[encoded data removed]"
          },
          "metadata": {}
        }
      ]
    },
    {
      "cell_type": "code",
      "source": [
        "sns.set(style=\"darkgrid\")\n",
        "plt.figure(figsize = (15,6))\n",
        "sns.kdeplot(data = movie_data.duration , shade=True)\n",
        "# sns.kdeplot(data = tv_shows_data.dur_min , shade=True)\n",
        "# plt.legend()"
      ],
      "metadata": {
        "colab": {
          "base_uri": "https://localhost:8080/",
          "height": 411
        },
        "id": "B9RvHuX5CJC4",
        "outputId": "b1d13306-fcc7-4c5e-c189-e208e7965210"
      },
      "execution_count": 33,
      "outputs": [
        {
          "output_type": "execute_result",
          "data": {
            "text/plain": [
              "<matplotlib.axes._subplots.AxesSubplot at 0x7f9fccb08810>"
            ]
          },
          "metadata": {},
          "execution_count": 33
        },
        {
          "output_type": "display_data",
          "data": {
            "text/plain": [
              "<Figure size 1080x432 with 1 Axes>"
            ],
            "image/png": "[encoded data removed]"
          },
          "metadata": {}
        }
      ]
    },
    {
      "cell_type": "markdown",
      "source": [
        "Here we can clearly see the duration distribution of Movies and TV shows, We can safely say that the **null hypothesis is rejected.**"
      ],
      "metadata": {
        "id": "ebGXMUMpDug5"
      }
    },
    {
      "cell_type": "markdown",
      "source": [
        "\n",
        "\n",
        "---\n",
        "What are the different categories in the dataset. Let us find out.\n"
      ],
      "metadata": {
        "id": "L1oujfUZLGNT"
      }
    },
    {
      "cell_type": "code",
      "source": [
        "# Plotting the Category Distribution\n",
        "\n",
        "categories = \", \".join(data['listed_in']).split(\", \")\n",
        "unique_categories = set(categories)\n",
        "\n",
        "category_count = {}\n",
        "for cat in set(categories):\n",
        "  category_count[cat] = categories.count(cat)\n",
        "\n",
        "sorted_category_count = sorted(category_count.items(), key=lambda x: x[1], reverse = True)\n",
        "sorted_category_count[:10]"
      ],
      "metadata": {
        "colab": {
          "base_uri": "https://localhost:8080/"
        },
        "id": "3ohatcTALYI3",
        "outputId": "c58beabc-329c-4cc7-c837-7db6c00ec9ae"
      },
      "execution_count": 34,
      "outputs": [
        {
          "output_type": "execute_result",
          "data": {
            "text/plain": [
              "[('International Movies', 2437),\n",
              " ('Dramas', 2106),\n",
              " ('Comedies', 1471),\n",
              " ('International TV Shows', 1198),\n",
              " ('Documentaries', 786),\n",
              " ('Action & Adventure', 721),\n",
              " ('TV Dramas', 703),\n",
              " ('Independent Movies', 673),\n",
              " ('Children & Family Movies', 532),\n",
              " ('Romantic Movies', 531)]"
            ]
          },
          "metadata": {},
          "execution_count": 34
        }
      ]
    },
    {
      "cell_type": "code",
      "source": [
        "df = pd.DataFrame(sorted_category_count[:10], columns=['Category', 'Count'])"
      ],
      "metadata": {
        "id": "VQVDjlazPsCk"
      },
      "execution_count": 35,
      "outputs": []
    },
    {
      "cell_type": "code",
      "source": [
        "\n",
        "df.plot(figsize=(15, 6),x ='Category', y='Count', kind = 'bar')\n",
        "plt.show()"
      ],
      "metadata": {
        "colab": {
          "base_uri": "https://localhost:8080/",
          "height": 523
        },
        "id": "gbOxJZcpQFvb",
        "outputId": "e7917eeb-b995-41b1-b870-7e09071632aa"
      },
      "execution_count": 36,
      "outputs": [
        {
          "output_type": "display_data",
          "data": {
            "text/plain": [
              "<Figure size 1080x432 with 1 Axes>"
            ],
            "image/png": "[encoded data removed]"
          },
          "metadata": {}
        }
      ]
    },
    {
      "cell_type": "markdown",
      "source": [
        "Month wise releasing of content check\n",
        "TV show ratings distribution\n",
        "Movies ratings distribution\n",
        "\n",
        "NLP "
      ],
      "metadata": {
        "id": "l2-8Mz3lijN1"
      }
    },
    {
      "cell_type": "markdown",
      "source": [
        "**Lets check the trends of publishing content on the platform.**\n",
        "\n",
        "* Month wise publishing of content on platform.\n",
        "* Ratings of the movies and shows that are published\n",
        "* Distrubution of the ratings of the content."
      ],
      "metadata": {
        "id": "Fl2G-_8WlwhB"
      }
    },
    {
      "cell_type": "code",
      "source": [
        "data.head()"
      ],
      "metadata": {
        "colab": {
          "base_uri": "https://localhost:8080/",
          "height": 337
        },
        "id": "Bufax5ZEn6Tq",
        "outputId": "f772bace-1f20-43bb-ef48-d4b61f0ab09a"
      },
      "execution_count": 39,
      "outputs": [
        {
          "output_type": "execute_result",
          "data": {
            "text/plain": [
              "  show_id     type  title        country date_added  release_year rating  \\\n",
              "0      s1  TV Show     3%         Brazil 2020-08-14          2020  TV-MA   \n",
              "1      s2    Movie   7:19         Mexico 2016-12-23          2016  TV-MA   \n",
              "2      s3    Movie  23:59      Singapore 2018-12-20          2011      R   \n",
              "3      s4    Movie      9  United States 2017-11-16          2009  PG-13   \n",
              "4      s5    Movie     21  United States 2020-01-01          2008  PG-13   \n",
              "\n",
              "    duration                                          listed_in  \\\n",
              "0  4 Seasons  International TV Shows, TV Dramas, TV Sci-Fi &...   \n",
              "1     93 min                       Dramas, International Movies   \n",
              "2     78 min                Horror Movies, International Movies   \n",
              "3     80 min  Action & Adventure, Independent Movies, Sci-Fi...   \n",
              "4    123 min                                             Dramas   \n",
              "\n",
              "                                         description month_name_added  \\\n",
              "0  In a future where the elite inhabit an island ...           August   \n",
              "1  After a devastating earthquake hits Mexico Cit...         December   \n",
              "2  When an army recruit is found dead, his fellow...         December   \n",
              "3  In a postapocalyptic world, rag-doll robots hi...         November   \n",
              "4  A brilliant group of students become card-coun...          January   \n",
              "\n",
              "   year_added  \n",
              "0        2020  \n",
              "1        2016  \n",
              "2        2018  \n",
              "3        2017  \n",
              "4        2020  "
            ],
            "text/html": [
              "\n",
              "  <div id=\"df-bd6434d3-518b-42d1-8127-a04f2e4a1abf\">\n",
              "    <div class=\"colab-df-container\">\n",
              "      <div>\n",
              "<style scoped>\n",
              "    .dataframe tbody tr th:only-of-type {\n",
              "        vertical-align: middle;\n",
              "    }\n",
              "\n",
              "    .dataframe tbody tr th {\n",
              "        vertical-align: top;\n",
              "    }\n",
              "\n",
              "    .dataframe thead th {\n",
              "        text-align: right;\n",
              "    }\n",
              "</style>\n",
              "<table border=\"1\" class=\"dataframe\">\n",
              "  <thead>\n",
              "    <tr style=\"text-align: right;\">\n",
              "      <th></th>\n",
              "      <th>show_id</th>\n",
              "      <th>type</th>\n",
              "      <th>title</th>\n",
              "      <th>country</th>\n",
              "      <th>date_added</th>\n",
              "      <th>release_year</th>\n",
              "      <th>rating</th>\n",
              "      <th>duration</th>\n",
              "      <th>listed_in</th>\n",
              "      <th>description</th>\n",
              "      <th>month_name_added</th>\n",
              "      <th>year_added</th>\n",
              "    </tr>\n",
              "  </thead>\n",
              "  <tbody>\n",
              "    <tr>\n",
              "      <th>0</th>\n",
              "      <td>s1</td>\n",
              "      <td>TV Show</td>\n",
              "      <td>3%</td>\n",
              "      <td>Brazil</td>\n",
              "      <td>2020-08-14</td>\n",
              "      <td>2020</td>\n",
              "      <td>TV-MA</td>\n",
              "      <td>4 Seasons</td>\n",
              "      <td>International TV Shows, TV Dramas, TV Sci-Fi &amp;...</td>\n",
              "      <td>In a future where the elite inhabit an island ...</td>\n",
              "      <td>August</td>\n",
              "      <td>2020</td>\n",
              "    </tr>\n",
              "    <tr>\n",
              "      <th>1</th>\n",
              "      <td>s2</td>\n",
              "      <td>Movie</td>\n",
              "      <td>7:19</td>\n",
              "      <td>Mexico</td>\n",
              "      <td>2016-12-23</td>\n",
              "      <td>2016</td>\n",
              "      <td>TV-MA</td>\n",
              "      <td>93 min</td>\n",
              "      <td>Dramas, International Movies</td>\n",
              "      <td>After a devastating earthquake hits Mexico Cit...</td>\n",
              "      <td>December</td>\n",
              "      <td>2016</td>\n",
              "    </tr>\n",
              "    <tr>\n",
              "      <th>2</th>\n",
              "      <td>s3</td>\n",
              "      <td>Movie</td>\n",
              "      <td>23:59</td>\n",
              "      <td>Singapore</td>\n",
              "      <td>2018-12-20</td>\n",
              "      <td>2011</td>\n",
              "      <td>R</td>\n",
              "      <td>78 min</td>\n",
              "      <td>Horror Movies, International Movies</td>\n",
              "      <td>When an army recruit is found dead, his fellow...</td>\n",
              "      <td>December</td>\n",
              "      <td>2018</td>\n",
              "    </tr>\n",
              "    <tr>\n",
              "      <th>3</th>\n",
              "      <td>s4</td>\n",
              "      <td>Movie</td>\n",
              "      <td>9</td>\n",
              "      <td>United States</td>\n",
              "      <td>2017-11-16</td>\n",
              "      <td>2009</td>\n",
              "      <td>PG-13</td>\n",
              "      <td>80 min</td>\n",
              "      <td>Action &amp; Adventure, Independent Movies, Sci-Fi...</td>\n",
              "      <td>In a postapocalyptic world, rag-doll robots hi...</td>\n",
              "      <td>November</td>\n",
              "      <td>2017</td>\n",
              "    </tr>\n",
              "    <tr>\n",
              "      <th>4</th>\n",
              "      <td>s5</td>\n",
              "      <td>Movie</td>\n",
              "      <td>21</td>\n",
              "      <td>United States</td>\n",
              "      <td>2020-01-01</td>\n",
              "      <td>2008</td>\n",
              "      <td>PG-13</td>\n",
              "      <td>123 min</td>\n",
              "      <td>Dramas</td>\n",
              "      <td>A brilliant group of students become card-coun...</td>\n",
              "      <td>January</td>\n",
              "      <td>2020</td>\n",
              "    </tr>\n",
              "  </tbody>\n",
              "</table>\n",
              "</div>\n",
              "      <button class=\"colab-df-convert\" onclick=\"convertToInteractive('df-bd6434d3-518b-42d1-8127-a04f2e4a1abf')\"\n",
              "              title=\"Convert this dataframe to an interactive table.\"\n",
              "              style=\"display:none;\">\n",
              "        \n",
              "  <svg xmlns=\"http://www.w3.org/2000/svg\" height=\"24px\"viewBox=\"0 0 24 24\"\n",
              "       width=\"24px\">\n",
              "    <path d=\"M0 0h24v24H0V0z\" fill=\"none\"/>\n",
              "    <path d=\"M18.56 5.44l.94 2.06.94-2.06 2.06-.94-2.06-.94-.94-2.06-.94 2.06-2.06.94zm-11 1L8.5 8.5l.94-2.06 2.06-.94-2.06-.94L8.5 2.5l-.94 2.06-2.06.94zm10 10l.94 2.06.94-2.06 2.06-.94-2.06-.94-.94-2.06-.94 2.06-2.06.94z\"/><path d=\"M17.41 7.96l-1.37-1.37c-.4-.4-.92-.59-1.43-.59-.52 0-1.04.2-1.43.59L10.3 9.45l-7.72 7.72c-.78.78-.78 2.05 0 2.83L4 21.41c.39.39.9.59 1.41.59.51 0 1.02-.2 1.41-.59l7.78-7.78 2.81-2.81c.8-.78.8-2.07 0-2.86zM5.41 20L4 18.59l7.72-7.72 1.47 1.35L5.41 20z\"/>\n",
              "  </svg>\n",
              "      </button>\n",
              "      \n",
              "  <style>\n",
              "    .colab-df-container {\n",
              "      display:flex;\n",
              "      flex-wrap:wrap;\n",
              "      gap: 12px;\n",
              "    }\n",
              "\n",
              "    .colab-df-convert {\n",
              "      background-color: #E8F0FE;\n",
              "      border: none;\n",
              "      border-radius: 50%;\n",
              "      cursor: pointer;\n",
              "      display: none;\n",
              "      fill: #1967D2;\n",
              "      height: 32px;\n",
              "      padding: 0 0 0 0;\n",
              "      width: 32px;\n",
              "    }\n",
              "\n",
              "    .colab-df-convert:hover {\n",
              "      background-color: #E2EBFA;\n",
              "      box-shadow: 0px 1px 2px rgba(60, 64, 67, 0.3), 0px 1px 3px 1px rgba(60, 64, 67, 0.15);\n",
              "      fill: #174EA6;\n",
              "    }\n",
              "\n",
              "    [theme=dark] .colab-df-convert {\n",
              "      background-color: #3B4455;\n",
              "      fill: #D2E3FC;\n",
              "    }\n",
              "\n",
              "    [theme=dark] .colab-df-convert:hover {\n",
              "      background-color: #434B5C;\n",
              "      box-shadow: 0px 1px 3px 1px rgba(0, 0, 0, 0.15);\n",
              "      filter: drop-shadow(0px 1px 2px rgba(0, 0, 0, 0.3));\n",
              "      fill: #FFFFFF;\n",
              "    }\n",
              "  </style>\n",
              "\n",
              "      <script>\n",
              "        const buttonEl =\n",
              "          document.querySelector('#df-bd6434d3-518b-42d1-8127-a04f2e4a1abf button.colab-df-convert');\n",
              "        buttonEl.style.display =\n",
              "          google.colab.kernel.accessAllowed ? 'block' : 'none';\n",
              "\n",
              "        async function convertToInteractive(key) {\n",
              "          const element = document.querySelector('#df-bd6434d3-518b-42d1-8127-a04f2e4a1abf');\n",
              "          const dataTable =\n",
              "            await google.colab.kernel.invokeFunction('convertToInteractive',\n",
              "                                                     [key], {});\n",
              "          if (!dataTable) return;\n",
              "\n",
              "          const docLinkHtml = 'Like what you see? Visit the ' +\n",
              "            '<a target=\"_blank\" href=https://colab.research.google.com/notebooks/data_table.ipynb>data table notebook</a>'\n",
              "            + ' to learn more about interactive tables.';\n",
              "          element.innerHTML = '';\n",
              "          dataTable['output_type'] = 'display_data';\n",
              "          await google.colab.output.renderOutput(dataTable, element);\n",
              "          const docLink = document.createElement('div');\n",
              "          docLink.innerHTML = docLinkHtml;\n",
              "          element.appendChild(docLink);\n",
              "        }\n",
              "      </script>\n",
              "    </div>\n",
              "  </div>\n",
              "  "
            ]
          },
          "metadata": {},
          "execution_count": 39
        }
      ]
    },
    {
      "cell_type": "code",
      "source": [
        "# Plotting the month wise publishing distribution.\n",
        "\n",
        "month=data['month_name_added'].value_counts().reset_index()\n",
        "month.rename(columns={'index': 'Month'}, inplace=True)\n",
        "month.rename(columns={'month_name_added': 'Count'}, inplace=True)\n",
        "month.head(12)"
      ],
      "metadata": {
        "id": "I3mPQ3POQWgn",
        "colab": {
          "base_uri": "https://localhost:8080/",
          "height": 426
        },
        "outputId": "05f29cdc-6fa9-45e1-b86f-2548d39eccb6"
      },
      "execution_count": 53,
      "outputs": [
        {
          "output_type": "execute_result",
          "data": {
            "text/plain": [
              "        Month  Count\n",
              "0    December    833\n",
              "1     October    785\n",
              "2     January    757\n",
              "3    November    738\n",
              "4       March    669\n",
              "5   September    619\n",
              "6      August    618\n",
              "7       April    601\n",
              "8        July    600\n",
              "9         May    543\n",
              "10       June    542\n",
              "11   February    472"
            ],
            "text/html": [
              "\n",
              "  <div id=\"df-ecc4edc4-3441-40e5-86c7-f594342e205e\">\n",
              "    <div class=\"colab-df-container\">\n",
              "      <div>\n",
              "<style scoped>\n",
              "    .dataframe tbody tr th:only-of-type {\n",
              "        vertical-align: middle;\n",
              "    }\n",
              "\n",
              "    .dataframe tbody tr th {\n",
              "        vertical-align: top;\n",
              "    }\n",
              "\n",
              "    .dataframe thead th {\n",
              "        text-align: right;\n",
              "    }\n",
              "</style>\n",
              "<table border=\"1\" class=\"dataframe\">\n",
              "  <thead>\n",
              "    <tr style=\"text-align: right;\">\n",
              "      <th></th>\n",
              "      <th>Month</th>\n",
              "      <th>Count</th>\n",
              "    </tr>\n",
              "  </thead>\n",
              "  <tbody>\n",
              "    <tr>\n",
              "      <th>0</th>\n",
              "      <td>December</td>\n",
              "      <td>833</td>\n",
              "    </tr>\n",
              "    <tr>\n",
              "      <th>1</th>\n",
              "      <td>October</td>\n",
              "      <td>785</td>\n",
              "    </tr>\n",
              "    <tr>\n",
              "      <th>2</th>\n",
              "      <td>January</td>\n",
              "      <td>757</td>\n",
              "    </tr>\n",
              "    <tr>\n",
              "      <th>3</th>\n",
              "      <td>November</td>\n",
              "      <td>738</td>\n",
              "    </tr>\n",
              "    <tr>\n",
              "      <th>4</th>\n",
              "      <td>March</td>\n",
              "      <td>669</td>\n",
              "    </tr>\n",
              "    <tr>\n",
              "      <th>5</th>\n",
              "      <td>September</td>\n",
              "      <td>619</td>\n",
              "    </tr>\n",
              "    <tr>\n",
              "      <th>6</th>\n",
              "      <td>August</td>\n",
              "      <td>618</td>\n",
              "    </tr>\n",
              "    <tr>\n",
              "      <th>7</th>\n",
              "      <td>April</td>\n",
              "      <td>601</td>\n",
              "    </tr>\n",
              "    <tr>\n",
              "      <th>8</th>\n",
              "      <td>July</td>\n",
              "      <td>600</td>\n",
              "    </tr>\n",
              "    <tr>\n",
              "      <th>9</th>\n",
              "      <td>May</td>\n",
              "      <td>543</td>\n",
              "    </tr>\n",
              "    <tr>\n",
              "      <th>10</th>\n",
              "      <td>June</td>\n",
              "      <td>542</td>\n",
              "    </tr>\n",
              "    <tr>\n",
              "      <th>11</th>\n",
              "      <td>February</td>\n",
              "      <td>472</td>\n",
              "    </tr>\n",
              "  </tbody>\n",
              "</table>\n",
              "</div>\n",
              "      <button class=\"colab-df-convert\" onclick=\"convertToInteractive('df-ecc4edc4-3441-40e5-86c7-f594342e205e')\"\n",
              "              title=\"Convert this dataframe to an interactive table.\"\n",
              "              style=\"display:none;\">\n",
              "        \n",
              "  <svg xmlns=\"http://www.w3.org/2000/svg\" height=\"24px\"viewBox=\"0 0 24 24\"\n",
              "       width=\"24px\">\n",
              "    <path d=\"M0 0h24v24H0V0z\" fill=\"none\"/>\n",
              "    <path d=\"M18.56 5.44l.94 2.06.94-2.06 2.06-.94-2.06-.94-.94-2.06-.94 2.06-2.06.94zm-11 1L8.5 8.5l.94-2.06 2.06-.94-2.06-.94L8.5 2.5l-.94 2.06-2.06.94zm10 10l.94 2.06.94-2.06 2.06-.94-2.06-.94-.94-2.06-.94 2.06-2.06.94z\"/><path d=\"M17.41 7.96l-1.37-1.37c-.4-.4-.92-.59-1.43-.59-.52 0-1.04.2-1.43.59L10.3 9.45l-7.72 7.72c-.78.78-.78 2.05 0 2.83L4 21.41c.39.39.9.59 1.41.59.51 0 1.02-.2 1.41-.59l7.78-7.78 2.81-2.81c.8-.78.8-2.07 0-2.86zM5.41 20L4 18.59l7.72-7.72 1.47 1.35L5.41 20z\"/>\n",
              "  </svg>\n",
              "      </button>\n",
              "      \n",
              "  <style>\n",
              "    .colab-df-container {\n",
              "      display:flex;\n",
              "      flex-wrap:wrap;\n",
              "      gap: 12px;\n",
              "    }\n",
              "\n",
              "    .colab-df-convert {\n",
              "      background-color: #E8F0FE;\n",
              "      border: none;\n",
              "      border-radius: 50%;\n",
              "      cursor: pointer;\n",
              "      display: none;\n",
              "      fill: #1967D2;\n",
              "      height: 32px;\n",
              "      padding: 0 0 0 0;\n",
              "      width: 32px;\n",
              "    }\n",
              "\n",
              "    .colab-df-convert:hover {\n",
              "      background-color: #E2EBFA;\n",
              "      box-shadow: 0px 1px 2px rgba(60, 64, 67, 0.3), 0px 1px 3px 1px rgba(60, 64, 67, 0.15);\n",
              "      fill: #174EA6;\n",
              "    }\n",
              "\n",
              "    [theme=dark] .colab-df-convert {\n",
              "      background-color: #3B4455;\n",
              "      fill: #D2E3FC;\n",
              "    }\n",
              "\n",
              "    [theme=dark] .colab-df-convert:hover {\n",
              "      background-color: #434B5C;\n",
              "      box-shadow: 0px 1px 3px 1px rgba(0, 0, 0, 0.15);\n",
              "      filter: drop-shadow(0px 1px 2px rgba(0, 0, 0, 0.3));\n",
              "      fill: #FFFFFF;\n",
              "    }\n",
              "  </style>\n",
              "\n",
              "      <script>\n",
              "        const buttonEl =\n",
              "          document.querySelector('#df-ecc4edc4-3441-40e5-86c7-f594342e205e button.colab-df-convert');\n",
              "        buttonEl.style.display =\n",
              "          google.colab.kernel.accessAllowed ? 'block' : 'none';\n",
              "\n",
              "        async function convertToInteractive(key) {\n",
              "          const element = document.querySelector('#df-ecc4edc4-3441-40e5-86c7-f594342e205e');\n",
              "          const dataTable =\n",
              "            await google.colab.kernel.invokeFunction('convertToInteractive',\n",
              "                                                     [key], {});\n",
              "          if (!dataTable) return;\n",
              "\n",
              "          const docLinkHtml = 'Like what you see? Visit the ' +\n",
              "            '<a target=\"_blank\" href=https://colab.research.google.com/notebooks/data_table.ipynb>data table notebook</a>'\n",
              "            + ' to learn more about interactive tables.';\n",
              "          element.innerHTML = '';\n",
              "          dataTable['output_type'] = 'display_data';\n",
              "          await google.colab.output.renderOutput(dataTable, element);\n",
              "          const docLink = document.createElement('div');\n",
              "          docLink.innerHTML = docLinkHtml;\n",
              "          element.appendChild(docLink);\n",
              "        }\n",
              "      </script>\n",
              "    </div>\n",
              "  </div>\n",
              "  "
            ]
          },
          "metadata": {},
          "execution_count": 53
        }
      ]
    },
    {
      "cell_type": "code",
      "source": [
        "plt.figure(figsize=(15,6))\n",
        "#data['month_name_added'] = pd.to_datetime(data['month_name_added'])\n",
        "plt.title('Month wise Publishing')\n",
        "sns.countplot(x='month_name_added',data=data,order=data['month_name_added'].value_counts().index[:12],facecolor=(0, 0, 0, 0),linewidth=5, edgecolor=sns.color_palette(\"crest_r\"))\n",
        "plt.show()"
      ],
      "metadata": {
        "colab": {
          "base_uri": "https://localhost:8080/",
          "height": 410
        },
        "id": "nkvod329o6-Q",
        "outputId": "a12aeef5-31d0-4d45-a9d3-4dfe162bad1e"
      },
      "execution_count": 56,
      "outputs": [
        {
          "output_type": "display_data",
          "data": {
            "text/plain": [
              "<Figure size 1080x432 with 1 Axes>"
            ],
            "image/png": "[encoded data removed]"
          },
          "metadata": {}
        }
      ]
    },
    {
      "cell_type": "markdown",
      "source": [
        "By looking at the above chart we can see that the most of the content is published in the month of December. This is followed by October, January and November. These are the months where we have holidays and new year when people are mostly at home and chilling. The mid part of the year has consistent but low content publishings."
      ],
      "metadata": {
        "id": "V-vNmMxO-aNA"
      }
    },
    {
      "cell_type": "code",
      "source": [
        ""
      ],
      "metadata": {
        "id": "kGF8VxoU-XwW"
      },
      "execution_count": null,
      "outputs": []
    }
  ]
}